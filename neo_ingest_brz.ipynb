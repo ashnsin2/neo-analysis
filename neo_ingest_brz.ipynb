{
 "cells": [
  {
   "cell_type": "markdown",
   "metadata": {
    "application/vnd.databricks.v1+cell": {
     "cellMetadata": {
      "byteLimit": 2048000,
      "rowLimit": 10000
     },
     "inputWidgets": {},
     "nuid": "d223c7bd-a941-4a38-9252-c5a269d676d7",
     "showTitle": false,
     "tableResultSettingsMap": {},
     "title": ""
    }
   },
   "source": [
    "**Import libraries**"
   ]
  },
  {
   "cell_type": "code",
   "execution_count": 0,
   "metadata": {
    "application/vnd.databricks.v1+cell": {
     "cellMetadata": {
      "byteLimit": 2048000,
      "rowLimit": 10000
     },
     "inputWidgets": {},
     "nuid": "31fc3b7b-e92b-4cff-ae4a-a710c50c40d6",
     "showTitle": false,
     "tableResultSettingsMap": {},
     "title": ""
    }
   },
   "outputs": [],
   "source": [
    "import pandas as pd\n",
    "import requests\n",
    "from pyspark.sql import SparkSession\n",
    "from pyspark.sql.types import StructType, StructField, StringType, DoubleType\n",
    "from datetime import datetime"
   ]
  },
  {
   "cell_type": "markdown",
   "metadata": {
    "application/vnd.databricks.v1+cell": {
     "cellMetadata": {
      "byteLimit": 2048000,
      "rowLimit": 10000
     },
     "inputWidgets": {},
     "nuid": "edf33daa-d016-4ab2-b2da-34852d79c8e3",
     "showTitle": false,
     "tableResultSettingsMap": {},
     "title": ""
    }
   },
   "source": [
    "**Logging**"
   ]
  },
  {
   "cell_type": "code",
   "execution_count": 0,
   "metadata": {
    "application/vnd.databricks.v1+cell": {
     "cellMetadata": {
      "byteLimit": 2048000,
      "rowLimit": 10000
     },
     "inputWidgets": {},
     "nuid": "44c5919d-e430-49c8-bda4-4e02e5496221",
     "showTitle": false,
     "tableResultSettingsMap": {},
     "title": ""
    }
   },
   "outputs": [],
   "source": [
    "spark = SparkSession.builder.appName(\"Neo Ingestion\").getOrCreate()\n",
    "\n",
    "def log_event(level, message):\n",
    "    log_df = spark.createDataFrame([(datetime.now(), level, message)], [\"timestamp\", \"level\", \"message\"])\n",
    "    log_df.write.format(\"delta\").mode(\"append\").saveAsTable(\"neo_logs\")"
   ]
  },
  {
   "cell_type": "markdown",
   "metadata": {
    "application/vnd.databricks.v1+cell": {
     "cellMetadata": {
      "byteLimit": 2048000,
      "rowLimit": 10000
     },
     "inputWidgets": {},
     "nuid": "db785da0-4e49-4c8a-8a68-f8cade18305f",
     "showTitle": false,
     "tableResultSettingsMap": {},
     "title": ""
    }
   },
   "source": [
    "**Bronze layer - Ingestion: fetch data from Nasa NEO feed API**"
   ]
  },
  {
   "cell_type": "code",
   "execution_count": 0,
   "metadata": {
    "application/vnd.databricks.v1+cell": {
     "cellMetadata": {
      "byteLimit": 2048000,
      "rowLimit": 10000
     },
     "inputWidgets": {},
     "nuid": "ef41dab5-65aa-4e26-b01d-e4dfb042a4b9",
     "showTitle": false,
     "tableResultSettingsMap": {},
     "title": ""
    }
   },
   "outputs": [],
   "source": [
    "def extract_neo_data():\n",
    "    url = \"https://api.nasa.gov/neo/rest/v1/feed\"\n",
    "    orbit_url = \"https://api.nasa.gov/neo/rest/v1/neo/{}\"\n",
    "\n",
    "    params = {\n",
    "        \"start_date\": \"2015-09-07\",\n",
    "        \"end_date\": \"2015-09-08\",\n",
    "        \"api_key\": \"DEMO_KEY\"\n",
    "    }\n",
    "\n",
    "    response = requests.get(url, params=params)\n",
    "    data = response.json()\n",
    "    \n",
    "    # Bronze layer \n",
    "    # 1. fetch NEO data \n",
    "    neos = []\n",
    "    approaches = []\n",
    "\n",
    "    for date, objects in data['near_earth_objects'].items():\n",
    "        for obj in objects:\n",
    "            neos.append({\n",
    "                \"id\": obj[\"id\"],\n",
    "                \"name\": obj[\"name\"],\n",
    "                \"absolute_magnitude_h\": obj[\"absolute_magnitude_h\"],\n",
    "                \"estimated_diameter_min\": obj[\"estimated_diameter\"][\"meters\"][\"estimated_diameter_min\"],\n",
    "                \"estimated_diameter_max\": obj[\"estimated_diameter\"][\"meters\"][\"estimated_diameter_max\"],\n",
    "                \"is_potentially_hazardous\": obj[\"is_potentially_hazardous_asteroid\"]\n",
    "            })\n",
    "\n",
    "            for approach in obj[\"close_approach_data\"]:\n",
    "                approaches.append({\n",
    "                    \"neo_id\": obj[\"id\"],\n",
    "                    \"close_approach_date\": approach[\"close_approach_date\"],\n",
    "                    \"epoch_date_close_approach\": approach[\"epoch_date_close_approach\"],\n",
    "                    \"relative_velocity_km_h\": float(approach[\"relative_velocity\"][\"kilometers_per_hour\"]),\n",
    "                    \"relative_velocity_km_s\": float(approach[\"relative_velocity\"][\"kilometers_per_second\"]),\n",
    "                    \"miss_distance_km\": float(approach[\"miss_distance\"][\"kilometers\"]),\n",
    "                    \"orbiting_body\": approach[\"orbiting_body\"]\n",
    "                })\n",
    "\n",
    "    # 2. Fetch orbital details for each NEO\n",
    "    records = []\n",
    "    for neo in neos:\n",
    "        neo_id = neo[\"id\"]\n",
    "        detail_response = requests.get(orbit_url.format(neo_id), params={\"api_key\": \"DEMO_KEY\"}).json()\n",
    "        orbital = detail_response.get(\"orbital_data\", {})\n",
    "        records.append({\n",
    "            \"orbit_id\": neo_id,\n",
    "            \"orbit_name\": neo[\"name\"],\n",
    "            \"orbital_period_days\": float(orbital.get(\"orbital_period\", 0)),\n",
    "            \"orbital_period_years\": float(orbital.get(\"orbital_period\", 0)) / 365.25,\n",
    "            \"semi_major_axis\": float(orbital.get(\"semi_major_axis\", 0)),\n",
    "            \"eccentricity\": float(orbital.get(\"eccentricity\", 0)),\n",
    "            \"inclination\": float(orbital.get(\"inclination\", 0))\n",
    "        })\n",
    "\n",
    "        # Convert to Spark DataFrame\n",
    "        schema = StructType([\n",
    "            StructField(\"orbit_id\", StringType(), True),\n",
    "            StructField(\"orbit_name\", StringType(), True),\n",
    "            StructField(\"orbital_period_days\", DoubleType(), True),\n",
    "            StructField(\"orbital_period_years\", DoubleType(), True),\n",
    "            StructField(\"semi_major_axis\", DoubleType(), True),\n",
    "            StructField(\"eccentricity\", DoubleType(), True),\n",
    "            StructField(\"inclination\", DoubleType(), True)\n",
    "        ])\n",
    "\n",
    "        df_orbit = spark.createDataFrame(pd.DataFrame(records), schema=schema)\n",
    "\n",
    "    # Convert to spark dataframe\n",
    "    df_neos = spark.createDataFrame(pd.DataFrame(neos))\n",
    "    df_approaches = spark.createDataFrame(pd.DataFrame(approaches))\n",
    "\n",
    "    return df_neos, df_approaches, df_orbit\n"
   ]
  },
  {
   "cell_type": "markdown",
   "metadata": {
    "application/vnd.databricks.v1+cell": {
     "cellMetadata": {
      "byteLimit": 2048000,
      "rowLimit": 10000
     },
     "inputWidgets": {},
     "nuid": "ef5f34e3-4ac9-41c7-a2ce-93818709a034",
     "showTitle": false,
     "tableResultSettingsMap": {},
     "title": ""
    }
   },
   "source": [
    "**Bronze layer : load neos, approaches and neo_orbits tables**"
   ]
  },
  {
   "cell_type": "code",
   "execution_count": 0,
   "metadata": {
    "application/vnd.databricks.v1+cell": {
     "cellMetadata": {
      "byteLimit": 2048000,
      "rowLimit": 10000
     },
     "inputWidgets": {},
     "nuid": "ef9ee434-f023-4489-90b7-52d61a883330",
     "showTitle": false,
     "tableResultSettingsMap": {},
     "title": ""
    }
   },
   "outputs": [],
   "source": [
    "def write_bronze(df_neos, df_approaches, df_orbit):\n",
    "    df_neos.write.format(\"delta\").mode(\"overwrite\").saveAsTable(\"neos\")\n",
    "    df_approaches.write.format(\"delta\").mode(\"overwrite\").saveAsTable(\"approaches\")\n",
    "    df_orbit.write.format(\"delta\").mode(\"overwrite\").saveAsTable(\"neo_orbits\")"
   ]
  },
  {
   "cell_type": "markdown",
   "metadata": {
    "application/vnd.databricks.v1+cell": {
     "cellMetadata": {
      "byteLimit": 2048000,
      "rowLimit": 10000
     },
     "inputWidgets": {},
     "nuid": "47ee36e5-1693-491d-8c2d-56c3382a515b",
     "showTitle": false,
     "tableResultSettingsMap": {},
     "title": ""
    }
   },
   "source": [
    "**Call function to build tables**"
   ]
  },
  {
   "cell_type": "code",
   "execution_count": 0,
   "metadata": {
    "application/vnd.databricks.v1+cell": {
     "cellMetadata": {
      "byteLimit": 2048000,
      "rowLimit": 10000
     },
     "inputWidgets": {},
     "nuid": "8d97daa8-492a-4c58-a52e-eeee90d0c346",
     "showTitle": false,
     "tableResultSettingsMap": {},
     "title": ""
    }
   },
   "outputs": [],
   "source": [
    "try:\n",
    "    log_event(\"INFO\", \"Neo ingestion started\")\n",
    "    neos_df, approaches_df, orbits_df = extract_neo_data();\n",
    "    write_bronze(neos_df, approaches_df, orbits_df)\n",
    "    log_event(\"SUCCESS\", \"Neo ingestion completed\")   \n",
    "except Exception as e:\n",
    "    log_event(\"ERROR\", f\"Neo ingestion failed: {str(e)}\")\n",
    "    raise e\n"
   ]
  }
 ],
 "metadata": {
  "application/vnd.databricks.v1+notebook": {
   "computePreferences": null,
   "dashboards": [],
   "environmentMetadata": {
    "base_environment": "",
    "environment_version": "3"
   },
   "inputWidgetPreferences": null,
   "language": "python",
   "notebookMetadata": {
    "pythonIndentUnit": 4
   },
   "notebookName": "neo_ingest_brz",
   "widgets": {}
  },
  "language_info": {
   "name": "python"
  }
 },
 "nbformat": 4,
 "nbformat_minor": 0
}