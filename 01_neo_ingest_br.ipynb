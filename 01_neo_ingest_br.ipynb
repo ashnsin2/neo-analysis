{
 "cells": [
  {
   "cell_type": "markdown",
   "metadata": {
    "application/vnd.databricks.v1+cell": {
     "cellMetadata": {
      "byteLimit": 2048000,
      "rowLimit": 10000
     },
     "inputWidgets": {},
     "nuid": "b1c52132-c595-494c-88bb-edc169798bf8",
     "showTitle": false,
     "tableResultSettingsMap": {},
     "title": ""
    }
   },
   "source": [
    "**Import libraries**"
   ]
  },
  {
   "cell_type": "code",
   "execution_count": 0,
   "metadata": {
    "application/vnd.databricks.v1+cell": {
     "cellMetadata": {
      "byteLimit": 2048000,
      "rowLimit": 10000
     },
     "inputWidgets": {},
     "nuid": "af363cde-25f8-432d-a0f7-41726d87f79c",
     "showTitle": false,
     "tableResultSettingsMap": {},
     "title": ""
    }
   },
   "outputs": [],
   "source": [
    "import pandas as pd\n",
    "import requests\n",
    "import json\n",
    "from pyspark.sql import SparkSession\n",
    "from pyspark.sql.types import StructType, StructField, StringType, DoubleType\n",
    "from datetime import datetime"
   ]
  },
  {
   "cell_type": "markdown",
   "metadata": {
    "application/vnd.databricks.v1+cell": {
     "cellMetadata": {
      "byteLimit": 2048000,
      "rowLimit": 10000
     },
     "inputWidgets": {},
     "nuid": "3d2d95f3-332e-4298-b7b8-fa820fb6241d",
     "showTitle": false,
     "tableResultSettingsMap": {},
     "title": ""
    }
   },
   "source": [
    "**Logging**"
   ]
  },
  {
   "cell_type": "code",
   "execution_count": 0,
   "metadata": {
    "application/vnd.databricks.v1+cell": {
     "cellMetadata": {
      "byteLimit": 2048000,
      "rowLimit": 10000
     },
     "inputWidgets": {},
     "nuid": "3adbda82-ccab-4f9d-9a2a-b879abd6f0f9",
     "showTitle": false,
     "tableResultSettingsMap": {},
     "title": ""
    }
   },
   "outputs": [],
   "source": [
    "spark = SparkSession.builder.appName(\"Neo Ingestion\").getOrCreate()\n",
    "\n",
    "def log_event(level, message):\n",
    "    log_df = spark.createDataFrame([(datetime.now(), level, message)],[\"timestamp\", \"level\", \"message\"])\n",
    "    log_df.write.format(\"delta\").mode(\"append\").saveAsTable(\"neo_logs\")\n",
    "    \n"
   ]
  },
  {
   "cell_type": "markdown",
   "metadata": {
    "application/vnd.databricks.v1+cell": {
     "cellMetadata": {
      "byteLimit": 2048000,
      "rowLimit": 10000
     },
     "inputWidgets": {},
     "nuid": "a3a34757-482c-45c8-8c31-e43ee30be2d4",
     "showTitle": false,
     "tableResultSettingsMap": {},
     "title": ""
    }
   },
   "source": [
    "**Fucntion: extract_neo_data to fetch and store raw data as dataframe from NEO API**"
   ]
  },
  {
   "cell_type": "code",
   "execution_count": 0,
   "metadata": {
    "application/vnd.databricks.v1+cell": {
     "cellMetadata": {
      "byteLimit": 2048000,
      "rowLimit": 10000
     },
     "inputWidgets": {},
     "nuid": "646e072b-1577-4c47-acea-5f5025f91b0b",
     "showTitle": false,
     "tableResultSettingsMap": {},
     "title": ""
    },
    "jupyter": {
     "outputs_hidden": true
    }
   },
   "outputs": [],
   "source": [
    "def extract_neo_data():\n",
    "    url = \"https://api.nasa.gov/neo/rest/v1/feed\"\n",
    "    orbit_url = \"https://api.nasa.gov/neo/rest/v1/neo/{}\"\n",
    "\n",
    "    params = {\n",
    "        \"start_date\": \"2015-09-07\",\n",
    "        \"end_date\": \"2015-09-08\",\n",
    "        \"api_key\": \"DEMO_KEY\"\n",
    "    }\n",
    "\n",
    "    try:\n",
    "        response = requests.get(url, params=params)\n",
    "        response.raise_for_status()  # Raise an exception for HTTP errors\n",
    "        data = response.json()\n",
    "    except requests.exceptions.RequestException as e:\n",
    "        log_event(\"ERROR\", f\"Error fetching data from NEO API: {e}\")\n",
    "    \n",
    "    # Bronze layer \n",
    "    # 1. fetch NEO data \n",
    "    neos = []\n",
    "    approaches = []\n",
    "\n",
    "    for date, objects in data['near_earth_objects'].items():\n",
    "        for obj in objects:\n",
    "            neos.append({\n",
    "                \"id\": obj[\"id\"],\n",
    "                \"name\": obj[\"name\"],\n",
    "                \"absolute_magnitude_h\": obj[\"absolute_magnitude_h\"],\n",
    "                \"estimated_diameter_min\": obj[\"estimated_diameter\"][\"meters\"][\"estimated_diameter_min\"],\n",
    "                \"estimated_diameter_max\": obj[\"estimated_diameter\"][\"meters\"][\"estimated_diameter_max\"],\n",
    "                \"is_potentially_hazardous\": obj[\"is_potentially_hazardous_asteroid\"]\n",
    "            })\n",
    "\n",
    "            for approach in obj[\"close_approach_data\"]:\n",
    "                approaches.append({\n",
    "                    \"neo_id\": obj[\"id\"],\n",
    "                    \"close_approach_date\": approach[\"close_approach_date\"],\n",
    "                    \"epoch_date_close_approach\": approach[\"epoch_date_close_approach\"],\n",
    "                    \"relative_velocity_km_h\": float(approach[\"relative_velocity\"][\"kilometers_per_hour\"]),\n",
    "                    \"relative_velocity_km_s\": float(approach[\"relative_velocity\"][\"kilometers_per_second\"]),\n",
    "                    \"miss_distance_km\": float(approach[\"miss_distance\"][\"kilometers\"]),\n",
    "                    \"orbiting_body\": approach[\"orbiting_body\"]\n",
    "                })\n",
    "\n",
    "    # 2. Fetch orbital details for each NEO\n",
    "    orbit = []\n",
    "    for neo in neos:\n",
    "        neo_id = neo[\"id\"]\n",
    "        detail_response = requests.get(orbit_url.format(neo_id), params={\"api_key\": \"DEMO_KEY\"}).json()\n",
    "        orbital = detail_response.get(\"orbital_data\", {})\n",
    "        orbit.append({\n",
    "            \"orbit_id\": neo_id,\n",
    "            \"orbit_name\": neo[\"name\"],\n",
    "            \"orbital_period_days\": float(orbital.get(\"orbital_period\", 0)),\n",
    "            \"orbital_period_years\": float(orbital.get(\"orbital_period\", 0)) / 365.25,\n",
    "            \"semi_major_axis\": float(orbital.get(\"semi_major_axis\", 0)),\n",
    "            \"eccentricity\": float(orbital.get(\"eccentricity\", 0)),\n",
    "            \"inclination\": float(orbital.get(\"inclination\", 0))\n",
    "        })\n",
    "\n",
    "        # Convert to Spark DataFrame\n",
    "        orbit_schema = StructType([\n",
    "            StructField(\"orbit_id\", StringType(), True),\n",
    "            StructField(\"orbit_name\", StringType(), True),\n",
    "            StructField(\"orbital_period_days\", DoubleType(), True),\n",
    "            StructField(\"orbital_period_years\", DoubleType(), True),\n",
    "            StructField(\"semi_major_axis\", DoubleType(), True),\n",
    "            StructField(\"eccentricity\", DoubleType(), True),\n",
    "            StructField(\"inclination\", DoubleType(), True)\n",
    "        ])\n",
    "\n",
    "        df_orbit = spark.createDataFrame(pd.DataFrame(orbit), schema=orbit_schema)\n",
    "\n",
    "    # Convert to spark dataframe\n",
    "    df_neos = spark.createDataFrame(pd.DataFrame(neos))\n",
    "    df_approaches = spark.createDataFrame(pd.DataFrame(approaches))\n",
    "\n",
    "    return df_neos, df_approaches, df_orbit\n",
    "\n",
    "\n"
   ]
  },
  {
   "cell_type": "markdown",
   "metadata": {
    "application/vnd.databricks.v1+cell": {
     "cellMetadata": {
      "byteLimit": 2048000,
      "rowLimit": 10000
     },
     "inputWidgets": {},
     "nuid": "c797f84c-f867-4951-a3ef-fd67361efbd4",
     "showTitle": false,
     "tableResultSettingsMap": {},
     "title": ""
    }
   },
   "source": [
    "**Write to bronze tables: neos, approaches, orbits**"
   ]
  },
  {
   "cell_type": "code",
   "execution_count": 0,
   "metadata": {
    "application/vnd.databricks.v1+cell": {
     "cellMetadata": {
      "byteLimit": 2048000,
      "rowLimit": 10000
     },
     "inputWidgets": {},
     "nuid": "f15d8187-bf29-4e67-8f94-790c12232f48",
     "showTitle": false,
     "tableResultSettingsMap": {},
     "title": ""
    }
   },
   "outputs": [],
   "source": [
    "def write_bronze(df, table_name):\n",
    "    try:\n",
    "        if df.isEmpty():\n",
    "            log_event(\"INFO\", f\"No data to write to bronze table: {table_name}\")\n",
    "            return\n",
    "        df.write.format(\"delta\").option(\"mergeSchema\", \"true\").mode(\"append\").saveAsTable(table_name)\n",
    "        log_event(\"INFO\", f\"Data written to bronze table: {table_name}\")\n",
    "    except Exception as e:\n",
    "        log_event(\"ERROR\", f\"Error writing data to bronze table: {table_name}. Error: {e}\")\n",
    "        raise e"
   ]
  },
  {
   "cell_type": "markdown",
   "metadata": {
    "application/vnd.databricks.v1+cell": {
     "cellMetadata": {
      "byteLimit": 2048000,
      "rowLimit": 10000
     },
     "inputWidgets": {},
     "nuid": "81343875-fd01-4e27-ad61-b2c48f3e21bb",
     "showTitle": false,
     "tableResultSettingsMap": {},
     "title": ""
    }
   },
   "source": [
    "**Orchestrate the pipeline**"
   ]
  },
  {
   "cell_type": "code",
   "execution_count": 0,
   "metadata": {
    "application/vnd.databricks.v1+cell": {
     "cellMetadata": {
      "byteLimit": 2048000,
      "rowLimit": 10000
     },
     "inputWidgets": {},
     "nuid": "626128db-ef6f-417f-804d-c64a1cf09753",
     "showTitle": false,
     "tableResultSettingsMap": {},
     "title": ""
    }
   },
   "outputs": [],
   "source": [
    "def run_neo_ingestion():\n",
    "  neo_df, aprroaches_df, orbit_df = extract_neo_data()\n",
    "  write_bronze(neo_df, \"neos\")\n",
    "  write_bronze(aprroaches_df, \"approaches\")\n",
    "  write_bronze(orbit_df, \"orbits\")\n",
    "  "
   ]
  },
  {
   "cell_type": "markdown",
   "metadata": {
    "application/vnd.databricks.v1+cell": {
     "cellMetadata": {
      "byteLimit": 2048000,
      "rowLimit": 10000
     },
     "inputWidgets": {},
     "nuid": "6e4c5521-48c1-4f79-b1d3-a3e21566ad6c",
     "showTitle": false,
     "tableResultSettingsMap": {},
     "title": ""
    }
   },
   "source": [
    "**Run the Ingestion pipeline**"
   ]
  },
  {
   "cell_type": "code",
   "execution_count": 0,
   "metadata": {
    "application/vnd.databricks.v1+cell": {
     "cellMetadata": {
      "byteLimit": 2048000,
      "rowLimit": 10000
     },
     "inputWidgets": {},
     "nuid": "8877dbbc-c0ad-43c3-aa57-1c1df5f0890d",
     "showTitle": false,
     "tableResultSettingsMap": {},
     "title": ""
    }
   },
   "outputs": [],
   "source": [
    "run_neo_ingestion()"
   ]
  }
 ],
 "metadata": {
  "application/vnd.databricks.v1+notebook": {
   "computePreferences": null,
   "dashboards": [],
   "environmentMetadata": {
    "base_environment": "",
    "environment_version": "3"
   },
   "inputWidgetPreferences": null,
   "language": "python",
   "notebookMetadata": {
    "pythonIndentUnit": 4
   },
   "notebookName": "01_neo_ingest_br",
   "widgets": {}
  },
  "language_info": {
   "name": "python"
  }
 },
 "nbformat": 4,
 "nbformat_minor": 0
}