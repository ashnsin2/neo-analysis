{
 "cells": [
  {
   "cell_type": "code",
   "execution_count": 0,
   "metadata": {
    "application/vnd.databricks.v1+cell": {
     "cellMetadata": {
      "byteLimit": 2048000,
      "rowLimit": 10000
     },
     "inputWidgets": {},
     "nuid": "257e399a-d699-487c-926a-ae58891c7316",
     "showTitle": false,
     "tableResultSettingsMap": {},
     "title": ""
    }
   },
   "outputs": [],
   "source": [
    "# load libraries\n",
    "from pyspark.sql import SparkSession\n",
    "from pyspark.sql.functions import when, col, lit, to_date, log10, round\n",
    "from datetime import datetime, timedelta\n",
    "\n",
    "spark = SparkSession.builder.appName(\"Neo Analysis\").getOrCreate()\n",
    "\n",
    "# Logging \n",
    "def log_event(level, message):\n",
    "    log_df = spark.createDataFrame([(datetime.now(), level, message)], [\"timestamp\", \"level\", \"message\"])\n",
    "    log_df.write.format(\"delta\").mode(\"append\").saveAsTable(\"neo_logs\")\n",
    "\n",
    "# Step 3 : Gold layer - create table with aggregates (Analytical views)\n",
    "def create_gold():\n",
    "    df_silver = spark.table(\"neo_approaches\")\n",
    "    df_gold = df_silver.select(\n",
    "        \"neo_id\",\n",
    "        \"name\",\n",
    "        \"close_approach_date\",\n",
    "        round(col(\"estimated_diameter_min\"), 2).alias(\"diameter_min_m\"),\n",
    "        round(col(\"estimated_diameter_max\"), 2).alias(\"diameter_max_m\"),\n",
    "        round(col(\"absolute_magnitude_h\"), 2).alias(\"absolute_magnitude_h\"),  \n",
    "        round(col(\"relative_velocity_km_h\"), 2).alias(\"velocity_km_h\"),\n",
    "        round(col(\"relative_velocity_km_s\"), 2).alias(\"velocity_km_s\"),\n",
    "        \"miss_distance_km\",\n",
    "        round(col(\"miss_distance_km\"), 2).alias(\"miss_distance_abs_km\"),            \n",
    "        \"size_avg\",\n",
    "        \"size_category\",\n",
    "        \"size_category_label\",\n",
    "        \"in_50yr_window\",\n",
    "        round(col(\"orbital_period_days\"), 2).alias(\"orbital_period_days\"),         \n",
    "        round(col(\"orbital_period_years\"), 2).alias(\"orbital_period_years\"),          \n",
    "        \"is_potentially_hazardous\",\n",
    "        \"hazard_level\",\n",
    "        \"hazard_category\",\n",
    "        \"distance_category\",\n",
    "        \"log_diameter_max\",\n",
    "        \"log_miss_distance\"\n",
    "        ).filter(\n",
    "            col(\"estimated_diameter_min\").isNotNull() & \n",
    "            col(\"estimated_diameter_max\").isNotNull() &\n",
    "            col(\"orbital_period_years\").isNotNull() &\n",
    "            col(\"miss_distance_km\").isNotNull()\n",
    "        ).filter(col(\"in_50yr_window\") == True) \n",
    "\n",
    "    df_gold.write.format(\"delta\").mode(\"overwrite\").option(\"mergeSchema\", \"true\").saveAsTable(\"neo_analysis\")\n",
    "\n",
    "# Call data pipeline process \n",
    "try:\n",
    "    log_event(\"INFO\", \"Neo load started\")\n",
    "\n",
    "    create_gold()\n",
    "\n",
    "    log_event(\"SUCCESS\", \"Neo load completed\")   \n",
    "except Exception as e:\n",
    "    log_event(\"ERROR\", f\"Neo load failed: {str(e)}\")\n",
    "    raise e"
   ]
  }
 ],
 "metadata": {
  "application/vnd.databricks.v1+notebook": {
   "computePreferences": null,
   "dashboards": [],
   "environmentMetadata": {
    "base_environment": "",
    "environment_version": "3"
   },
   "inputWidgetPreferences": null,
   "language": "python",
   "notebookMetadata": {
    "pythonIndentUnit": 4
   },
   "notebookName": "neo_aggr_gld",
   "widgets": {}
  },
  "language_info": {
   "name": "python"
  }
 },
 "nbformat": 4,
 "nbformat_minor": 0
}