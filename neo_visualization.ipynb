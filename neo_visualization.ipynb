{
 "cells": [
  {
   "cell_type": "markdown",
   "metadata": {
    "application/vnd.databricks.v1+cell": {
     "cellMetadata": {
      "byteLimit": 2048000,
      "rowLimit": 10000
     },
     "inputWidgets": {},
     "nuid": "769fdf4f-4ecf-4d4c-976c-acbc2c0df142",
     "showTitle": false,
     "tableResultSettingsMap": {},
     "title": ""
    }
   },
   "source": [
    "# User Story 1:"
   ]
  },
  {
   "cell_type": "markdown",
   "metadata": {
    "application/vnd.databricks.v1+cell": {
     "cellMetadata": {
      "byteLimit": 2048000,
      "rowLimit": 10000
     },
     "inputWidgets": {},
     "nuid": "da00aa22-b7d4-46c5-b8ba-7e0ece117b27",
     "showTitle": false,
     "tableResultSettingsMap": {},
     "title": ""
    }
   },
   "source": [
    "**AC-1: The system should provide detailed analysis of near-Earth \n",
    "objects including size metrics, orbital period calculations, \n",
    "and hazard classifications.**"
   ]
  },
  {
   "cell_type": "markdown",
   "metadata": {
    "application/vnd.databricks.v1+cell": {
     "cellMetadata": {
      "byteLimit": 2048000,
      "rowLimit": 10000
     },
     "inputWidgets": {},
     "nuid": "4e3d79c6-3279-458e-90c9-e8d82864b452",
     "showTitle": false,
     "tableResultSettingsMap": {},
     "title": ""
    }
   },
   "source": [
    "1. Size distribution"
   ]
  },
  {
   "cell_type": "code",
   "execution_count": 0,
   "metadata": {
    "application/vnd.databricks.v1+cell": {
     "cellMetadata": {
      "byteLimit": 2048000,
      "implicitDf": true,
      "rowLimit": 10000
     },
     "inputWidgets": {},
     "nuid": "48e24608-c2f7-498b-88c3-04be521246e8",
     "showTitle": false,
     "tableResultSettingsMap": {},
     "title": ""
    }
   },
   "outputs": [
    {
     "output_type": "display_data",
     "data": {
      "text/html": [
       "<style scoped>\n",
       "  .table-result-container {\n",
       "    max-height: 300px;\n",
       "    overflow: auto;\n",
       "  }\n",
       "  table, th, td {\n",
       "    border: 1px solid black;\n",
       "    border-collapse: collapse;\n",
       "  }\n",
       "  th, td {\n",
       "    padding: 5px;\n",
       "  }\n",
       "  th {\n",
       "    text-align: left;\n",
       "  }\n",
       "</style><div class='table-result-container'><table class='table-result'><thead style='background-color: white'><tr><th>size_category</th><th>size_category_label</th><th>count</th></tr></thead><tbody><tr><td>100m-500m</td><td>Medium</td><td>11</td></tr><tr><td>50-100m</td><td>Small</td><td>7</td></tr><tr><td>10-50m</td><td>Small</td><td>6</td></tr><tr><td><10m</td><td>Small</td><td>2</td></tr><tr><td>>500m</td><td>Large</td><td>1</td></tr></tbody></table></div>"
      ]
     },
     "metadata": {
      "application/vnd.databricks.v1+output": {
       "addedWidgets": {},
       "aggData": [],
       "aggError": "",
       "aggOverflow": false,
       "aggSchema": [],
       "aggSeriesLimitReached": false,
       "aggType": "",
       "arguments": {},
       "columnCustomDisplayInfos": {},
       "data": [
        [
         "100m-500m",
         "Medium",
         11
        ],
        [
         "50-100m",
         "Small",
         7
        ],
        [
         "10-50m",
         "Small",
         6
        ],
        [
         "<10m",
         "Small",
         2
        ],
        [
         ">500m",
         "Large",
         1
        ]
       ],
       "datasetInfos": [
        {
         "name": "_sqldf",
         "schema": {
          "fields": [
           {
            "metadata": {},
            "name": "size_category",
            "nullable": true,
            "type": "string"
           },
           {
            "metadata": {},
            "name": "size_category_label",
            "nullable": true,
            "type": "string"
           },
           {
            "metadata": {},
            "name": "count",
            "nullable": false,
            "type": "long"
           }
          ],
          "type": "struct"
         },
         "tableIdentifier": null,
         "typeStr": "pyspark.sql.connect.dataframe.DataFrame"
        }
       ],
       "dbfsResultPath": null,
       "isJsonSchema": true,
       "metadata": {
        "createTempViewForImplicitDf": true,
        "dataframeName": "_sqldf",
        "executionCount": 6
       },
       "overflow": false,
       "plotOptions": {
        "customPlotOptions": {},
        "displayType": "table",
        "pivotAggregation": null,
        "pivotColumns": null,
        "xColumns": null,
        "yColumns": null
       },
       "removedWidgets": [],
       "schema": [
        {
         "metadata": "{}",
         "name": "size_category",
         "type": "\"string\""
        },
        {
         "metadata": "{}",
         "name": "size_category_label",
         "type": "\"string\""
        },
        {
         "metadata": "{}",
         "name": "count",
         "type": "\"long\""
        }
       ],
       "type": "table"
      }
     },
     "output_type": "display_data"
    },
    {
     "output_type": "display_data",
     "data": {
      "text/plain": [
       "Databricks visualization. Run in Databricks to view."
      ]
     },
     "metadata": {
      "application/vnd.databricks.v1.subcommand+json": {
       "baseErrorDetails": null,
       "bindings": {},
       "collapsed": false,
       "command": "%sql WITH q AS (SELECT size_category\n     , size_category_label\n     , COUNT(*) AS count\nFROM neo_analysis\nGROUP by size_category, size_category_label\nORDER BY count DESC) SELECT `size_category`,`size_category_label`,SUM(`count`) `column_6df89cfb246` FROM q GROUP BY `size_category_label`,`size_category`",
       "commandTitle": "Size Distribution",
       "commandType": "auto",
       "commandVersion": 0,
       "commentThread": [],
       "commentsVisible": false,
       "contentSha256Hex": null,
       "customPlotOptions": {
        "redashChart": [
         {
          "key": "type",
          "value": "CHART"
         },
         {
          "key": "options",
          "value": {
           "alignYAxesAtZero": true,
           "coefficient": 1,
           "columnConfigurationMap": {
            "series": {
             "column": "size_category_label",
             "id": "column_6df89cfb245"
            },
            "x": {
             "column": "size_category",
             "id": "column_6df89cfb244"
            },
            "y": [
             {
              "column": "count",
              "id": "column_6df89cfb246",
              "transform": "SUM"
             }
            ]
           },
           "dateTimeFormat": "DD/MM/YYYY HH:mm",
           "direction": {
            "type": "counterclockwise"
           },
           "error_y": {
            "type": "data",
            "visible": true
           },
           "globalSeriesType": "column",
           "isAggregationOn": true,
           "legend": {
            "traceorder": "normal"
           },
           "missingValuesAsZero": true,
           "numberFormat": "0,0.[00000]",
           "percentFormat": "0[.]00%",
           "series": {
            "error_y": {
             "type": "data",
             "visible": true
            },
            "stacking": "stack"
           },
           "seriesOptions": {
            "column_6df89cfb246": {
             "name": "count",
             "yAxis": 0
            }
           },
           "showDataLabels": false,
           "sizemode": "diameter",
           "sortX": false,
           "sortY": true,
           "swappedAxes": true,
           "textFormat": "",
           "useAggregationsUi": true,
           "valuesOptions": {},
           "version": 2,
           "xAxis": {
            "labels": {
             "enabled": true
            },
            "title": {
             "text": "Objects Size (in meter)"
            },
            "type": "-"
           },
           "yAxis": [
            {
             "title": {
              "text": "Object Count"
             },
             "type": "-"
            },
            {
             "opposite": true,
             "type": "-"
            }
           ]
          }
         }
        ]
       },
       "datasetPreviewNameToCmdIdMap": {},
       "diffDeletes": [],
       "diffInserts": [],
       "displayType": "redashChart",
       "error": null,
       "errorDetails": null,
       "errorSummary": null,
       "errorTraceType": null,
       "finishTime": 0,
       "globalVars": {},
       "guid": "",
       "height": "auto",
       "hideCommandCode": false,
       "hideCommandResult": false,
       "iPythonMetadata": null,
       "inputWidgets": {},
       "isLockedInExamMode": false,
       "latestAssumeRoleInfo": null,
       "latestUser": "a user",
       "latestUserId": null,
       "listResultMetadata": null,
       "metadata": {
        "byteLimit": 2048000,
        "implicitDf": true,
        "rowLimit": 10000
       },
       "nuid": "d697c994-cbe8-4875-8c1d-0dcb2ac92540",
       "origId": 0,
       "parentHierarchy": [],
       "pivotAggregation": null,
       "pivotColumns": null,
       "position": 2.4375,
       "resultDbfsErrorMessage": null,
       "resultDbfsStatus": "INLINED_IN_TREE",
       "results": null,
       "showCommandTitle": false,
       "startTime": 0,
       "state": "input",
       "streamStates": {},
       "subcommandOptions": {
        "queryPlan": {
         "groups": [
          {
           "column": "size_category",
           "type": "column"
          },
          {
           "column": "size_category_label",
           "type": "column"
          }
         ],
         "selects": [
          {
           "column": "size_category",
           "type": "column"
          },
          {
           "column": "size_category_label",
           "type": "column"
          },
          {
           "alias": "column_6df89cfb246",
           "args": [
            {
             "column": "count",
             "type": "column"
            }
           ],
           "function": "SUM",
           "type": "function"
          }
         ]
        }
       },
       "submitTime": 0,
       "subtype": "tableResultSubCmd.visualization",
       "tableResultIndex": 0,
       "tableResultSettingsMap": {},
       "useConsistentColors": false,
       "version": "CommandV1",
       "width": "auto",
       "workflows": [],
       "xColumns": null,
       "yColumns": null
      }
     },
     "output_type": "display_data"
    }
   ],
   "source": [
    "%sql\n",
    "SELECT size_category\n",
    "     , size_category_label\n",
    "     , COUNT(*) AS count\n",
    "FROM neo_analysis\n",
    "GROUP by size_category, size_category_label\n",
    "ORDER BY count DESC     "
   ]
  },
  {
   "cell_type": "markdown",
   "metadata": {
    "application/vnd.databricks.v1+cell": {
     "cellMetadata": {
      "byteLimit": 2048000,
      "rowLimit": 10000
     },
     "inputWidgets": {},
     "nuid": "9c1eb063-218b-49e3-8289-bbda9369a7da",
     "showTitle": false,
     "tableResultSettingsMap": {},
     "title": ""
    }
   },
   "source": [
    "2. Orbital Period Summary"
   ]
  },
  {
   "cell_type": "code",
   "execution_count": 0,
   "metadata": {
    "application/vnd.databricks.v1+cell": {
     "cellMetadata": {
      "byteLimit": 2048000,
      "implicitDf": true,
      "rowLimit": 10000
     },
     "inputWidgets": {},
     "nuid": "59bc4983-11f8-446b-8dbd-440ded53bf2c",
     "showTitle": false,
     "tableResultSettingsMap": {},
     "title": ""
    }
   },
   "outputs": [
    {
     "output_type": "display_data",
     "data": {
      "text/html": [
       "<style scoped>\n",
       "  .table-result-container {\n",
       "    max-height: 300px;\n",
       "    overflow: auto;\n",
       "  }\n",
       "  table, th, td {\n",
       "    border: 1px solid black;\n",
       "    border-collapse: collapse;\n",
       "  }\n",
       "  th, td {\n",
       "    padding: 5px;\n",
       "  }\n",
       "  th {\n",
       "    text-align: left;\n",
       "  }\n",
       "</style><div class='table-result-container'><table class='table-result'><thead style='background-color: white'><tr><th>name</th><th>diameter_max_m</th><th>orbital_period_days</th></tr></thead><tbody><tr><td>(2015 RC)</td><td>82.04</td><td>1336.23</td></tr><tr><td>(2015 TX237)</td><td>130.03</td><td>1191.52</td></tr><tr><td>(2015 RN83)</td><td>263.05</td><td>675.03</td></tr><tr><td>(2010 XT10)</td><td>29.79</td><td>597.21</td></tr><tr><td>(2015 UG)</td><td>162.94</td><td>538.6</td></tr><tr><td>465633 (2009 JR5)</td><td>485.33</td><td>511.75</td></tr><tr><td>(2015 RO36)</td><td>154.18</td><td>459.83</td></tr><tr><td>(2016 EK158)</td><td>474.29</td><td>443.82</td></tr><tr><td>(2008 QV11)</td><td>320.66</td><td>315.98</td></tr><tr><td>(2023 TP16)</td><td>6.58</td><td>0.0</td></tr><tr><td>(2019 QK4)</td><td>430.57</td><td>0.0</td></tr><tr><td>440012 (2002 LE27)</td><td>711.28</td><td>0.0</td></tr><tr><td>(2020 BY)</td><td>74.82</td><td>0.0</td></tr><tr><td>(2021 VC9)</td><td>23.02</td><td>0.0</td></tr><tr><td>(2020 WZ)</td><td>24.78</td><td>0.0</td></tr><tr><td>(2015 RY83)</td><td>85.91</td><td>0.0</td></tr><tr><td>(2015 RH36)</td><td>113.25</td><td>0.0</td></tr><tr><td>(2016 RU33)</td><td>18.79</td><td>0.0</td></tr><tr><td>(2015 FC35)</td><td>220.82</td><td>0.0</td></tr><tr><td>(2015 RG2)</td><td>27.17</td><td>0.0</td></tr><tr><td>(2016 RT)</td><td>78.35</td><td>0.0</td></tr><tr><td>(2015 RX83)</td><td>156.33</td><td>0.0</td></tr><tr><td>(2015 RL35)</td><td>32.66</td><td>0.0</td></tr><tr><td>(2021 QP3)</td><td>171.41</td><td>0.0</td></tr><tr><td>(2016 RN41)</td><td>3.72</td><td>0.0</td></tr><tr><td>(2018 RZ2)</td><td>215.79</td><td>0.0</td></tr><tr><td>(2024 CU2)</td><td>127.66</td><td>0.0</td></tr></tbody></table></div>"
      ]
     },
     "metadata": {
      "application/vnd.databricks.v1+output": {
       "addedWidgets": {},
       "aggData": [],
       "aggError": "",
       "aggOverflow": false,
       "aggSchema": [],
       "aggSeriesLimitReached": false,
       "aggType": "",
       "arguments": {},
       "columnCustomDisplayInfos": {},
       "data": [
        [
         "(2015 RC)",
         82.04,
         1336.23
        ],
        [
         "(2015 TX237)",
         130.03,
         1191.52
        ],
        [
         "(2015 RN83)",
         263.05,
         675.03
        ],
        [
         "(2010 XT10)",
         29.79,
         597.21
        ],
        [
         "(2015 UG)",
         162.94,
         538.6
        ],
        [
         "465633 (2009 JR5)",
         485.33,
         511.75
        ],
        [
         "(2015 RO36)",
         154.18,
         459.83
        ],
        [
         "(2016 EK158)",
         474.29,
         443.82
        ],
        [
         "(2008 QV11)",
         320.66,
         315.98
        ],
        [
         "(2023 TP16)",
         6.58,
         0.0
        ],
        [
         "(2019 QK4)",
         430.57,
         0.0
        ],
        [
         "440012 (2002 LE27)",
         711.28,
         0.0
        ],
        [
         "(2020 BY)",
         74.82,
         0.0
        ],
        [
         "(2021 VC9)",
         23.02,
         0.0
        ],
        [
         "(2020 WZ)",
         24.78,
         0.0
        ],
        [
         "(2015 RY83)",
         85.91,
         0.0
        ],
        [
         "(2015 RH36)",
         113.25,
         0.0
        ],
        [
         "(2016 RU33)",
         18.79,
         0.0
        ],
        [
         "(2015 FC35)",
         220.82,
         0.0
        ],
        [
         "(2015 RG2)",
         27.17,
         0.0
        ],
        [
         "(2016 RT)",
         78.35,
         0.0
        ],
        [
         "(2015 RX83)",
         156.33,
         0.0
        ],
        [
         "(2015 RL35)",
         32.66,
         0.0
        ],
        [
         "(2021 QP3)",
         171.41,
         0.0
        ],
        [
         "(2016 RN41)",
         3.72,
         0.0
        ],
        [
         "(2018 RZ2)",
         215.79,
         0.0
        ],
        [
         "(2024 CU2)",
         127.66,
         0.0
        ]
       ],
       "datasetInfos": [
        {
         "name": "_sqldf",
         "schema": {
          "fields": [
           {
            "metadata": {},
            "name": "name",
            "nullable": true,
            "type": "string"
           },
           {
            "metadata": {},
            "name": "diameter_max_m",
            "nullable": true,
            "type": "double"
           },
           {
            "metadata": {},
            "name": "orbital_period_days",
            "nullable": true,
            "type": "double"
           }
          ],
          "type": "struct"
         },
         "tableIdentifier": null,
         "typeStr": "pyspark.sql.connect.dataframe.DataFrame"
        }
       ],
       "dbfsResultPath": null,
       "isJsonSchema": true,
       "metadata": {
        "createTempViewForImplicitDf": true,
        "dataframeName": "_sqldf",
        "executionCount": 7
       },
       "overflow": false,
       "plotOptions": {
        "customPlotOptions": {},
        "displayType": "table",
        "pivotAggregation": null,
        "pivotColumns": null,
        "xColumns": null,
        "yColumns": null
       },
       "removedWidgets": [],
       "schema": [
        {
         "metadata": "{}",
         "name": "name",
         "type": "\"string\""
        },
        {
         "metadata": "{}",
         "name": "diameter_max_m",
         "type": "\"double\""
        },
        {
         "metadata": "{}",
         "name": "orbital_period_days",
         "type": "\"double\""
        }
       ],
       "type": "table"
      }
     },
     "output_type": "display_data"
    },
    {
     "output_type": "display_data",
     "data": {
      "text/plain": [
       "Databricks visualization. Run in Databricks to view."
      ]
     },
     "metadata": {
      "application/vnd.databricks.v1.subcommand+json": {
       "baseErrorDetails": null,
       "bindings": {},
       "collapsed": false,
       "command": "%sql WITH q AS (SELECT name\n     , diameter_max_m\n     , orbital_period_days\nFROM neo_analysis\nORDER BY orbital_period_days DESC) SELECT `diameter_max_m`,`orbital_period_days`,`name` FROM q",
       "commandTitle": "Orbital period in days",
       "commandType": "auto",
       "commandVersion": 0,
       "commentThread": [],
       "commentsVisible": false,
       "contentSha256Hex": null,
       "customPlotOptions": {
        "redashChart": [
         {
          "key": "type",
          "value": "CHART"
         },
         {
          "key": "options",
          "value": {
           "alignYAxesAtZero": true,
           "coefficient": 1,
           "columnConfigurationMap": {
            "series": {
             "column": "name",
             "id": "column_6df89cfb212"
            },
            "x": {
             "column": "diameter_max_m",
             "id": "column_6df89cfb243"
            },
            "y": [
             {
              "column": "orbital_period_days",
              "id": "column_6df89cfb211"
             }
            ]
           },
           "dateTimeFormat": "DD/MM/YYYY HH:mm",
           "direction": {
            "type": "counterclockwise"
           },
           "error_y": {
            "type": "data",
            "visible": true
           },
           "globalSeriesType": "scatter",
           "hideXAxis": false,
           "legend": {
            "traceorder": "normal"
           },
           "missingValuesAsZero": true,
           "numberFormat": "0,0.[00000]",
           "percentFormat": "0[.]00%",
           "series": {
            "error_y": {
             "type": "data",
             "visible": true
            },
            "stacking": null
           },
           "seriesOptions": {
            "column_6df89cfb211": {
             "name": "orbital_period_days",
             "yAxis": 0
            }
           },
           "showDataLabels": false,
           "sizemode": "diameter",
           "sortX": true,
           "sortY": true,
           "swappedAxes": false,
           "textFormat": "",
           "useAggregationsUi": true,
           "valuesOptions": {},
           "version": 2,
           "xAxis": {
            "labels": {
             "enabled": true
            },
            "title": {
             "text": "Objects size (diameter in km)"
            },
            "type": "-"
           },
           "yAxis": [
            {
             "title": {
              "text": "Orbital period days"
             },
             "type": "-"
            },
            {
             "opposite": true,
             "type": "-"
            }
           ]
          }
         }
        ]
       },
       "datasetPreviewNameToCmdIdMap": {},
       "diffDeletes": [],
       "diffInserts": [],
       "displayType": "redashChart",
       "error": null,
       "errorDetails": null,
       "errorSummary": null,
       "errorTraceType": null,
       "finishTime": 0,
       "globalVars": {},
       "guid": "",
       "height": "auto",
       "hideCommandCode": false,
       "hideCommandResult": false,
       "iPythonMetadata": null,
       "inputWidgets": {},
       "isLockedInExamMode": false,
       "latestAssumeRoleInfo": null,
       "latestUser": "a user",
       "latestUserId": null,
       "listResultMetadata": null,
       "metadata": {
        "byteLimit": 2048000,
        "implicitDf": true,
        "rowLimit": 10000
       },
       "nuid": "68425610-24ad-42a2-b21f-9c3e8179760b",
       "origId": 0,
       "parentHierarchy": [],
       "pivotAggregation": null,
       "pivotColumns": null,
       "position": 1.46875,
       "resultDbfsErrorMessage": null,
       "resultDbfsStatus": "INLINED_IN_TREE",
       "results": null,
       "showCommandTitle": false,
       "startTime": 0,
       "state": "input",
       "streamStates": {},
       "subcommandOptions": {
        "queryPlan": {
         "selects": [
          {
           "column": "diameter_max_m",
           "type": "column"
          },
          {
           "column": "orbital_period_days",
           "type": "column"
          },
          {
           "column": "name",
           "type": "column"
          }
         ]
        }
       },
       "submitTime": 0,
       "subtype": "tableResultSubCmd.visualization",
       "tableResultIndex": 0,
       "tableResultSettingsMap": {},
       "useConsistentColors": false,
       "version": "CommandV1",
       "width": "auto",
       "workflows": [],
       "xColumns": null,
       "yColumns": null
      }
     },
     "output_type": "display_data"
    }
   ],
   "source": [
    "%sql\n",
    "SELECT name\n",
    "     , diameter_max_m\n",
    "     , orbital_period_days\n",
    "FROM neo_analysis\n",
    "ORDER BY orbital_period_days DESC"
   ]
  },
  {
   "cell_type": "markdown",
   "metadata": {
    "application/vnd.databricks.v1+cell": {
     "cellMetadata": {
      "byteLimit": 2048000,
      "rowLimit": 10000
     },
     "inputWidgets": {},
     "nuid": "e386eb3f-70f3-4dc9-9340-8293465a52e2",
     "showTitle": false,
     "tableResultSettingsMap": {},
     "title": ""
    }
   },
   "source": [
    "3. Hazard Classification"
   ]
  },
  {
   "cell_type": "code",
   "execution_count": 0,
   "metadata": {
    "application/vnd.databricks.v1+cell": {
     "cellMetadata": {
      "byteLimit": 2048000,
      "implicitDf": true,
      "rowLimit": 10000
     },
     "inputWidgets": {},
     "nuid": "1983dc5c-70f4-473a-b0b9-24af879ab17f",
     "showTitle": false,
     "tableResultSettingsMap": {},
     "title": ""
    }
   },
   "outputs": [
    {
     "output_type": "display_data",
     "data": {
      "text/html": [
       "<style scoped>\n",
       "  .table-result-container {\n",
       "    max-height: 300px;\n",
       "    overflow: auto;\n",
       "  }\n",
       "  table, th, td {\n",
       "    border: 1px solid black;\n",
       "    border-collapse: collapse;\n",
       "  }\n",
       "  th, td {\n",
       "    padding: 5px;\n",
       "  }\n",
       "  th {\n",
       "    text-align: left;\n",
       "  }\n",
       "</style><div class='table-result-container'><table class='table-result'><thead style='background-color: white'><tr><th>Hazard Level</th><th>Object Count</th></tr></thead><tbody><tr><td>Hazardous</td><td>1</td></tr><tr><td>Non-Hazardous</td><td>26</td></tr></tbody></table></div>"
      ]
     },
     "metadata": {
      "application/vnd.databricks.v1+output": {
       "addedWidgets": {},
       "aggData": [],
       "aggError": "",
       "aggOverflow": false,
       "aggSchema": [],
       "aggSeriesLimitReached": false,
       "aggType": "",
       "arguments": {},
       "columnCustomDisplayInfos": {},
       "data": [
        [
         "Hazardous",
         1
        ],
        [
         "Non-Hazardous",
         26
        ]
       ],
       "datasetInfos": [
        {
         "name": "_sqldf",
         "schema": {
          "fields": [
           {
            "metadata": {},
            "name": "Hazard Level",
            "nullable": true,
            "type": "string"
           },
           {
            "metadata": {},
            "name": "Object Count",
            "nullable": false,
            "type": "long"
           }
          ],
          "type": "struct"
         },
         "tableIdentifier": null,
         "typeStr": "pyspark.sql.connect.dataframe.DataFrame"
        }
       ],
       "dbfsResultPath": null,
       "isJsonSchema": true,
       "metadata": {
        "createTempViewForImplicitDf": true,
        "dataframeName": "_sqldf",
        "executionCount": 8
       },
       "overflow": false,
       "plotOptions": {
        "customPlotOptions": {},
        "displayType": "table",
        "pivotAggregation": null,
        "pivotColumns": null,
        "xColumns": null,
        "yColumns": null
       },
       "removedWidgets": [],
       "schema": [
        {
         "metadata": "{}",
         "name": "Hazard Level",
         "type": "\"string\""
        },
        {
         "metadata": "{}",
         "name": "Object Count",
         "type": "\"long\""
        }
       ],
       "type": "table"
      }
     },
     "output_type": "display_data"
    },
    {
     "output_type": "display_data",
     "data": {
      "text/plain": [
       "Databricks visualization. Run in Databricks to view."
      ]
     },
     "metadata": {
      "application/vnd.databricks.v1.subcommand+json": {
       "baseErrorDetails": null,
       "bindings": {},
       "collapsed": false,
       "command": "%sql WITH q AS (SELECT hazard_level AS `Hazard Level`\n     , COUNT(*) AS `Object Count`\nFROM neo_analysis\nGROUP BY hazard_level) SELECT `Hazard Level`,SUM(`Object Count`) `column_6df89cfb226` FROM q GROUP BY `Hazard Level`",
       "commandTitle": "Hazard summary",
       "commandType": "auto",
       "commandVersion": 0,
       "commentThread": [],
       "commentsVisible": false,
       "contentSha256Hex": null,
       "customPlotOptions": {
        "redashChart": [
         {
          "key": "type",
          "value": "CHART"
         },
         {
          "key": "options",
          "value": {
           "alignYAxesAtZero": true,
           "coefficient": 1,
           "columnConfigurationMap": {
            "x": {
             "column": "Hazard Level",
             "id": "column_6df89cfb239"
            },
            "y": [
             {
              "column": "Object Count",
              "id": "column_6df89cfb226",
              "transform": "SUM"
             }
            ]
           },
           "dateTimeFormat": "DD/MM/YYYY HH:mm",
           "direction": {
            "type": "counterclockwise"
           },
           "error_y": {
            "type": "data",
            "visible": true
           },
           "globalSeriesType": "column",
           "isAggregationOn": true,
           "legend": {
            "traceorder": "normal"
           },
           "missingValuesAsZero": true,
           "numberFormat": "0,0.[00000]",
           "percentFormat": "0[.]00%",
           "series": {
            "error_y": {
             "type": "data",
             "visible": true
            },
            "stacking": null
           },
           "seriesOptions": {
            "column_6df89cfb226": {
             "name": "count",
             "type": "column",
             "yAxis": 0
            }
           },
           "showDataLabels": false,
           "sizemode": "diameter",
           "sortX": true,
           "sortY": true,
           "swappedAxes": true,
           "textFormat": "",
           "useAggregationsUi": true,
           "valuesOptions": {},
           "version": 2,
           "xAxis": {
            "labels": {
             "enabled": true
            },
            "title": {
             "text": null
            },
            "type": "-"
           },
           "yAxis": [
            {
             "title": {
              "text": "Object Count"
             },
             "type": "-"
            },
            {
             "opposite": true,
             "type": "-"
            }
           ]
          }
         }
        ]
       },
       "datasetPreviewNameToCmdIdMap": {},
       "diffDeletes": [],
       "diffInserts": [],
       "displayType": "redashChart",
       "error": null,
       "errorDetails": null,
       "errorSummary": null,
       "errorTraceType": null,
       "finishTime": 0,
       "globalVars": {},
       "guid": "",
       "height": "auto",
       "hideCommandCode": false,
       "hideCommandResult": false,
       "iPythonMetadata": null,
       "inputWidgets": {},
       "isLockedInExamMode": false,
       "latestAssumeRoleInfo": null,
       "latestUser": "a user",
       "latestUserId": null,
       "listResultMetadata": null,
       "metadata": {
        "byteLimit": 2048000,
        "implicitDf": true,
        "rowLimit": 10000
       },
       "nuid": "b48b96b7-1228-4c49-a424-bafa3f6735a9",
       "origId": 0,
       "parentHierarchy": [],
       "pivotAggregation": null,
       "pivotColumns": null,
       "position": 1.4921875,
       "resultDbfsErrorMessage": null,
       "resultDbfsStatus": "INLINED_IN_TREE",
       "results": null,
       "showCommandTitle": false,
       "startTime": 0,
       "state": "input",
       "streamStates": {},
       "subcommandOptions": {
        "queryPlan": {
         "groups": [
          {
           "column": "Hazard Level",
           "type": "column"
          }
         ],
         "selects": [
          {
           "column": "Hazard Level",
           "type": "column"
          },
          {
           "alias": "column_6df89cfb226",
           "args": [
            {
             "column": "Object Count",
             "type": "column"
            }
           ],
           "function": "SUM",
           "type": "function"
          }
         ]
        }
       },
       "submitTime": 0,
       "subtype": "tableResultSubCmd.visualization",
       "tableResultIndex": 0,
       "tableResultSettingsMap": {},
       "useConsistentColors": false,
       "version": "CommandV1",
       "width": "auto",
       "workflows": [],
       "xColumns": null,
       "yColumns": null
      }
     },
     "output_type": "display_data"
    }
   ],
   "source": [
    "%sql\n",
    "SELECT hazard_level AS `Hazard Level`\n",
    "     , COUNT(*) AS `Object Count`\n",
    "FROM neo_analysis\n",
    "GROUP BY hazard_level\n",
    "  "
   ]
  },
  {
   "cell_type": "markdown",
   "metadata": {
    "application/vnd.databricks.v1+cell": {
     "cellMetadata": {
      "byteLimit": 2048000,
      "rowLimit": 10000
     },
     "inputWidgets": {},
     "nuid": "1b2cc025-6df8-4b1c-891e-1fb52830a1a9",
     "showTitle": false,
     "tableResultSettingsMap": {},
     "title": ""
    }
   },
   "source": [
    "**AC-2: When filtering by time periods, the system should display \n",
    "objects that had close approaches to Earth in the past 25 years or are predicted to approach in the next 25 years.**"
   ]
  },
  {
   "cell_type": "markdown",
   "metadata": {
    "application/vnd.databricks.v1+cell": {
     "cellMetadata": {
      "byteLimit": 2048000,
      "rowLimit": 10000
     },
     "inputWidgets": {},
     "nuid": "bd10d914-ab52-4c75-8a7f-837cbaaddb54",
     "showTitle": false,
     "tableResultSettingsMap": {},
     "title": ""
    }
   },
   "source": [
    "1. All approaches in 50 years window"
   ]
  },
  {
   "cell_type": "code",
   "execution_count": 0,
   "metadata": {
    "application/vnd.databricks.v1+cell": {
     "cellMetadata": {
      "byteLimit": 2048000,
      "implicitDf": true,
      "rowLimit": 10000
     },
     "inputWidgets": {},
     "nuid": "5d572704-8d40-4503-a0bb-c6fafbc82474",
     "showTitle": false,
     "tableResultSettingsMap": {},
     "title": ""
    }
   },
   "outputs": [
    {
     "output_type": "display_data",
     "data": {
      "text/html": [
       "<style scoped>\n",
       "  .table-result-container {\n",
       "    max-height: 300px;\n",
       "    overflow: auto;\n",
       "  }\n",
       "  table, th, td {\n",
       "    border: 1px solid black;\n",
       "    border-collapse: collapse;\n",
       "  }\n",
       "  th, td {\n",
       "    padding: 5px;\n",
       "  }\n",
       "  th {\n",
       "    text-align: left;\n",
       "  }\n",
       "</style><div class='table-result-container'><table class='table-result'><thead style='background-color: white'><tr><th>name</th><th>close_approach_date</th><th>miss_distance_km</th><th>hazard_level</th><th>in_50yr_window</th></tr></thead><tbody><tr><td>(2016 RU33)</td><td>2015-09-07</td><td>3.396606813E7</td><td>Non-Hazardous</td><td>true</td></tr><tr><td>(2015 RG2)</td><td>2015-09-07</td><td>2450214.65</td><td>Non-Hazardous</td><td>true</td></tr><tr><td>(2020 BY)</td><td>2015-09-07</td><td>6.085142251E7</td><td>Non-Hazardous</td><td>true</td></tr><tr><td>(2016 RN41)</td><td>2015-09-07</td><td>1.803134071E7</td><td>Non-Hazardous</td><td>true</td></tr><tr><td>(2015 RH36)</td><td>2015-09-07</td><td>1.63567259E7</td><td>Non-Hazardous</td><td>true</td></tr><tr><td>(2015 RL35)</td><td>2015-09-07</td><td>1.035919367E7</td><td>Non-Hazardous</td><td>true</td></tr><tr><td>(2024 CU2)</td><td>2015-09-07</td><td>3.949957038E7</td><td>Non-Hazardous</td><td>true</td></tr><tr><td>(2020 WZ)</td><td>2015-09-07</td><td>6.914463697E7</td><td>Non-Hazardous</td><td>true</td></tr><tr><td>(2019 QK4)</td><td>2015-09-07</td><td>5.050366279E7</td><td>Non-Hazardous</td><td>true</td></tr><tr><td>(2018 RZ2)</td><td>2015-09-07</td><td>6.270173647E7</td><td>Non-Hazardous</td><td>true</td></tr><tr><td>(2015 RY83)</td><td>2015-09-07</td><td>1.144272884E7</td><td>Non-Hazardous</td><td>true</td></tr><tr><td>(2015 RX83)</td><td>2015-09-07</td><td>4.332079372E7</td><td>Non-Hazardous</td><td>true</td></tr><tr><td>440012 (2002 LE27)</td><td>2015-09-07</td><td>7.452503584E7</td><td>Non-Hazardous</td><td>true</td></tr><tr><td>(2015 FC35)</td><td>2015-09-07</td><td>4.807702246E7</td><td>Non-Hazardous</td><td>true</td></tr><tr><td>(2015 RO36)</td><td>2015-09-08</td><td>8086032.0</td><td>Non-Hazardous</td><td>true</td></tr><tr><td>(2015 RN83)</td><td>2015-09-08</td><td>2.519517736E7</td><td>Non-Hazardous</td><td>true</td></tr><tr><td>(2008 QV11)</td><td>2015-09-08</td><td>3.876455855E7</td><td>Non-Hazardous</td><td>true</td></tr><tr><td>(2021 QP3)</td><td>2015-09-08</td><td>5.908661815E7</td><td>Non-Hazardous</td><td>true</td></tr><tr><td>(2021 VC9)</td><td>2015-09-08</td><td>6.630089521E7</td><td>Non-Hazardous</td><td>true</td></tr><tr><td>(2015 UG)</td><td>2015-09-08</td><td>1.694046102E7</td><td>Non-Hazardous</td><td>true</td></tr><tr><td>(2010 XT10)</td><td>2015-09-08</td><td>7.356378239E7</td><td>Non-Hazardous</td><td>true</td></tr><tr><td>(2016 EK158)</td><td>2015-09-08</td><td>4.195849768E7</td><td>Non-Hazardous</td><td>true</td></tr><tr><td>(2015 RC)</td><td>2015-09-08</td><td>4027962.7</td><td>Non-Hazardous</td><td>true</td></tr><tr><td>465633 (2009 JR5)</td><td>2015-09-08</td><td>4.529029823E7</td><td>Hazardous</td><td>true</td></tr><tr><td>(2015 TX237)</td><td>2015-09-08</td><td>1.189660243E7</td><td>Non-Hazardous</td><td>true</td></tr><tr><td>(2016 RT)</td><td>2015-09-08</td><td>2.55371982E7</td><td>Non-Hazardous</td><td>true</td></tr><tr><td>(2023 TP16)</td><td>2015-09-08</td><td>5.386937413E7</td><td>Non-Hazardous</td><td>true</td></tr></tbody></table></div>"
      ]
     },
     "metadata": {
      "application/vnd.databricks.v1+output": {
       "addedWidgets": {},
       "aggData": [],
       "aggError": "",
       "aggOverflow": false,
       "aggSchema": [],
       "aggSeriesLimitReached": false,
       "aggType": "",
       "arguments": {},
       "columnCustomDisplayInfos": {},
       "data": [
        [
         "(2016 RU33)",
         "2015-09-07",
         3.396606813E7,
         "Non-Hazardous",
         true
        ],
        [
         "(2015 RG2)",
         "2015-09-07",
         2450214.65,
         "Non-Hazardous",
         true
        ],
        [
         "(2020 BY)",
         "2015-09-07",
         6.085142251E7,
         "Non-Hazardous",
         true
        ],
        [
         "(2016 RN41)",
         "2015-09-07",
         1.803134071E7,
         "Non-Hazardous",
         true
        ],
        [
         "(2015 RH36)",
         "2015-09-07",
         1.63567259E7,
         "Non-Hazardous",
         true
        ],
        [
         "(2015 RL35)",
         "2015-09-07",
         1.035919367E7,
         "Non-Hazardous",
         true
        ],
        [
         "(2024 CU2)",
         "2015-09-07",
         3.949957038E7,
         "Non-Hazardous",
         true
        ],
        [
         "(2020 WZ)",
         "2015-09-07",
         6.914463697E7,
         "Non-Hazardous",
         true
        ],
        [
         "(2019 QK4)",
         "2015-09-07",
         5.050366279E7,
         "Non-Hazardous",
         true
        ],
        [
         "(2018 RZ2)",
         "2015-09-07",
         6.270173647E7,
         "Non-Hazardous",
         true
        ],
        [
         "(2015 RY83)",
         "2015-09-07",
         1.144272884E7,
         "Non-Hazardous",
         true
        ],
        [
         "(2015 RX83)",
         "2015-09-07",
         4.332079372E7,
         "Non-Hazardous",
         true
        ],
        [
         "440012 (2002 LE27)",
         "2015-09-07",
         7.452503584E7,
         "Non-Hazardous",
         true
        ],
        [
         "(2015 FC35)",
         "2015-09-07",
         4.807702246E7,
         "Non-Hazardous",
         true
        ],
        [
         "(2015 RO36)",
         "2015-09-08",
         8086032.0,
         "Non-Hazardous",
         true
        ],
        [
         "(2015 RN83)",
         "2015-09-08",
         2.519517736E7,
         "Non-Hazardous",
         true
        ],
        [
         "(2008 QV11)",
         "2015-09-08",
         3.876455855E7,
         "Non-Hazardous",
         true
        ],
        [
         "(2021 QP3)",
         "2015-09-08",
         5.908661815E7,
         "Non-Hazardous",
         true
        ],
        [
         "(2021 VC9)",
         "2015-09-08",
         6.630089521E7,
         "Non-Hazardous",
         true
        ],
        [
         "(2015 UG)",
         "2015-09-08",
         1.694046102E7,
         "Non-Hazardous",
         true
        ],
        [
         "(2010 XT10)",
         "2015-09-08",
         7.356378239E7,
         "Non-Hazardous",
         true
        ],
        [
         "(2016 EK158)",
         "2015-09-08",
         4.195849768E7,
         "Non-Hazardous",
         true
        ],
        [
         "(2015 RC)",
         "2015-09-08",
         4027962.7,
         "Non-Hazardous",
         true
        ],
        [
         "465633 (2009 JR5)",
         "2015-09-08",
         4.529029823E7,
         "Hazardous",
         true
        ],
        [
         "(2015 TX237)",
         "2015-09-08",
         1.189660243E7,
         "Non-Hazardous",
         true
        ],
        [
         "(2016 RT)",
         "2015-09-08",
         2.55371982E7,
         "Non-Hazardous",
         true
        ],
        [
         "(2023 TP16)",
         "2015-09-08",
         5.386937413E7,
         "Non-Hazardous",
         true
        ]
       ],
       "datasetInfos": [
        {
         "name": "_sqldf",
         "schema": {
          "fields": [
           {
            "metadata": {},
            "name": "name",
            "nullable": true,
            "type": "string"
           },
           {
            "metadata": {},
            "name": "close_approach_date",
            "nullable": true,
            "type": "date"
           },
           {
            "metadata": {},
            "name": "miss_distance_km",
            "nullable": true,
            "type": "double"
           },
           {
            "metadata": {},
            "name": "hazard_level",
            "nullable": true,
            "type": "string"
           },
           {
            "metadata": {},
            "name": "in_50yr_window",
            "nullable": true,
            "type": "boolean"
           }
          ],
          "type": "struct"
         },
         "tableIdentifier": null,
         "typeStr": "pyspark.sql.connect.dataframe.DataFrame"
        }
       ],
       "dbfsResultPath": null,
       "isJsonSchema": true,
       "metadata": {
        "createTempViewForImplicitDf": true,
        "dataframeName": "_sqldf",
        "executionCount": 10
       },
       "overflow": false,
       "plotOptions": {
        "customPlotOptions": {},
        "displayType": "table",
        "pivotAggregation": null,
        "pivotColumns": null,
        "xColumns": null,
        "yColumns": null
       },
       "removedWidgets": [],
       "schema": [
        {
         "metadata": "{}",
         "name": "name",
         "type": "\"string\""
        },
        {
         "metadata": "{}",
         "name": "close_approach_date",
         "type": "\"date\""
        },
        {
         "metadata": "{}",
         "name": "miss_distance_km",
         "type": "\"double\""
        },
        {
         "metadata": "{}",
         "name": "hazard_level",
         "type": "\"string\""
        },
        {
         "metadata": "{}",
         "name": "in_50yr_window",
         "type": "\"boolean\""
        }
       ],
       "type": "table"
      }
     },
     "output_type": "display_data"
    }
   ],
   "source": [
    "%sql\n",
    "SELECT name\n",
    "     , close_approach_date\n",
    "     , miss_distance_km\n",
    "     , hazard_level\n",
    "     , in_50yr_window\n",
    "FROM neo_analysis\n",
    "WHERE in_50yr_window = true\n",
    "ORDER BY close_approach_date"
   ]
  },
  {
   "cell_type": "markdown",
   "metadata": {
    "application/vnd.databricks.v1+cell": {
     "cellMetadata": {
      "byteLimit": 2048000,
      "rowLimit": 10000
     },
     "inputWidgets": {},
     "nuid": "634ae0d5-115c-4bfd-8e42-068c3cbd5a50",
     "showTitle": false,
     "tableResultSettingsMap": {},
     "title": ""
    }
   },
   "source": [
    "2. Filter by size and hazard"
   ]
  },
  {
   "cell_type": "code",
   "execution_count": 0,
   "metadata": {
    "application/vnd.databricks.v1+cell": {
     "cellMetadata": {
      "byteLimit": 2048000,
      "implicitDf": true,
      "rowLimit": 10000
     },
     "inputWidgets": {},
     "nuid": "1836cbff-127e-44e3-bd74-a3097313184f",
     "showTitle": false,
     "tableResultSettingsMap": {},
     "title": ""
    }
   },
   "outputs": [
    {
     "output_type": "display_data",
     "data": {
      "text/html": [
       "<style scoped>\n",
       "  .table-result-container {\n",
       "    max-height: 300px;\n",
       "    overflow: auto;\n",
       "  }\n",
       "  table, th, td {\n",
       "    border: 1px solid black;\n",
       "    border-collapse: collapse;\n",
       "  }\n",
       "  th, td {\n",
       "    padding: 5px;\n",
       "  }\n",
       "  th {\n",
       "    text-align: left;\n",
       "  }\n",
       "</style><div class='table-result-container'><table class='table-result'><thead style='background-color: white'><tr><th>name</th><th>diameter_max_m</th><th>size_category</th><th>size_category_label</th><th>close_approach_date</th><th>hazard_level</th></tr></thead><tbody><tr><td>440012 (2002 LE27)</td><td>711.28</td><td>>500m</td><td>Large</td><td>2015-09-07</td><td>Non-Hazardous</td></tr></tbody></table></div>"
      ]
     },
     "metadata": {
      "application/vnd.databricks.v1+output": {
       "addedWidgets": {},
       "aggData": [],
       "aggError": "",
       "aggOverflow": false,
       "aggSchema": [],
       "aggSeriesLimitReached": false,
       "aggType": "",
       "arguments": {},
       "columnCustomDisplayInfos": {},
       "data": [
        [
         "440012 (2002 LE27)",
         711.28,
         ">500m",
         "Large",
         "2015-09-07",
         "Non-Hazardous"
        ]
       ],
       "datasetInfos": [
        {
         "name": "_sqldf",
         "schema": {
          "fields": [
           {
            "metadata": {},
            "name": "name",
            "nullable": true,
            "type": "string"
           },
           {
            "metadata": {},
            "name": "diameter_max_m",
            "nullable": true,
            "type": "double"
           },
           {
            "metadata": {},
            "name": "size_category",
            "nullable": true,
            "type": "string"
           },
           {
            "metadata": {},
            "name": "size_category_label",
            "nullable": true,
            "type": "string"
           },
           {
            "metadata": {},
            "name": "close_approach_date",
            "nullable": true,
            "type": "date"
           },
           {
            "metadata": {},
            "name": "hazard_level",
            "nullable": true,
            "type": "string"
           }
          ],
          "type": "struct"
         },
         "tableIdentifier": null,
         "typeStr": "pyspark.sql.connect.dataframe.DataFrame"
        }
       ],
       "dbfsResultPath": null,
       "isJsonSchema": true,
       "metadata": {
        "createTempViewForImplicitDf": true,
        "dataframeName": "_sqldf",
        "executionCount": 11
       },
       "overflow": false,
       "plotOptions": {
        "customPlotOptions": {},
        "displayType": "table",
        "pivotAggregation": null,
        "pivotColumns": null,
        "xColumns": null,
        "yColumns": null
       },
       "removedWidgets": [],
       "schema": [
        {
         "metadata": "{}",
         "name": "name",
         "type": "\"string\""
        },
        {
         "metadata": "{}",
         "name": "diameter_max_m",
         "type": "\"double\""
        },
        {
         "metadata": "{}",
         "name": "size_category",
         "type": "\"string\""
        },
        {
         "metadata": "{}",
         "name": "size_category_label",
         "type": "\"string\""
        },
        {
         "metadata": "{}",
         "name": "close_approach_date",
         "type": "\"date\""
        },
        {
         "metadata": "{}",
         "name": "hazard_level",
         "type": "\"string\""
        }
       ],
       "type": "table"
      }
     },
     "output_type": "display_data"
    }
   ],
   "source": [
    "%sql\n",
    "SELECT name\n",
    "     , diameter_max_m\n",
    "     , size_category\n",
    "     , size_category_label\n",
    "     , close_approach_date\n",
    "     , hazard_level\n",
    "FROM neo_analysis\n",
    "WHERE size_category_label = 'Large' \n"
   ]
  },
  {
   "cell_type": "markdown",
   "metadata": {
    "application/vnd.databricks.v1+cell": {
     "cellMetadata": {
      "byteLimit": 2048000,
      "rowLimit": 10000
     },
     "inputWidgets": {},
     "nuid": "83976e9e-ccd8-4f1f-9646-c49af3d6fd45",
     "showTitle": false,
     "tableResultSettingsMap": {},
     "title": ""
    }
   },
   "source": [
    "**AC-3:The system should categorize objects based on their \n",
    "hazard potential using established scientific criteria.**"
   ]
  },
  {
   "cell_type": "markdown",
   "metadata": {
    "application/vnd.databricks.v1+cell": {
     "cellMetadata": {
      "byteLimit": 2048000,
      "rowLimit": 10000
     },
     "inputWidgets": {},
     "nuid": "7ee30457-4851-4c01-bba2-b596632d127b",
     "showTitle": false,
     "tableResultSettingsMap": {},
     "title": ""
    }
   },
   "source": [
    "1. Object count by Hazard category"
   ]
  },
  {
   "cell_type": "code",
   "execution_count": 0,
   "metadata": {
    "application/vnd.databricks.v1+cell": {
     "cellMetadata": {
      "byteLimit": 2048000,
      "implicitDf": true,
      "rowLimit": 10000
     },
     "inputWidgets": {},
     "nuid": "bd154452-2284-41e5-beaa-fd31eb2fe99c",
     "showTitle": false,
     "tableResultSettingsMap": {
      "0": {
       "dataGridStateBlob": "{\"version\":1,\"tableState\":{\"columnPinning\":{\"left\":[\"#row_number#\"],\"right\":[]},\"columnSizing\":{},\"columnVisibility\":{}},\"settings\":{\"columns\":{}},\"syncTimestamp\":1759155754128}",
       "filterBlob": null,
       "queryPlanFiltersBlob": null,
       "tableResultIndex": 0
      }
     },
     "title": ""
    }
   },
   "outputs": [
    {
     "output_type": "display_data",
     "data": {
      "text/html": [
       "<style scoped>\n",
       "  .table-result-container {\n",
       "    max-height: 300px;\n",
       "    overflow: auto;\n",
       "  }\n",
       "  table, th, td {\n",
       "    border: 1px solid black;\n",
       "    border-collapse: collapse;\n",
       "  }\n",
       "  th, td {\n",
       "    padding: 5px;\n",
       "  }\n",
       "  th {\n",
       "    text-align: left;\n",
       "  }\n",
       "</style><div class='table-result-container'><table class='table-result'><thead style='background-color: white'><tr><th>Hazard Category</th><th>Object Count</th></tr></thead><tbody><tr><td>Low Risk</td><td>26</td></tr><tr><td>Moderate Risk</td><td>1</td></tr></tbody></table></div>"
      ]
     },
     "metadata": {
      "application/vnd.databricks.v1+output": {
       "addedWidgets": {},
       "aggData": [],
       "aggError": "",
       "aggOverflow": false,
       "aggSchema": [],
       "aggSeriesLimitReached": false,
       "aggType": "",
       "arguments": {},
       "columnCustomDisplayInfos": {},
       "data": [
        [
         "Low Risk",
         26
        ],
        [
         "Moderate Risk",
         1
        ]
       ],
       "datasetInfos": [
        {
         "name": "_sqldf",
         "schema": {
          "fields": [
           {
            "metadata": {},
            "name": "Hazard Category",
            "nullable": true,
            "type": "string"
           },
           {
            "metadata": {},
            "name": "Object Count",
            "nullable": false,
            "type": "long"
           }
          ],
          "type": "struct"
         },
         "tableIdentifier": null,
         "typeStr": "pyspark.sql.connect.dataframe.DataFrame"
        }
       ],
       "dbfsResultPath": null,
       "isJsonSchema": true,
       "metadata": {
        "createTempViewForImplicitDf": true,
        "dataframeName": "_sqldf",
        "executionCount": 12
       },
       "overflow": false,
       "plotOptions": {
        "customPlotOptions": {},
        "displayType": "table",
        "pivotAggregation": null,
        "pivotColumns": null,
        "xColumns": null,
        "yColumns": null
       },
       "removedWidgets": [],
       "schema": [
        {
         "metadata": "{}",
         "name": "Hazard Category",
         "type": "\"string\""
        },
        {
         "metadata": "{}",
         "name": "Object Count",
         "type": "\"long\""
        }
       ],
       "type": "table"
      }
     },
     "output_type": "display_data"
    }
   ],
   "source": [
    "%sql\n",
    "SELECT hazard_category AS `Hazard Category`\n",
    "     , COUNT(*) AS `Object Count`\n",
    "FROM neo_analysis\n",
    "GROUP BY hazard_category\n",
    "ORDER BY `Object Count` DESC     "
   ]
  },
  {
   "cell_type": "markdown",
   "metadata": {
    "application/vnd.databricks.v1+cell": {
     "cellMetadata": {
      "byteLimit": 2048000,
      "rowLimit": 10000
     },
     "inputWidgets": {},
     "nuid": "7b0d3148-2fdd-4699-a2b0-adee029e34ef",
     "showTitle": false,
     "tableResultSettingsMap": {},
     "title": ""
    }
   },
   "source": [
    "2. Filter High Risk objects"
   ]
  },
  {
   "cell_type": "code",
   "execution_count": 0,
   "metadata": {
    "application/vnd.databricks.v1+cell": {
     "cellMetadata": {
      "byteLimit": 2048000,
      "implicitDf": true,
      "rowLimit": 10000
     },
     "inputWidgets": {},
     "nuid": "f6075cee-3b59-4d3a-89b4-1395fbe426d7",
     "showTitle": false,
     "tableResultSettingsMap": {},
     "title": ""
    }
   },
   "outputs": [
    {
     "output_type": "display_data",
     "data": {
      "text/html": [
       "<style scoped>\n",
       "  .table-result-container {\n",
       "    max-height: 300px;\n",
       "    overflow: auto;\n",
       "  }\n",
       "  table, th, td {\n",
       "    border: 1px solid black;\n",
       "    border-collapse: collapse;\n",
       "  }\n",
       "  th, td {\n",
       "    padding: 5px;\n",
       "  }\n",
       "  th {\n",
       "    text-align: left;\n",
       "  }\n",
       "</style><div class='table-result-container'><table class='table-result'><thead style='background-color: white'><tr><th>name</th><th>diameter_max_m</th><th>miss_distance_km</th><th>close_approach_date</th></tr></thead><tbody></tbody></table></div>"
      ]
     },
     "metadata": {
      "application/vnd.databricks.v1+output": {
       "addedWidgets": {},
       "aggData": [],
       "aggError": "",
       "aggOverflow": false,
       "aggSchema": [],
       "aggSeriesLimitReached": false,
       "aggType": "",
       "arguments": {},
       "columnCustomDisplayInfos": {},
       "data": [],
       "datasetInfos": [
        {
         "name": "_sqldf",
         "schema": {
          "fields": [
           {
            "metadata": {},
            "name": "name",
            "nullable": true,
            "type": "string"
           },
           {
            "metadata": {},
            "name": "diameter_max_m",
            "nullable": true,
            "type": "double"
           },
           {
            "metadata": {},
            "name": "miss_distance_km",
            "nullable": true,
            "type": "double"
           },
           {
            "metadata": {},
            "name": "close_approach_date",
            "nullable": true,
            "type": "date"
           }
          ],
          "type": "struct"
         },
         "tableIdentifier": null,
         "typeStr": "pyspark.sql.connect.dataframe.DataFrame"
        }
       ],
       "dbfsResultPath": null,
       "isJsonSchema": true,
       "metadata": {
        "createTempViewForImplicitDf": true,
        "dataframeName": "_sqldf",
        "executionCount": 13
       },
       "overflow": false,
       "plotOptions": {
        "customPlotOptions": {},
        "displayType": "table",
        "pivotAggregation": null,
        "pivotColumns": null,
        "xColumns": null,
        "yColumns": null
       },
       "removedWidgets": [],
       "schema": [
        {
         "metadata": "{}",
         "name": "name",
         "type": "\"string\""
        },
        {
         "metadata": "{}",
         "name": "diameter_max_m",
         "type": "\"double\""
        },
        {
         "metadata": "{}",
         "name": "miss_distance_km",
         "type": "\"double\""
        },
        {
         "metadata": "{}",
         "name": "close_approach_date",
         "type": "\"date\""
        }
       ],
       "type": "table"
      }
     },
     "output_type": "display_data"
    }
   ],
   "source": [
    "%sql\n",
    "SELECT name\n",
    "     , diameter_max_m\n",
    "     , miss_distance_km\n",
    "     , close_approach_date\n",
    "FROM neo_analysis\n",
    "WHERE hazard_category = 'High Risk'\n"
   ]
  },
  {
   "cell_type": "markdown",
   "metadata": {
    "application/vnd.databricks.v1+cell": {
     "cellMetadata": {
      "byteLimit": 2048000,
      "rowLimit": 10000
     },
     "inputWidgets": {},
     "nuid": "bfba9b95-6dee-4d2e-93ed-020d8e06b728",
     "showTitle": false,
     "tableResultSettingsMap": {},
     "title": ""
    }
   },
   "source": [
    "**AC-4: The analysis should include comparative data visualisations \n",
    "showing relationships between object characteristics (size, \n",
    "orbit time, approach distance).**"
   ]
  },
  {
   "cell_type": "markdown",
   "metadata": {
    "application/vnd.databricks.v1+cell": {
     "cellMetadata": {
      "byteLimit": 2048000,
      "rowLimit": 10000
     },
     "inputWidgets": {},
     "nuid": "ba02f46b-ce12-4a86-b370-bc862ccf14c0",
     "showTitle": false,
     "tableResultSettingsMap": {},
     "title": ""
    }
   },
   "source": [
    "1. Size vs Approach distance"
   ]
  },
  {
   "cell_type": "code",
   "execution_count": 0,
   "metadata": {
    "application/vnd.databricks.v1+cell": {
     "cellMetadata": {
      "byteLimit": 2048000,
      "implicitDf": true,
      "rowLimit": 10000
     },
     "inputWidgets": {},
     "nuid": "863a3f91-a5e0-4aa9-8bcc-a975f3885cee",
     "showTitle": false,
     "tableResultSettingsMap": {
      "0": {
       "dataGridStateBlob": "{\"version\":1,\"tableState\":{\"columnPinning\":{\"left\":[\"#row_number#\"],\"right\":[]},\"columnSizing\":{},\"columnVisibility\":{}},\"settings\":{\"columns\":{}},\"syncTimestamp\":1759156077916}",
       "filterBlob": null,
       "queryPlanFiltersBlob": null,
       "tableResultIndex": 0
      }
     },
     "title": ""
    }
   },
   "outputs": [
    {
     "output_type": "display_data",
     "data": {
      "text/html": [
       "<style scoped>\n",
       "  .table-result-container {\n",
       "    max-height: 300px;\n",
       "    overflow: auto;\n",
       "  }\n",
       "  table, th, td {\n",
       "    border: 1px solid black;\n",
       "    border-collapse: collapse;\n",
       "  }\n",
       "  th, td {\n",
       "    padding: 5px;\n",
       "  }\n",
       "  th {\n",
       "    text-align: left;\n",
       "  }\n",
       "</style><div class='table-result-container'><table class='table-result'><thead style='background-color: white'><tr><th>name</th><th>Size (meter)</th><th>Miss Distance (km)</th><th>log_diameter_max</th><th>log_miss_distance</th></tr></thead><tbody><tr><td>440012 (2002 LE27)</td><td>711.28</td><td>7.452503584E7</td><td>2.85</td><td>7.87</td></tr><tr><td>465633 (2009 JR5)</td><td>485.33</td><td>4.529029823E7</td><td>2.69</td><td>7.66</td></tr><tr><td>(2016 EK158)</td><td>474.29</td><td>4.195849768E7</td><td>2.68</td><td>7.62</td></tr><tr><td>(2019 QK4)</td><td>430.57</td><td>5.050366279E7</td><td>2.64</td><td>7.7</td></tr><tr><td>(2008 QV11)</td><td>320.66</td><td>3.876455855E7</td><td>2.51</td><td>7.59</td></tr><tr><td>(2015 RN83)</td><td>263.05</td><td>2.519517736E7</td><td>2.42</td><td>7.4</td></tr><tr><td>(2015 FC35)</td><td>220.82</td><td>4.807702246E7</td><td>2.35</td><td>7.68</td></tr><tr><td>(2018 RZ2)</td><td>215.79</td><td>6.270173647E7</td><td>2.34</td><td>7.8</td></tr><tr><td>(2021 QP3)</td><td>171.41</td><td>5.908661815E7</td><td>2.24</td><td>7.77</td></tr><tr><td>(2015 UG)</td><td>162.94</td><td>1.694046102E7</td><td>2.21</td><td>7.23</td></tr><tr><td>(2015 RX83)</td><td>156.33</td><td>4.332079372E7</td><td>2.2</td><td>7.64</td></tr><tr><td>(2015 RO36)</td><td>154.18</td><td>8086032.0</td><td>2.19</td><td>6.91</td></tr><tr><td>(2015 TX237)</td><td>130.03</td><td>1.189660243E7</td><td>2.12</td><td>7.08</td></tr><tr><td>(2024 CU2)</td><td>127.66</td><td>3.949957038E7</td><td>2.11</td><td>7.6</td></tr><tr><td>(2015 RH36)</td><td>113.25</td><td>1.63567259E7</td><td>2.06</td><td>7.21</td></tr><tr><td>(2015 RY83)</td><td>85.91</td><td>1.144272884E7</td><td>1.94</td><td>7.06</td></tr><tr><td>(2015 RC)</td><td>82.04</td><td>4027962.7</td><td>1.92</td><td>6.61</td></tr><tr><td>(2016 RT)</td><td>78.35</td><td>2.55371982E7</td><td>1.9</td><td>7.41</td></tr><tr><td>(2020 BY)</td><td>74.82</td><td>6.085142251E7</td><td>1.88</td><td>7.78</td></tr><tr><td>(2015 RL35)</td><td>32.66</td><td>1.035919367E7</td><td>1.53</td><td>7.02</td></tr><tr><td>(2010 XT10)</td><td>29.79</td><td>7.356378239E7</td><td>1.49</td><td>7.87</td></tr><tr><td>(2015 RG2)</td><td>27.17</td><td>2450214.65</td><td>1.45</td><td>6.39</td></tr><tr><td>(2020 WZ)</td><td>24.78</td><td>6.914463697E7</td><td>1.41</td><td>7.84</td></tr><tr><td>(2021 VC9)</td><td>23.02</td><td>6.630089521E7</td><td>1.38</td><td>7.82</td></tr><tr><td>(2016 RU33)</td><td>18.79</td><td>3.396606813E7</td><td>1.3</td><td>7.53</td></tr><tr><td>(2023 TP16)</td><td>6.58</td><td>5.386937413E7</td><td>0.88</td><td>7.73</td></tr><tr><td>(2016 RN41)</td><td>3.72</td><td>1.803134071E7</td><td>0.67</td><td>7.26</td></tr></tbody></table></div>"
      ]
     },
     "metadata": {
      "application/vnd.databricks.v1+output": {
       "addedWidgets": {},
       "aggData": [],
       "aggError": "",
       "aggOverflow": false,
       "aggSchema": [],
       "aggSeriesLimitReached": false,
       "aggType": "",
       "arguments": {},
       "columnCustomDisplayInfos": {},
       "data": [
        [
         "440012 (2002 LE27)",
         711.28,
         7.452503584E7,
         2.85,
         7.87
        ],
        [
         "465633 (2009 JR5)",
         485.33,
         4.529029823E7,
         2.69,
         7.66
        ],
        [
         "(2016 EK158)",
         474.29,
         4.195849768E7,
         2.68,
         7.62
        ],
        [
         "(2019 QK4)",
         430.57,
         5.050366279E7,
         2.64,
         7.7
        ],
        [
         "(2008 QV11)",
         320.66,
         3.876455855E7,
         2.51,
         7.59
        ],
        [
         "(2015 RN83)",
         263.05,
         2.519517736E7,
         2.42,
         7.4
        ],
        [
         "(2015 FC35)",
         220.82,
         4.807702246E7,
         2.35,
         7.68
        ],
        [
         "(2018 RZ2)",
         215.79,
         6.270173647E7,
         2.34,
         7.8
        ],
        [
         "(2021 QP3)",
         171.41,
         5.908661815E7,
         2.24,
         7.77
        ],
        [
         "(2015 UG)",
         162.94,
         1.694046102E7,
         2.21,
         7.23
        ],
        [
         "(2015 RX83)",
         156.33,
         4.332079372E7,
         2.2,
         7.64
        ],
        [
         "(2015 RO36)",
         154.18,
         8086032.0,
         2.19,
         6.91
        ],
        [
         "(2015 TX237)",
         130.03,
         1.189660243E7,
         2.12,
         7.08
        ],
        [
         "(2024 CU2)",
         127.66,
         3.949957038E7,
         2.11,
         7.6
        ],
        [
         "(2015 RH36)",
         113.25,
         1.63567259E7,
         2.06,
         7.21
        ],
        [
         "(2015 RY83)",
         85.91,
         1.144272884E7,
         1.94,
         7.06
        ],
        [
         "(2015 RC)",
         82.04,
         4027962.7,
         1.92,
         6.61
        ],
        [
         "(2016 RT)",
         78.35,
         2.55371982E7,
         1.9,
         7.41
        ],
        [
         "(2020 BY)",
         74.82,
         6.085142251E7,
         1.88,
         7.78
        ],
        [
         "(2015 RL35)",
         32.66,
         1.035919367E7,
         1.53,
         7.02
        ],
        [
         "(2010 XT10)",
         29.79,
         7.356378239E7,
         1.49,
         7.87
        ],
        [
         "(2015 RG2)",
         27.17,
         2450214.65,
         1.45,
         6.39
        ],
        [
         "(2020 WZ)",
         24.78,
         6.914463697E7,
         1.41,
         7.84
        ],
        [
         "(2021 VC9)",
         23.02,
         6.630089521E7,
         1.38,
         7.82
        ],
        [
         "(2016 RU33)",
         18.79,
         3.396606813E7,
         1.3,
         7.53
        ],
        [
         "(2023 TP16)",
         6.58,
         5.386937413E7,
         0.88,
         7.73
        ],
        [
         "(2016 RN41)",
         3.72,
         1.803134071E7,
         0.67,
         7.26
        ]
       ],
       "datasetInfos": [
        {
         "name": "_sqldf",
         "schema": {
          "fields": [
           {
            "metadata": {},
            "name": "name",
            "nullable": true,
            "type": "string"
           },
           {
            "metadata": {},
            "name": "Size (meter)",
            "nullable": true,
            "type": "double"
           },
           {
            "metadata": {},
            "name": "Miss Distance (km)",
            "nullable": true,
            "type": "double"
           },
           {
            "metadata": {},
            "name": "log_diameter_max",
            "nullable": true,
            "type": "double"
           },
           {
            "metadata": {},
            "name": "log_miss_distance",
            "nullable": true,
            "type": "double"
           }
          ],
          "type": "struct"
         },
         "tableIdentifier": null,
         "typeStr": "pyspark.sql.connect.dataframe.DataFrame"
        }
       ],
       "dbfsResultPath": null,
       "isJsonSchema": true,
       "metadata": {
        "createTempViewForImplicitDf": true,
        "dataframeName": "_sqldf",
        "executionCount": 14
       },
       "overflow": false,
       "plotOptions": {
        "customPlotOptions": {},
        "displayType": "table",
        "pivotAggregation": null,
        "pivotColumns": null,
        "xColumns": null,
        "yColumns": null
       },
       "removedWidgets": [],
       "schema": [
        {
         "metadata": "{}",
         "name": "name",
         "type": "\"string\""
        },
        {
         "metadata": "{}",
         "name": "Size (meter)",
         "type": "\"double\""
        },
        {
         "metadata": "{}",
         "name": "Miss Distance (km)",
         "type": "\"double\""
        },
        {
         "metadata": "{}",
         "name": "log_diameter_max",
         "type": "\"double\""
        },
        {
         "metadata": "{}",
         "name": "log_miss_distance",
         "type": "\"double\""
        }
       ],
       "type": "table"
      }
     },
     "output_type": "display_data"
    },
    {
     "output_type": "display_data",
     "data": {
      "text/plain": [
       "Databricks visualization. Run in Databricks to view."
      ]
     },
     "metadata": {
      "application/vnd.databricks.v1.subcommand+json": {
       "baseErrorDetails": null,
       "bindings": {},
       "collapsed": false,
       "command": "%sql WITH q AS (SELECT name\n     , diameter_max_m AS `Size (meter)`\n     , miss_distance_km AS `Miss Distance (km)`\n     , log_diameter_max\n     , log_miss_distance\nFROM neo_analysis\nORDER BY log_diameter_max DESC) SELECT `log_diameter_max`,`log_miss_distance` FROM q",
       "commandTitle": "size vs distance",
       "commandType": "auto",
       "commandVersion": 0,
       "commentThread": [],
       "commentsVisible": false,
       "contentSha256Hex": null,
       "customPlotOptions": {
        "redashChart": [
         {
          "key": "type",
          "value": "CHART"
         },
         {
          "key": "options",
          "value": {
           "alignYAxesAtZero": true,
           "coefficient": 1,
           "columnConfigurationMap": {
            "x": {
             "column": "log_diameter_max",
             "id": "column_bf12fe8158"
            },
            "y": [
             {
              "column": "log_miss_distance",
              "id": "column_bf12fe8155"
             }
            ]
           },
           "dateTimeFormat": "DD/MM/YYYY HH:mm",
           "direction": {
            "type": "counterclockwise"
           },
           "error_y": {
            "type": "data",
            "visible": true
           },
           "globalSeriesType": "scatter",
           "hideXAxis": false,
           "hideYAxes": false,
           "legend": {
            "traceorder": "normal"
           },
           "missingValuesAsZero": true,
           "numberFormat": "0,0.[00000]",
           "percentFormat": "0[.]00%",
           "series": {
            "error_y": {
             "type": "data",
             "visible": true
            },
            "stacking": null
           },
           "seriesOptions": {
            "log_miss_distance": {
             "type": "scatter",
             "yAxis": 0
            }
           },
           "showDataLabels": false,
           "sizemode": "diameter",
           "sortX": true,
           "sortY": true,
           "swappedAxes": false,
           "textFormat": "",
           "useAggregationsUi": true,
           "valuesOptions": {},
           "version": 2,
           "xAxis": {
            "labels": {
             "enabled": true
            },
            "title": {
             "text": "log diameter (size)"
            },
            "type": "-"
           },
           "yAxis": [
            {
             "title": {
              "text": "log miss distance"
             },
             "type": "-"
            },
            {
             "opposite": true,
             "type": "-"
            }
           ]
          }
         }
        ]
       },
       "datasetPreviewNameToCmdIdMap": {},
       "diffDeletes": [],
       "diffInserts": [],
       "displayType": "redashChart",
       "error": null,
       "errorDetails": null,
       "errorSummary": null,
       "errorTraceType": null,
       "finishTime": 0,
       "globalVars": {},
       "guid": "",
       "height": "auto",
       "hideCommandCode": false,
       "hideCommandResult": false,
       "iPythonMetadata": null,
       "inputWidgets": {},
       "isLockedInExamMode": false,
       "latestAssumeRoleInfo": null,
       "latestUser": "a user",
       "latestUserId": null,
       "listResultMetadata": null,
       "metadata": {
        "byteLimit": 2048000,
        "implicitDf": true,
        "rowLimit": 10000
       },
       "nuid": "3594e497-8514-4b9f-80a3-5cc498974d78",
       "origId": 0,
       "parentHierarchy": [],
       "pivotAggregation": null,
       "pivotColumns": null,
       "position": 8.0,
       "resultDbfsErrorMessage": null,
       "resultDbfsStatus": "INLINED_IN_TREE",
       "results": null,
       "showCommandTitle": false,
       "startTime": 0,
       "state": "input",
       "streamStates": {},
       "subcommandOptions": {
        "queryPlan": {
         "selects": [
          {
           "column": "log_diameter_max",
           "type": "column"
          },
          {
           "column": "log_miss_distance",
           "type": "column"
          }
         ]
        }
       },
       "submitTime": 0,
       "subtype": "tableResultSubCmd.visualization",
       "tableResultIndex": 0,
       "tableResultSettingsMap": {},
       "useConsistentColors": false,
       "version": "CommandV1",
       "width": "auto",
       "workflows": [],
       "xColumns": null,
       "yColumns": null
      }
     },
     "output_type": "display_data"
    }
   ],
   "source": [
    "%sql\n",
    "SELECT name\n",
    "     , diameter_max_m AS `Size (meter)`\n",
    "     , miss_distance_km AS `Miss Distance (km)`\n",
    "     , log_diameter_max\n",
    "     , log_miss_distance\n",
    "FROM neo_analysis\n",
    "ORDER BY log_diameter_max DESC\n",
    "      \n"
   ]
  },
  {
   "cell_type": "markdown",
   "metadata": {
    "application/vnd.databricks.v1+cell": {
     "cellMetadata": {
      "byteLimit": 2048000,
      "rowLimit": 10000
     },
     "inputWidgets": {},
     "nuid": "543e7d68-5d8a-438b-851f-4849894d57f8",
     "showTitle": false,
     "tableResultSettingsMap": {},
     "title": ""
    }
   },
   "source": [
    "2. Size vs Orbital period"
   ]
  },
  {
   "cell_type": "code",
   "execution_count": 0,
   "metadata": {
    "application/vnd.databricks.v1+cell": {
     "cellMetadata": {
      "byteLimit": 2048000,
      "implicitDf": true,
      "rowLimit": 10000
     },
     "inputWidgets": {},
     "nuid": "61f331dd-fcad-49cb-bec6-d5df24ffd143",
     "showTitle": false,
     "tableResultSettingsMap": {
      "0": {
       "dataGridStateBlob": "{\"version\":1,\"tableState\":{\"columnPinning\":{\"left\":[\"#row_number#\"],\"right\":[]},\"columnSizing\":{},\"columnVisibility\":{}},\"settings\":{\"columns\":{}},\"syncTimestamp\":1759156575259}",
       "filterBlob": null,
       "queryPlanFiltersBlob": null,
       "tableResultIndex": 0
      }
     },
     "title": ""
    }
   },
   "outputs": [
    {
     "output_type": "display_data",
     "data": {
      "text/html": [
       "<style scoped>\n",
       "  .table-result-container {\n",
       "    max-height: 300px;\n",
       "    overflow: auto;\n",
       "  }\n",
       "  table, th, td {\n",
       "    border: 1px solid black;\n",
       "    border-collapse: collapse;\n",
       "  }\n",
       "  th, td {\n",
       "    padding: 5px;\n",
       "  }\n",
       "  th {\n",
       "    text-align: left;\n",
       "  }\n",
       "</style><div class='table-result-container'><table class='table-result'><thead style='background-color: white'><tr><th>Object Name</th><th>Size (meter)</th><th>Orbital Period (days)</th><th>Orbital Period (years)</th></tr></thead><tbody><tr><td>465633 (2009 JR5)</td><td>485.33</td><td>511.75</td><td>1.4</td></tr><tr><td>(2008 QV11)</td><td>320.66</td><td>315.98</td><td>0.87</td></tr><tr><td>(2010 XT10)</td><td>29.79</td><td>597.21</td><td>1.64</td></tr><tr><td>(2015 RC)</td><td>82.04</td><td>1336.23</td><td>3.66</td></tr><tr><td>(2015 RO36)</td><td>154.18</td><td>459.83</td><td>1.26</td></tr><tr><td>(2015 RN83)</td><td>263.05</td><td>675.03</td><td>1.85</td></tr><tr><td>(2015 TX237)</td><td>130.03</td><td>1191.52</td><td>3.26</td></tr><tr><td>(2015 UG)</td><td>162.94</td><td>538.6</td><td>1.47</td></tr><tr><td>(2016 EK158)</td><td>474.29</td><td>443.82</td><td>1.22</td></tr><tr><td>(2016 RT)</td><td>78.35</td><td>0.0</td><td>0.0</td></tr><tr><td>(2021 QP3)</td><td>171.41</td><td>0.0</td><td>0.0</td></tr><tr><td>(2021 VC9)</td><td>23.02</td><td>0.0</td><td>0.0</td></tr><tr><td>(2023 TP16)</td><td>6.58</td><td>0.0</td><td>0.0</td></tr><tr><td>440012 (2002 LE27)</td><td>711.28</td><td>0.0</td><td>0.0</td></tr><tr><td>(2015 FC35)</td><td>220.82</td><td>0.0</td><td>0.0</td></tr><tr><td>(2015 RG2)</td><td>27.17</td><td>0.0</td><td>0.0</td></tr><tr><td>(2015 RL35)</td><td>32.66</td><td>0.0</td><td>0.0</td></tr><tr><td>(2015 RH36)</td><td>113.25</td><td>0.0</td><td>0.0</td></tr><tr><td>(2015 RX83)</td><td>156.33</td><td>0.0</td><td>0.0</td></tr><tr><td>(2015 RY83)</td><td>85.91</td><td>0.0</td><td>0.0</td></tr><tr><td>(2016 RU33)</td><td>18.79</td><td>0.0</td><td>0.0</td></tr><tr><td>(2016 RN41)</td><td>3.72</td><td>0.0</td><td>0.0</td></tr><tr><td>(2018 RZ2)</td><td>215.79</td><td>0.0</td><td>0.0</td></tr><tr><td>(2019 QK4)</td><td>430.57</td><td>0.0</td><td>0.0</td></tr><tr><td>(2020 BY)</td><td>74.82</td><td>0.0</td><td>0.0</td></tr><tr><td>(2020 WZ)</td><td>24.78</td><td>0.0</td><td>0.0</td></tr><tr><td>(2024 CU2)</td><td>127.66</td><td>0.0</td><td>0.0</td></tr></tbody></table></div>"
      ]
     },
     "metadata": {
      "application/vnd.databricks.v1+output": {
       "addedWidgets": {},
       "aggData": [],
       "aggError": "",
       "aggOverflow": false,
       "aggSchema": [],
       "aggSeriesLimitReached": false,
       "aggType": "",
       "arguments": {},
       "columnCustomDisplayInfos": {},
       "data": [
        [
         "465633 (2009 JR5)",
         485.33,
         511.75,
         1.4
        ],
        [
         "(2008 QV11)",
         320.66,
         315.98,
         0.87
        ],
        [
         "(2010 XT10)",
         29.79,
         597.21,
         1.64
        ],
        [
         "(2015 RC)",
         82.04,
         1336.23,
         3.66
        ],
        [
         "(2015 RO36)",
         154.18,
         459.83,
         1.26
        ],
        [
         "(2015 RN83)",
         263.05,
         675.03,
         1.85
        ],
        [
         "(2015 TX237)",
         130.03,
         1191.52,
         3.26
        ],
        [
         "(2015 UG)",
         162.94,
         538.6,
         1.47
        ],
        [
         "(2016 EK158)",
         474.29,
         443.82,
         1.22
        ],
        [
         "(2016 RT)",
         78.35,
         0.0,
         0.0
        ],
        [
         "(2021 QP3)",
         171.41,
         0.0,
         0.0
        ],
        [
         "(2021 VC9)",
         23.02,
         0.0,
         0.0
        ],
        [
         "(2023 TP16)",
         6.58,
         0.0,
         0.0
        ],
        [
         "440012 (2002 LE27)",
         711.28,
         0.0,
         0.0
        ],
        [
         "(2015 FC35)",
         220.82,
         0.0,
         0.0
        ],
        [
         "(2015 RG2)",
         27.17,
         0.0,
         0.0
        ],
        [
         "(2015 RL35)",
         32.66,
         0.0,
         0.0
        ],
        [
         "(2015 RH36)",
         113.25,
         0.0,
         0.0
        ],
        [
         "(2015 RX83)",
         156.33,
         0.0,
         0.0
        ],
        [
         "(2015 RY83)",
         85.91,
         0.0,
         0.0
        ],
        [
         "(2016 RU33)",
         18.79,
         0.0,
         0.0
        ],
        [
         "(2016 RN41)",
         3.72,
         0.0,
         0.0
        ],
        [
         "(2018 RZ2)",
         215.79,
         0.0,
         0.0
        ],
        [
         "(2019 QK4)",
         430.57,
         0.0,
         0.0
        ],
        [
         "(2020 BY)",
         74.82,
         0.0,
         0.0
        ],
        [
         "(2020 WZ)",
         24.78,
         0.0,
         0.0
        ],
        [
         "(2024 CU2)",
         127.66,
         0.0,
         0.0
        ]
       ],
       "datasetInfos": [
        {
         "name": "_sqldf",
         "schema": {
          "fields": [
           {
            "metadata": {},
            "name": "Object Name",
            "nullable": true,
            "type": "string"
           },
           {
            "metadata": {},
            "name": "Size (meter)",
            "nullable": true,
            "type": "double"
           },
           {
            "metadata": {},
            "name": "Orbital Period (days)",
            "nullable": true,
            "type": "double"
           },
           {
            "metadata": {},
            "name": "Orbital Period (years)",
            "nullable": true,
            "type": "double"
           }
          ],
          "type": "struct"
         },
         "tableIdentifier": null,
         "typeStr": "pyspark.sql.connect.dataframe.DataFrame"
        }
       ],
       "dbfsResultPath": null,
       "isJsonSchema": true,
       "metadata": {
        "createTempViewForImplicitDf": true,
        "dataframeName": "_sqldf",
        "executionCount": 15
       },
       "overflow": false,
       "plotOptions": {
        "customPlotOptions": {},
        "displayType": "table",
        "pivotAggregation": null,
        "pivotColumns": null,
        "xColumns": null,
        "yColumns": null
       },
       "removedWidgets": [],
       "schema": [
        {
         "metadata": "{}",
         "name": "Object Name",
         "type": "\"string\""
        },
        {
         "metadata": "{}",
         "name": "Size (meter)",
         "type": "\"double\""
        },
        {
         "metadata": "{}",
         "name": "Orbital Period (days)",
         "type": "\"double\""
        },
        {
         "metadata": "{}",
         "name": "Orbital Period (years)",
         "type": "\"double\""
        }
       ],
       "type": "table"
      }
     },
     "output_type": "display_data"
    },
    {
     "output_type": "display_data",
     "data": {
      "text/plain": [
       "Databricks visualization. Run in Databricks to view."
      ]
     },
     "metadata": {
      "application/vnd.databricks.v1.subcommand+json": {
       "baseErrorDetails": null,
       "bindings": {},
       "collapsed": false,
       "command": "%sql WITH q AS (SELECT name AS `Object Name`\n     , diameter_max_m AS `Size (meter)`\n     , orbital_period_days AS `Orbital Period (days)`\n     , orbital_period_years AS `Orbital Period (years)`\nFROM neo_analysis) SELECT `Size (meter)`,`Orbital Period (years)`,`Object Name` FROM q",
       "commandTitle": "Size vs. orbital period",
       "commandType": "auto",
       "commandVersion": 0,
       "commentThread": [],
       "commentsVisible": false,
       "contentSha256Hex": null,
       "customPlotOptions": {
        "redashChart": [
         {
          "key": "type",
          "value": "CHART"
         },
         {
          "key": "options",
          "value": {
           "alignYAxesAtZero": true,
           "coefficient": 1,
           "columnConfigurationMap": {
            "series": {
             "column": "Object Name",
             "id": "column_6df89cfb277"
            },
            "x": {
             "column": "Size (meter)",
             "id": "column_6df89cfb275"
            },
            "y": [
             {
              "column": "Orbital Period (years)",
              "id": "column_6df89cfb276"
             }
            ]
           },
           "dateTimeFormat": "DD/MM/YYYY HH:mm",
           "direction": {
            "type": "counterclockwise"
           },
           "error_y": {
            "type": "data",
            "visible": true
           },
           "globalSeriesType": "scatter",
           "legend": {
            "traceorder": "normal"
           },
           "missingValuesAsZero": true,
           "numberFormat": "0,0.[00000]",
           "percentFormat": "0[.]00%",
           "series": {
            "error_y": {
             "type": "data",
             "visible": true
            },
            "stacking": null
           },
           "seriesOptions": {
            "Orbital Period (years)": {
             "type": "scatter",
             "yAxis": 0
            }
           },
           "showDataLabels": false,
           "sizemode": "diameter",
           "sortX": true,
           "sortY": true,
           "swappedAxes": false,
           "textFormat": "",
           "useAggregationsUi": true,
           "valuesOptions": {},
           "version": 2,
           "xAxis": {
            "labels": {
             "enabled": true
            },
            "type": "-"
           },
           "yAxis": [
            {
             "type": "-"
            },
            {
             "opposite": true,
             "type": "-"
            }
           ]
          }
         }
        ]
       },
       "datasetPreviewNameToCmdIdMap": {},
       "diffDeletes": [],
       "diffInserts": [],
       "displayType": "redashChart",
       "error": null,
       "errorDetails": null,
       "errorSummary": null,
       "errorTraceType": null,
       "finishTime": 0,
       "globalVars": {},
       "guid": "",
       "height": "auto",
       "hideCommandCode": false,
       "hideCommandResult": false,
       "iPythonMetadata": null,
       "inputWidgets": {},
       "isLockedInExamMode": false,
       "latestAssumeRoleInfo": null,
       "latestUser": "a user",
       "latestUserId": null,
       "listResultMetadata": null,
       "metadata": {
        "byteLimit": 2048000,
        "implicitDf": true,
        "rowLimit": 10000
       },
       "nuid": "47473279-17ab-4c39-8ae0-2ee4648099ea",
       "origId": 0,
       "parentHierarchy": [],
       "pivotAggregation": null,
       "pivotColumns": null,
       "position": 8.75,
       "resultDbfsErrorMessage": null,
       "resultDbfsStatus": "INLINED_IN_TREE",
       "results": null,
       "showCommandTitle": false,
       "startTime": 0,
       "state": "input",
       "streamStates": {},
       "subcommandOptions": {
        "queryPlan": {
         "selects": [
          {
           "column": "Size (meter)",
           "type": "column"
          },
          {
           "column": "Orbital Period (years)",
           "type": "column"
          },
          {
           "column": "Object Name",
           "type": "column"
          }
         ]
        }
       },
       "submitTime": 0,
       "subtype": "tableResultSubCmd.visualization",
       "tableResultIndex": 0,
       "tableResultSettingsMap": {},
       "useConsistentColors": false,
       "version": "CommandV1",
       "width": "auto",
       "workflows": [],
       "xColumns": null,
       "yColumns": null
      }
     },
     "output_type": "display_data"
    }
   ],
   "source": [
    "%sql\n",
    "SELECT name AS `Object Name`\n",
    "     , diameter_max_m AS `Size (meter)`\n",
    "     , orbital_period_days AS `Orbital Period (days)`\n",
    "     , orbital_period_years AS `Orbital Period (years)`\n",
    "FROM neo_analysis"
   ]
  },
  {
   "cell_type": "markdown",
   "metadata": {
    "application/vnd.databricks.v1+cell": {
     "cellMetadata": {
      "byteLimit": 2048000,
      "rowLimit": 10000
     },
     "inputWidgets": {},
     "nuid": "6c8ee147-986c-453f-9cb6-a613e1530657",
     "showTitle": false,
     "tableResultSettingsMap": {},
     "title": ""
    }
   },
   "source": [
    "3. Orbital period vs Approach distance\n"
   ]
  },
  {
   "cell_type": "code",
   "execution_count": 0,
   "metadata": {
    "application/vnd.databricks.v1+cell": {
     "cellMetadata": {
      "byteLimit": 2048000,
      "implicitDf": true,
      "rowLimit": 10000
     },
     "inputWidgets": {},
     "nuid": "167cdd39-3c49-44a8-b257-67ead59f6b45",
     "showTitle": false,
     "tableResultSettingsMap": {},
     "title": ""
    }
   },
   "outputs": [
    {
     "output_type": "display_data",
     "data": {
      "text/html": [
       "<style scoped>\n",
       "  .table-result-container {\n",
       "    max-height: 300px;\n",
       "    overflow: auto;\n",
       "  }\n",
       "  table, th, td {\n",
       "    border: 1px solid black;\n",
       "    border-collapse: collapse;\n",
       "  }\n",
       "  th, td {\n",
       "    padding: 5px;\n",
       "  }\n",
       "  th {\n",
       "    text-align: left;\n",
       "  }\n",
       "</style><div class='table-result-container'><table class='table-result'><thead style='background-color: white'><tr><th>Object Name</th><th>Obect Size (meter)</th><th>Miss Distance (km)</th><th>Orbit Period (years)</th></tr></thead><tbody><tr><td>465633 (2009 JR5)</td><td>485.33</td><td>4.529029823E7</td><td>1.4</td></tr><tr><td>(2008 QV11)</td><td>320.66</td><td>3.876455855E7</td><td>0.87</td></tr><tr><td>(2010 XT10)</td><td>29.79</td><td>7.356378239E7</td><td>1.64</td></tr><tr><td>(2015 RC)</td><td>82.04</td><td>4027962.7</td><td>3.66</td></tr><tr><td>(2015 RO36)</td><td>154.18</td><td>8086032.0</td><td>1.26</td></tr><tr><td>(2015 RN83)</td><td>263.05</td><td>2.519517736E7</td><td>1.85</td></tr><tr><td>(2015 TX237)</td><td>130.03</td><td>1.189660243E7</td><td>3.26</td></tr><tr><td>(2015 UG)</td><td>162.94</td><td>1.694046102E7</td><td>1.47</td></tr><tr><td>(2016 EK158)</td><td>474.29</td><td>4.195849768E7</td><td>1.22</td></tr><tr><td>(2016 RT)</td><td>78.35</td><td>2.55371982E7</td><td>0.0</td></tr><tr><td>(2021 QP3)</td><td>171.41</td><td>5.908661815E7</td><td>0.0</td></tr><tr><td>(2021 VC9)</td><td>23.02</td><td>6.630089521E7</td><td>0.0</td></tr><tr><td>(2023 TP16)</td><td>6.58</td><td>5.386937413E7</td><td>0.0</td></tr><tr><td>440012 (2002 LE27)</td><td>711.28</td><td>7.452503584E7</td><td>0.0</td></tr><tr><td>(2015 FC35)</td><td>220.82</td><td>4.807702246E7</td><td>0.0</td></tr><tr><td>(2015 RG2)</td><td>27.17</td><td>2450214.65</td><td>0.0</td></tr><tr><td>(2015 RL35)</td><td>32.66</td><td>1.035919367E7</td><td>0.0</td></tr><tr><td>(2015 RH36)</td><td>113.25</td><td>1.63567259E7</td><td>0.0</td></tr><tr><td>(2015 RX83)</td><td>156.33</td><td>4.332079372E7</td><td>0.0</td></tr><tr><td>(2015 RY83)</td><td>85.91</td><td>1.144272884E7</td><td>0.0</td></tr><tr><td>(2016 RU33)</td><td>18.79</td><td>3.396606813E7</td><td>0.0</td></tr><tr><td>(2016 RN41)</td><td>3.72</td><td>1.803134071E7</td><td>0.0</td></tr><tr><td>(2018 RZ2)</td><td>215.79</td><td>6.270173647E7</td><td>0.0</td></tr><tr><td>(2019 QK4)</td><td>430.57</td><td>5.050366279E7</td><td>0.0</td></tr><tr><td>(2020 BY)</td><td>74.82</td><td>6.085142251E7</td><td>0.0</td></tr><tr><td>(2020 WZ)</td><td>24.78</td><td>6.914463697E7</td><td>0.0</td></tr><tr><td>(2024 CU2)</td><td>127.66</td><td>3.949957038E7</td><td>0.0</td></tr></tbody></table></div>"
      ]
     },
     "metadata": {
      "application/vnd.databricks.v1+output": {
       "addedWidgets": {},
       "aggData": [],
       "aggError": "",
       "aggOverflow": false,
       "aggSchema": [],
       "aggSeriesLimitReached": false,
       "aggType": "",
       "arguments": {},
       "columnCustomDisplayInfos": {},
       "data": [
        [
         "465633 (2009 JR5)",
         485.33,
         4.529029823E7,
         1.4
        ],
        [
         "(2008 QV11)",
         320.66,
         3.876455855E7,
         0.87
        ],
        [
         "(2010 XT10)",
         29.79,
         7.356378239E7,
         1.64
        ],
        [
         "(2015 RC)",
         82.04,
         4027962.7,
         3.66
        ],
        [
         "(2015 RO36)",
         154.18,
         8086032.0,
         1.26
        ],
        [
         "(2015 RN83)",
         263.05,
         2.519517736E7,
         1.85
        ],
        [
         "(2015 TX237)",
         130.03,
         1.189660243E7,
         3.26
        ],
        [
         "(2015 UG)",
         162.94,
         1.694046102E7,
         1.47
        ],
        [
         "(2016 EK158)",
         474.29,
         4.195849768E7,
         1.22
        ],
        [
         "(2016 RT)",
         78.35,
         2.55371982E7,
         0.0
        ],
        [
         "(2021 QP3)",
         171.41,
         5.908661815E7,
         0.0
        ],
        [
         "(2021 VC9)",
         23.02,
         6.630089521E7,
         0.0
        ],
        [
         "(2023 TP16)",
         6.58,
         5.386937413E7,
         0.0
        ],
        [
         "440012 (2002 LE27)",
         711.28,
         7.452503584E7,
         0.0
        ],
        [
         "(2015 FC35)",
         220.82,
         4.807702246E7,
         0.0
        ],
        [
         "(2015 RG2)",
         27.17,
         2450214.65,
         0.0
        ],
        [
         "(2015 RL35)",
         32.66,
         1.035919367E7,
         0.0
        ],
        [
         "(2015 RH36)",
         113.25,
         1.63567259E7,
         0.0
        ],
        [
         "(2015 RX83)",
         156.33,
         4.332079372E7,
         0.0
        ],
        [
         "(2015 RY83)",
         85.91,
         1.144272884E7,
         0.0
        ],
        [
         "(2016 RU33)",
         18.79,
         3.396606813E7,
         0.0
        ],
        [
         "(2016 RN41)",
         3.72,
         1.803134071E7,
         0.0
        ],
        [
         "(2018 RZ2)",
         215.79,
         6.270173647E7,
         0.0
        ],
        [
         "(2019 QK4)",
         430.57,
         5.050366279E7,
         0.0
        ],
        [
         "(2020 BY)",
         74.82,
         6.085142251E7,
         0.0
        ],
        [
         "(2020 WZ)",
         24.78,
         6.914463697E7,
         0.0
        ],
        [
         "(2024 CU2)",
         127.66,
         3.949957038E7,
         0.0
        ]
       ],
       "datasetInfos": [
        {
         "name": "_sqldf",
         "schema": {
          "fields": [
           {
            "metadata": {},
            "name": "Object Name",
            "nullable": true,
            "type": "string"
           },
           {
            "metadata": {},
            "name": "Obect Size (meter)",
            "nullable": true,
            "type": "double"
           },
           {
            "metadata": {},
            "name": "Miss Distance (km)",
            "nullable": true,
            "type": "double"
           },
           {
            "metadata": {},
            "name": "Orbit Period (years)",
            "nullable": true,
            "type": "double"
           }
          ],
          "type": "struct"
         },
         "tableIdentifier": null,
         "typeStr": "pyspark.sql.connect.dataframe.DataFrame"
        }
       ],
       "dbfsResultPath": null,
       "isJsonSchema": true,
       "metadata": {
        "createTempViewForImplicitDf": true,
        "dataframeName": "_sqldf",
        "executionCount": 16
       },
       "overflow": false,
       "plotOptions": {
        "customPlotOptions": {},
        "displayType": "table",
        "pivotAggregation": null,
        "pivotColumns": null,
        "xColumns": null,
        "yColumns": null
       },
       "removedWidgets": [],
       "schema": [
        {
         "metadata": "{}",
         "name": "Object Name",
         "type": "\"string\""
        },
        {
         "metadata": "{}",
         "name": "Obect Size (meter)",
         "type": "\"double\""
        },
        {
         "metadata": "{}",
         "name": "Miss Distance (km)",
         "type": "\"double\""
        },
        {
         "metadata": "{}",
         "name": "Orbit Period (years)",
         "type": "\"double\""
        }
       ],
       "type": "table"
      }
     },
     "output_type": "display_data"
    },
    {
     "output_type": "display_data",
     "data": {
      "text/plain": [
       "Databricks visualization. Run in Databricks to view."
      ]
     },
     "metadata": {
      "application/vnd.databricks.v1.subcommand+json": {
       "baseErrorDetails": null,
       "bindings": {},
       "collapsed": false,
       "command": "%sql WITH q AS (SELECT name AS `Object Name`\n     , diameter_max_m AS `Obect Size (meter)`\n     , miss_distance_abs_km AS `Miss Distance (km)`\n     , orbital_period_years AS `Orbit Period (years)`\nFROM neo_analysis) SELECT `Orbit Period (years)`,`Miss Distance (km)`,`Object Name` FROM q",
       "commandTitle": "Long-period objects and proximity",
       "commandType": "auto",
       "commandVersion": 0,
       "commentThread": [],
       "commentsVisible": false,
       "contentSha256Hex": null,
       "customPlotOptions": {
        "redashChart": [
         {
          "key": "type",
          "value": "CHART"
         },
         {
          "key": "options",
          "value": {
           "alignYAxesAtZero": true,
           "coefficient": 1,
           "columnConfigurationMap": {
            "series": {
             "column": "Object Name",
             "id": "column_6df89cfb280"
            },
            "x": {
             "column": "Orbit Period (years)",
             "id": "column_6df89cfb278"
            },
            "y": [
             {
              "column": "Miss Distance (km)",
              "id": "column_6df89cfb279"
             }
            ]
           },
           "dateTimeFormat": "DD/MM/YYYY HH:mm",
           "direction": {
            "type": "counterclockwise"
           },
           "error_y": {
            "type": "data",
            "visible": true
           },
           "globalSeriesType": "scatter",
           "legend": {
            "traceorder": "normal"
           },
           "missingValuesAsZero": true,
           "numberFormat": "0,0.[00000]",
           "percentFormat": "0[.]00%",
           "series": {
            "error_y": {
             "type": "data",
             "visible": true
            },
            "stacking": null
           },
           "seriesOptions": {
            "Miss Distance (km)": {
             "type": "scatter",
             "yAxis": 0
            }
           },
           "showDataLabels": false,
           "sizemode": "diameter",
           "sortX": true,
           "sortY": true,
           "swappedAxes": false,
           "textFormat": "",
           "useAggregationsUi": true,
           "valuesOptions": {},
           "version": 2,
           "xAxis": {
            "labels": {
             "enabled": true
            },
            "type": "-"
           },
           "yAxis": [
            {
             "type": "-"
            },
            {
             "opposite": true,
             "type": "-"
            }
           ]
          }
         }
        ]
       },
       "datasetPreviewNameToCmdIdMap": {},
       "diffDeletes": [],
       "diffInserts": [],
       "displayType": "redashChart",
       "error": null,
       "errorDetails": null,
       "errorSummary": null,
       "errorTraceType": null,
       "finishTime": 0,
       "globalVars": {},
       "guid": "",
       "height": "auto",
       "hideCommandCode": false,
       "hideCommandResult": false,
       "iPythonMetadata": null,
       "inputWidgets": {},
       "isLockedInExamMode": false,
       "latestAssumeRoleInfo": null,
       "latestUser": "a user",
       "latestUserId": null,
       "listResultMetadata": null,
       "metadata": {
        "byteLimit": 2048000,
        "implicitDf": true,
        "rowLimit": 10000
       },
       "nuid": "adeefd8c-f01b-4167-a130-7de0635b6510",
       "origId": 0,
       "parentHierarchy": [],
       "pivotAggregation": null,
       "pivotColumns": null,
       "position": 8.9375,
       "resultDbfsErrorMessage": null,
       "resultDbfsStatus": "INLINED_IN_TREE",
       "results": null,
       "showCommandTitle": false,
       "startTime": 0,
       "state": "input",
       "streamStates": {},
       "subcommandOptions": {
        "queryPlan": {
         "selects": [
          {
           "column": "Orbit Period (years)",
           "type": "column"
          },
          {
           "column": "Miss Distance (km)",
           "type": "column"
          },
          {
           "column": "Object Name",
           "type": "column"
          }
         ]
        }
       },
       "submitTime": 0,
       "subtype": "tableResultSubCmd.visualization",
       "tableResultIndex": 0,
       "tableResultSettingsMap": {},
       "useConsistentColors": false,
       "version": "CommandV1",
       "width": "auto",
       "workflows": [],
       "xColumns": null,
       "yColumns": null
      }
     },
     "output_type": "display_data"
    }
   ],
   "source": [
    "%sql\n",
    "SELECT name AS `Object Name`\n",
    "     , diameter_max_m AS `Obect Size (meter)`\n",
    "     , miss_distance_km AS `Miss Distance (km)`\n",
    "     , orbital_period_years AS `Orbit Period (years)`\n",
    "FROM neo_analysis"
   ]
  },
  {
   "cell_type": "markdown",
   "metadata": {
    "application/vnd.databricks.v1+cell": {
     "cellMetadata": {
      "byteLimit": 2048000,
      "rowLimit": 10000
     },
     "inputWidgets": {},
     "nuid": "43604024-aa47-46f6-8322-b4dc6a43429a",
     "showTitle": false,
     "tableResultSettingsMap": {},
     "title": ""
    }
   },
   "source": [
    "**AC-5: The system should allow for sorting and filtering of NEOs \n",
    "based on multiple parameters simultaneously.**"
   ]
  },
  {
   "cell_type": "markdown",
   "metadata": {
    "application/vnd.databricks.v1+cell": {
     "cellMetadata": {
      "byteLimit": 2048000,
      "rowLimit": 10000
     },
     "inputWidgets": {},
     "nuid": "c8f1c5c8-1031-4acb-b8c8-e992c6ca2d0e",
     "showTitle": false,
     "tableResultSettingsMap": {},
     "title": ""
    }
   },
   "source": [
    "1. Filter by Size, Hazard, and Approach Distance"
   ]
  },
  {
   "cell_type": "code",
   "execution_count": 0,
   "metadata": {
    "application/vnd.databricks.v1+cell": {
     "cellMetadata": {
      "byteLimit": 2048000,
      "implicitDf": true,
      "rowLimit": 10000
     },
     "inputWidgets": {},
     "nuid": "17df6008-3447-47b0-9387-225580d03a7c",
     "showTitle": false,
     "tableResultSettingsMap": {},
     "title": ""
    }
   },
   "outputs": [
    {
     "output_type": "display_data",
     "data": {
      "text/html": [
       "<style scoped>\n",
       "  .table-result-container {\n",
       "    max-height: 300px;\n",
       "    overflow: auto;\n",
       "  }\n",
       "  table, th, td {\n",
       "    border: 1px solid black;\n",
       "    border-collapse: collapse;\n",
       "  }\n",
       "  th, td {\n",
       "    padding: 5px;\n",
       "  }\n",
       "  th {\n",
       "    text-align: left;\n",
       "  }\n",
       "</style><div class='table-result-container'><table class='table-result'><thead style='background-color: white'><tr><th>name</th><th>diameter_max_m</th><th>hazard_category</th><th>miss_distance_km</th><th>hazard_category</th><th>hazard_level</th></tr></thead><tbody><tr><td>440012 (2002 LE27)</td><td>711.28</td><td>Low Risk</td><td>7.452503584E7</td><td>Low Risk</td><td>Non-Hazardous</td></tr><tr><td>(2019 QK4)</td><td>430.57</td><td>Low Risk</td><td>5.050366279E7</td><td>Low Risk</td><td>Non-Hazardous</td></tr><tr><td>(2016 EK158)</td><td>474.29</td><td>Low Risk</td><td>4.195849768E7</td><td>Low Risk</td><td>Non-Hazardous</td></tr><tr><td>(2008 QV11)</td><td>320.66</td><td>Low Risk</td><td>3.876455855E7</td><td>Low Risk</td><td>Non-Hazardous</td></tr></tbody></table></div>"
      ]
     },
     "metadata": {
      "application/vnd.databricks.v1+output": {
       "addedWidgets": {},
       "aggData": [],
       "aggError": "",
       "aggOverflow": false,
       "aggSchema": [],
       "aggSeriesLimitReached": false,
       "aggType": "",
       "arguments": {},
       "columnCustomDisplayInfos": {},
       "data": [
        [
         "440012 (2002 LE27)",
         711.28,
         "Low Risk",
         7.452503584E7,
         "Low Risk",
         "Non-Hazardous"
        ],
        [
         "(2019 QK4)",
         430.57,
         "Low Risk",
         5.050366279E7,
         "Low Risk",
         "Non-Hazardous"
        ],
        [
         "(2016 EK158)",
         474.29,
         "Low Risk",
         4.195849768E7,
         "Low Risk",
         "Non-Hazardous"
        ],
        [
         "(2008 QV11)",
         320.66,
         "Low Risk",
         3.876455855E7,
         "Low Risk",
         "Non-Hazardous"
        ]
       ],
       "datasetInfos": [
        {
         "name": "_sqldf",
         "schema": {
          "fields": [
           {
            "metadata": {},
            "name": "name",
            "nullable": true,
            "type": "string"
           },
           {
            "metadata": {},
            "name": "diameter_max_m",
            "nullable": true,
            "type": "double"
           },
           {
            "metadata": {},
            "name": "hazard_category",
            "nullable": true,
            "type": "string"
           },
           {
            "metadata": {},
            "name": "miss_distance_km",
            "nullable": true,
            "type": "double"
           },
           {
            "metadata": {},
            "name": "hazard_category",
            "nullable": true,
            "type": "string"
           },
           {
            "metadata": {},
            "name": "hazard_level",
            "nullable": true,
            "type": "string"
           }
          ],
          "type": "struct"
         },
         "tableIdentifier": null,
         "typeStr": "pyspark.sql.connect.dataframe.DataFrame"
        }
       ],
       "dbfsResultPath": null,
       "isJsonSchema": true,
       "metadata": {
        "createTempViewForImplicitDf": true,
        "dataframeName": "_sqldf",
        "executionCount": 17
       },
       "overflow": false,
       "plotOptions": {
        "customPlotOptions": {},
        "displayType": "table",
        "pivotAggregation": null,
        "pivotColumns": null,
        "xColumns": null,
        "yColumns": null
       },
       "removedWidgets": [],
       "schema": [
        {
         "metadata": "{}",
         "name": "name",
         "type": "\"string\""
        },
        {
         "metadata": "{}",
         "name": "diameter_max_m",
         "type": "\"double\""
        },
        {
         "metadata": "{}",
         "name": "hazard_category",
         "type": "\"string\""
        },
        {
         "metadata": "{}",
         "name": "miss_distance_km",
         "type": "\"double\""
        },
        {
         "metadata": "{}",
         "name": "hazard_category",
         "type": "\"string\""
        },
        {
         "metadata": "{}",
         "name": "hazard_level",
         "type": "\"string\""
        }
       ],
       "type": "table"
      }
     },
     "output_type": "display_data"
    }
   ],
   "source": [
    "%sql\n",
    "SELECT name\n",
    "     , diameter_max_m\n",
    "     , hazard_category\n",
    "     , miss_distance_km\n",
    "     , hazard_category\n",
    "     , hazard_level\n",
    "FROM neo_analysis\n",
    "WHERE hazard_category = 'Low Risk'\n",
    "  AND diameter_max_m > 300\n",
    "ORDER BY miss_distance_km DESC\n"
   ]
  },
  {
   "cell_type": "markdown",
   "metadata": {
    "application/vnd.databricks.v1+cell": {
     "cellMetadata": {
      "byteLimit": 2048000,
      "rowLimit": 10000
     },
     "inputWidgets": {},
     "nuid": "d0072fef-b912-4031-b04d-bec31de6630b",
     "showTitle": false,
     "tableResultSettingsMap": {},
     "title": ""
    }
   },
   "source": [
    "2. Filter by Orbital Period and Velocity"
   ]
  },
  {
   "cell_type": "code",
   "execution_count": 0,
   "metadata": {
    "application/vnd.databricks.v1+cell": {
     "cellMetadata": {
      "byteLimit": 2048000,
      "implicitDf": true,
      "rowLimit": 10000
     },
     "inputWidgets": {},
     "nuid": "c3a863f5-0b02-4750-b9f0-0cfa1aa7e0b2",
     "showTitle": false,
     "tableResultSettingsMap": {},
     "title": ""
    }
   },
   "outputs": [
    {
     "output_type": "display_data",
     "data": {
      "text/html": [
       "<style scoped>\n",
       "  .table-result-container {\n",
       "    max-height: 300px;\n",
       "    overflow: auto;\n",
       "  }\n",
       "  table, th, td {\n",
       "    border: 1px solid black;\n",
       "    border-collapse: collapse;\n",
       "  }\n",
       "  th, td {\n",
       "    padding: 5px;\n",
       "  }\n",
       "  th {\n",
       "    text-align: left;\n",
       "  }\n",
       "</style><div class='table-result-container'><table class='table-result'><thead style='background-color: white'><tr><th>Object Name</th><th>Orbit Period (years)</th><th>Velocity (KM per Second)</th></tr></thead><tbody><tr><td>(2015 RC)</td><td>3.66</td><td>19.49</td></tr><tr><td>(2010 XT10)</td><td>1.64</td><td>19.15</td></tr><tr><td>465633 (2009 JR5)</td><td>1.4</td><td>18.13</td></tr><tr><td>(2016 EK158)</td><td>1.22</td><td>16.96</td></tr><tr><td>(2015 RO36)</td><td>1.26</td><td>15.81</td></tr><tr><td>(2015 RN83)</td><td>1.85</td><td>12.08</td></tr></tbody></table></div>"
      ]
     },
     "metadata": {
      "application/vnd.databricks.v1+output": {
       "addedWidgets": {},
       "aggData": [],
       "aggError": "",
       "aggOverflow": false,
       "aggSchema": [],
       "aggSeriesLimitReached": false,
       "aggType": "",
       "arguments": {},
       "columnCustomDisplayInfos": {},
       "data": [
        [
         "(2015 RC)",
         3.66,
         19.49
        ],
        [
         "(2010 XT10)",
         1.64,
         19.15
        ],
        [
         "465633 (2009 JR5)",
         1.4,
         18.13
        ],
        [
         "(2016 EK158)",
         1.22,
         16.96
        ],
        [
         "(2015 RO36)",
         1.26,
         15.81
        ],
        [
         "(2015 RN83)",
         1.85,
         12.08
        ]
       ],
       "datasetInfos": [
        {
         "name": "_sqldf",
         "schema": {
          "fields": [
           {
            "metadata": {},
            "name": "Object Name",
            "nullable": true,
            "type": "string"
           },
           {
            "metadata": {},
            "name": "Orbit Period (years)",
            "nullable": true,
            "type": "double"
           },
           {
            "metadata": {},
            "name": "Velocity (KM per Second)",
            "nullable": true,
            "type": "double"
           }
          ],
          "type": "struct"
         },
         "tableIdentifier": null,
         "typeStr": "pyspark.sql.connect.dataframe.DataFrame"
        }
       ],
       "dbfsResultPath": null,
       "isJsonSchema": true,
       "metadata": {
        "createTempViewForImplicitDf": true,
        "dataframeName": "_sqldf",
        "executionCount": 18
       },
       "overflow": false,
       "plotOptions": {
        "customPlotOptions": {},
        "displayType": "table",
        "pivotAggregation": null,
        "pivotColumns": null,
        "xColumns": null,
        "yColumns": null
       },
       "removedWidgets": [],
       "schema": [
        {
         "metadata": "{}",
         "name": "Object Name",
         "type": "\"string\""
        },
        {
         "metadata": "{}",
         "name": "Orbit Period (years)",
         "type": "\"double\""
        },
        {
         "metadata": "{}",
         "name": "Velocity (KM per Second)",
         "type": "\"double\""
        }
       ],
       "type": "table"
      }
     },
     "output_type": "display_data"
    }
   ],
   "source": [
    "%sql\n",
    "SELECT name `Object Name`\n",
    "     , orbital_period_years `Orbit Period (years)`\n",
    "     , velocity_km_s `Velocity (KM per Second)`\n",
    "FROM neo_analysis\n",
    "WHERE orbital_period_years BETWEEN 1 AND 5\n",
    "  AND velocity_km_s > 12\n",
    "ORDER BY velocity_km_s DESC"
   ]
  },
  {
   "cell_type": "markdown",
   "metadata": {
    "application/vnd.databricks.v1+cell": {
     "cellMetadata": {
      "byteLimit": 2048000,
      "rowLimit": 10000
     },
     "inputWidgets": {},
     "nuid": "dd474f25-8d9e-45d5-9fee-498b3bd7426f",
     "showTitle": false,
     "tableResultSettingsMap": {},
     "title": ""
    }
   },
   "source": [
    "3. Filter by Date Range and Size Category"
   ]
  },
  {
   "cell_type": "code",
   "execution_count": 0,
   "metadata": {
    "application/vnd.databricks.v1+cell": {
     "cellMetadata": {
      "byteLimit": 2048000,
      "implicitDf": true,
      "rowLimit": 10000
     },
     "inputWidgets": {},
     "nuid": "d9324613-8c6f-4104-833b-ff896a8eb318",
     "showTitle": false,
     "tableResultSettingsMap": {
      "0": {
       "dataGridStateBlob": "{\"version\":1,\"tableState\":{\"columnPinning\":{\"left\":[\"#row_number#\"],\"right\":[]},\"columnSizing\":{},\"columnVisibility\":{}},\"settings\":{\"columns\":{}},\"syncTimestamp\":1759158710819}",
       "filterBlob": null,
       "queryPlanFiltersBlob": null,
       "tableResultIndex": 0
      }
     },
     "title": ""
    }
   },
   "outputs": [
    {
     "output_type": "display_data",
     "data": {
      "text/html": [
       "<style scoped>\n",
       "  .table-result-container {\n",
       "    max-height: 300px;\n",
       "    overflow: auto;\n",
       "  }\n",
       "  table, th, td {\n",
       "    border: 1px solid black;\n",
       "    border-collapse: collapse;\n",
       "  }\n",
       "  th, td {\n",
       "    padding: 5px;\n",
       "  }\n",
       "  th {\n",
       "    text-align: left;\n",
       "  }\n",
       "</style><div class='table-result-container'><table class='table-result'><thead style='background-color: white'><tr><th>Object Name</th><th>Approach Date</th><th>Size Category</th><th>Size (meter)</th></tr></thead><tbody><tr><td>(2015 RX83)</td><td>2015-09-07</td><td>Medium</td><td>156.33</td></tr><tr><td>440012 (2002 LE27)</td><td>2015-09-07</td><td>Large</td><td>711.28</td></tr><tr><td>(2019 QK4)</td><td>2015-09-07</td><td>Medium</td><td>430.57</td></tr><tr><td>(2018 RZ2)</td><td>2015-09-07</td><td>Medium</td><td>215.79</td></tr><tr><td>(2015 FC35)</td><td>2015-09-07</td><td>Medium</td><td>220.82</td></tr><tr><td>(2015 UG)</td><td>2015-09-08</td><td>Medium</td><td>162.94</td></tr><tr><td>(2008 QV11)</td><td>2015-09-08</td><td>Medium</td><td>320.66</td></tr><tr><td>(2016 EK158)</td><td>2015-09-08</td><td>Medium</td><td>474.29</td></tr><tr><td>(2015 RO36)</td><td>2015-09-08</td><td>Medium</td><td>154.18</td></tr><tr><td>465633 (2009 JR5)</td><td>2015-09-08</td><td>Medium</td><td>485.33</td></tr><tr><td>(2015 RN83)</td><td>2015-09-08</td><td>Medium</td><td>263.05</td></tr><tr><td>(2021 QP3)</td><td>2015-09-08</td><td>Medium</td><td>171.41</td></tr></tbody></table></div>"
      ]
     },
     "metadata": {
      "application/vnd.databricks.v1+output": {
       "addedWidgets": {},
       "aggData": [],
       "aggError": "",
       "aggOverflow": false,
       "aggSchema": [],
       "aggSeriesLimitReached": false,
       "aggType": "",
       "arguments": {},
       "columnCustomDisplayInfos": {},
       "data": [
        [
         "(2015 RX83)",
         "2015-09-07",
         "Medium",
         156.33
        ],
        [
         "440012 (2002 LE27)",
         "2015-09-07",
         "Large",
         711.28
        ],
        [
         "(2019 QK4)",
         "2015-09-07",
         "Medium",
         430.57
        ],
        [
         "(2018 RZ2)",
         "2015-09-07",
         "Medium",
         215.79
        ],
        [
         "(2015 FC35)",
         "2015-09-07",
         "Medium",
         220.82
        ],
        [
         "(2015 UG)",
         "2015-09-08",
         "Medium",
         162.94
        ],
        [
         "(2008 QV11)",
         "2015-09-08",
         "Medium",
         320.66
        ],
        [
         "(2016 EK158)",
         "2015-09-08",
         "Medium",
         474.29
        ],
        [
         "(2015 RO36)",
         "2015-09-08",
         "Medium",
         154.18
        ],
        [
         "465633 (2009 JR5)",
         "2015-09-08",
         "Medium",
         485.33
        ],
        [
         "(2015 RN83)",
         "2015-09-08",
         "Medium",
         263.05
        ],
        [
         "(2021 QP3)",
         "2015-09-08",
         "Medium",
         171.41
        ]
       ],
       "datasetInfos": [
        {
         "name": "_sqldf",
         "schema": {
          "fields": [
           {
            "metadata": {},
            "name": "Object Name",
            "nullable": true,
            "type": "string"
           },
           {
            "metadata": {},
            "name": "Approach Date",
            "nullable": true,
            "type": "date"
           },
           {
            "metadata": {},
            "name": "Size Category",
            "nullable": true,
            "type": "string"
           },
           {
            "metadata": {},
            "name": "Size (meter)",
            "nullable": true,
            "type": "double"
           }
          ],
          "type": "struct"
         },
         "tableIdentifier": null,
         "typeStr": "pyspark.sql.connect.dataframe.DataFrame"
        }
       ],
       "dbfsResultPath": null,
       "isJsonSchema": true,
       "metadata": {
        "createTempViewForImplicitDf": true,
        "dataframeName": "_sqldf",
        "executionCount": 19
       },
       "overflow": false,
       "plotOptions": {
        "customPlotOptions": {},
        "displayType": "table",
        "pivotAggregation": null,
        "pivotColumns": null,
        "xColumns": null,
        "yColumns": null
       },
       "removedWidgets": [],
       "schema": [
        {
         "metadata": "{}",
         "name": "Object Name",
         "type": "\"string\""
        },
        {
         "metadata": "{}",
         "name": "Approach Date",
         "type": "\"date\""
        },
        {
         "metadata": "{}",
         "name": "Size Category",
         "type": "\"string\""
        },
        {
         "metadata": "{}",
         "name": "Size (meter)",
         "type": "\"double\""
        }
       ],
       "type": "table"
      }
     },
     "output_type": "display_data"
    }
   ],
   "source": [
    "%sql\n",
    "SELECT name `Object Name`\n",
    "     , close_approach_date `Approach Date`\n",
    "     , size_category_label `Size Category` \n",
    "     , diameter_max_m `Size (meter)`\n",
    "FROM neo_analysis\n",
    "WHERE close_approach_date BETWEEN '2000-01-01' AND '2030-12-31'\n",
    "  AND size_category_label IN ('Large', 'Medium')\n",
    "ORDER BY close_approach_date"
   ]
  },
  {
   "cell_type": "markdown",
   "metadata": {
    "application/vnd.databricks.v1+cell": {
     "cellMetadata": {
      "byteLimit": 2048000,
      "rowLimit": 10000
     },
     "inputWidgets": {},
     "nuid": "c016b2b0-840b-4fd0-8ef7-d14e7827473b",
     "showTitle": false,
     "tableResultSettingsMap": {},
     "title": ""
    }
   },
   "source": [
    "**AC-6: The system should provide detailed individual object profiles \n",
    "for objects of particular interest**"
   ]
  },
  {
   "cell_type": "markdown",
   "metadata": {
    "application/vnd.databricks.v1+cell": {
     "cellMetadata": {
      "byteLimit": 2048000,
      "rowLimit": 10000
     },
     "inputWidgets": {},
     "nuid": "b06b2c3c-9285-4b3f-86a4-b66a90ab7710",
     "showTitle": false,
     "tableResultSettingsMap": {},
     "title": ""
    }
   },
   "source": [
    "1. Query Individual Object Profiles"
   ]
  },
  {
   "cell_type": "code",
   "execution_count": 0,
   "metadata": {
    "application/vnd.databricks.v1+cell": {
     "cellMetadata": {
      "byteLimit": 2048000,
      "implicitDf": true,
      "rowLimit": 10000
     },
     "inputWidgets": {},
     "nuid": "3d7fc6d1-d722-49d6-b34f-3bdefa666c86",
     "showTitle": false,
     "tableResultSettingsMap": {},
     "title": ""
    }
   },
   "outputs": [
    {
     "output_type": "display_data",
     "data": {
      "text/html": [
       "<style scoped>\n",
       "  .table-result-container {\n",
       "    max-height: 300px;\n",
       "    overflow: auto;\n",
       "  }\n",
       "  table, th, td {\n",
       "    border: 1px solid black;\n",
       "    border-collapse: collapse;\n",
       "  }\n",
       "  th, td {\n",
       "    padding: 5px;\n",
       "  }\n",
       "  th {\n",
       "    text-align: left;\n",
       "  }\n",
       "</style><div class='table-result-container'><table class='table-result'><thead style='background-color: white'><tr><th>neo_id</th><th>name</th><th>absolute_magnitude_h</th><th>diameter_min_m</th><th>diameter_max_m</th><th>is_potentially_hazardous</th><th>close_approach_date</th><th>velocity_km_h</th><th>velocity_km_s</th><th>miss_distance_km</th><th>orbiting_body</th><th>orbital_period_days</th><th>orbital_period_years</th><th>semi_major_axis</th><th>eccentricity</th><th>inclination</th><th>size_avg</th><th>size_category</th><th>size_category_label</th><th>in_50yr_window</th><th>hazard_category</th><th>log_diameter_max</th><th>log_miss_distance</th><th>distance_category</th><th>hazard_level</th></tr></thead><tbody><tr><td>2465633</td><td>465633 (2009 JR5)</td><td>20.44</td><td>217.05</td><td>485.33</td><td>true</td><td>2015-09-08</td><td>65260.57</td><td>18.13</td><td>4.529029823E7</td><td>Earth</td><td>511.75</td><td>1.4</td><td>1.252104927613802</td><td>0.351307954667653</td><td>3.950971334997432</td><td>351.19</td><td>100m-500m</td><td>Medium</td><td>true</td><td>Moderate Risk</td><td>2.69</td><td>7.66</td><td>>5M km</td><td>Hazardous</td></tr></tbody></table></div>"
      ]
     },
     "metadata": {
      "application/vnd.databricks.v1+output": {
       "addedWidgets": {},
       "aggData": [],
       "aggError": "",
       "aggOverflow": false,
       "aggSchema": [],
       "aggSeriesLimitReached": false,
       "aggType": "",
       "arguments": {},
       "columnCustomDisplayInfos": {},
       "data": [
        [
         "2465633",
         "465633 (2009 JR5)",
         20.44,
         217.05,
         485.33,
         true,
         "2015-09-08",
         65260.57,
         18.13,
         4.529029823E7,
         "Earth",
         511.75,
         1.4,
         1.252104927613802,
         0.351307954667653,
         3.950971334997432,
         351.19,
         "100m-500m",
         "Medium",
         true,
         "Moderate Risk",
         2.69,
         7.66,
         ">5M km",
         "Hazardous"
        ]
       ],
       "datasetInfos": [
        {
         "name": "_sqldf",
         "schema": {
          "fields": [
           {
            "metadata": {},
            "name": "neo_id",
            "nullable": true,
            "type": "string"
           },
           {
            "metadata": {},
            "name": "name",
            "nullable": true,
            "type": "string"
           },
           {
            "metadata": {},
            "name": "absolute_magnitude_h",
            "nullable": true,
            "type": "double"
           },
           {
            "metadata": {},
            "name": "diameter_min_m",
            "nullable": true,
            "type": "double"
           },
           {
            "metadata": {},
            "name": "diameter_max_m",
            "nullable": true,
            "type": "double"
           },
           {
            "metadata": {},
            "name": "is_potentially_hazardous",
            "nullable": true,
            "type": "boolean"
           },
           {
            "metadata": {},
            "name": "close_approach_date",
            "nullable": true,
            "type": "date"
           },
           {
            "metadata": {},
            "name": "velocity_km_h",
            "nullable": true,
            "type": "double"
           },
           {
            "metadata": {},
            "name": "velocity_km_s",
            "nullable": true,
            "type": "double"
           },
           {
            "metadata": {},
            "name": "miss_distance_km",
            "nullable": true,
            "type": "double"
           },
           {
            "metadata": {},
            "name": "orbiting_body",
            "nullable": true,
            "type": "string"
           },
           {
            "metadata": {},
            "name": "orbital_period_days",
            "nullable": true,
            "type": "double"
           },
           {
            "metadata": {},
            "name": "orbital_period_years",
            "nullable": true,
            "type": "double"
           },
           {
            "metadata": {},
            "name": "semi_major_axis",
            "nullable": true,
            "type": "double"
           },
           {
            "metadata": {},
            "name": "eccentricity",
            "nullable": true,
            "type": "double"
           },
           {
            "metadata": {},
            "name": "inclination",
            "nullable": true,
            "type": "double"
           },
           {
            "metadata": {},
            "name": "size_avg",
            "nullable": true,
            "type": "double"
           },
           {
            "metadata": {},
            "name": "size_category",
            "nullable": true,
            "type": "string"
           },
           {
            "metadata": {},
            "name": "size_category_label",
            "nullable": true,
            "type": "string"
           },
           {
            "metadata": {},
            "name": "in_50yr_window",
            "nullable": true,
            "type": "boolean"
           },
           {
            "metadata": {},
            "name": "hazard_category",
            "nullable": true,
            "type": "string"
           },
           {
            "metadata": {},
            "name": "log_diameter_max",
            "nullable": true,
            "type": "double"
           },
           {
            "metadata": {},
            "name": "log_miss_distance",
            "nullable": true,
            "type": "double"
           },
           {
            "metadata": {},
            "name": "distance_category",
            "nullable": true,
            "type": "string"
           },
           {
            "metadata": {},
            "name": "hazard_level",
            "nullable": true,
            "type": "string"
           }
          ],
          "type": "struct"
         },
         "tableIdentifier": null,
         "typeStr": "pyspark.sql.connect.dataframe.DataFrame"
        }
       ],
       "dbfsResultPath": null,
       "isJsonSchema": true,
       "metadata": {
        "createTempViewForImplicitDf": true,
        "dataframeName": "_sqldf",
        "executionCount": 20
       },
       "overflow": false,
       "plotOptions": {
        "customPlotOptions": {},
        "displayType": "table",
        "pivotAggregation": null,
        "pivotColumns": null,
        "xColumns": null,
        "yColumns": null
       },
       "removedWidgets": [],
       "schema": [
        {
         "metadata": "{}",
         "name": "neo_id",
         "type": "\"string\""
        },
        {
         "metadata": "{}",
         "name": "name",
         "type": "\"string\""
        },
        {
         "metadata": "{}",
         "name": "absolute_magnitude_h",
         "type": "\"double\""
        },
        {
         "metadata": "{}",
         "name": "diameter_min_m",
         "type": "\"double\""
        },
        {
         "metadata": "{}",
         "name": "diameter_max_m",
         "type": "\"double\""
        },
        {
         "metadata": "{}",
         "name": "is_potentially_hazardous",
         "type": "\"boolean\""
        },
        {
         "metadata": "{}",
         "name": "close_approach_date",
         "type": "\"date\""
        },
        {
         "metadata": "{}",
         "name": "velocity_km_h",
         "type": "\"double\""
        },
        {
         "metadata": "{}",
         "name": "velocity_km_s",
         "type": "\"double\""
        },
        {
         "metadata": "{}",
         "name": "miss_distance_km",
         "type": "\"double\""
        },
        {
         "metadata": "{}",
         "name": "orbiting_body",
         "type": "\"string\""
        },
        {
         "metadata": "{}",
         "name": "orbital_period_days",
         "type": "\"double\""
        },
        {
         "metadata": "{}",
         "name": "orbital_period_years",
         "type": "\"double\""
        },
        {
         "metadata": "{}",
         "name": "semi_major_axis",
         "type": "\"double\""
        },
        {
         "metadata": "{}",
         "name": "eccentricity",
         "type": "\"double\""
        },
        {
         "metadata": "{}",
         "name": "inclination",
         "type": "\"double\""
        },
        {
         "metadata": "{}",
         "name": "size_avg",
         "type": "\"double\""
        },
        {
         "metadata": "{}",
         "name": "size_category",
         "type": "\"string\""
        },
        {
         "metadata": "{}",
         "name": "size_category_label",
         "type": "\"string\""
        },
        {
         "metadata": "{}",
         "name": "in_50yr_window",
         "type": "\"boolean\""
        },
        {
         "metadata": "{}",
         "name": "hazard_category",
         "type": "\"string\""
        },
        {
         "metadata": "{}",
         "name": "log_diameter_max",
         "type": "\"double\""
        },
        {
         "metadata": "{}",
         "name": "log_miss_distance",
         "type": "\"double\""
        },
        {
         "metadata": "{}",
         "name": "distance_category",
         "type": "\"string\""
        },
        {
         "metadata": "{}",
         "name": "hazard_level",
         "type": "\"string\""
        }
       ],
       "type": "table"
      }
     },
     "output_type": "display_data"
    }
   ],
   "source": [
    "%sql\n",
    "SELECT *\n",
    "  FROM neo_analysis\n",
    "WHERE neo_id = '2465633'  \n"
   ]
  },
  {
   "cell_type": "markdown",
   "metadata": {
    "application/vnd.databricks.v1+cell": {
     "cellMetadata": {
      "byteLimit": 2048000,
      "rowLimit": 10000
     },
     "inputWidgets": {},
     "nuid": "1591df77-8082-44ba-bdc5-bb821e4fc4fd",
     "showTitle": false,
     "tableResultSettingsMap": {},
     "title": ""
    }
   },
   "source": [
    "# User Story 2:"
   ]
  },
  {
   "cell_type": "markdown",
   "metadata": {
    "application/vnd.databricks.v1+cell": {
     "cellMetadata": {
      "byteLimit": 2048000,
      "rowLimit": 10000
     },
     "inputWidgets": {},
     "nuid": "3a2dc4f7-fbba-4f8e-aa6c-10e0e68cb296",
     "showTitle": false,
     "tableResultSettingsMap": {},
     "title": ""
    }
   },
   "source": [
    "**AC 1: The system should provide statistical analysis of near-Earth object (NEO) close approaches over a defined time period**"
   ]
  },
  {
   "cell_type": "markdown",
   "metadata": {
    "application/vnd.databricks.v1+cell": {
     "cellMetadata": {
      "byteLimit": 2048000,
      "rowLimit": 10000
     },
     "inputWidgets": {},
     "nuid": "987c8d2a-8235-403a-b08c-19b6537762f6",
     "showTitle": false,
     "tableResultSettingsMap": {},
     "title": ""
    }
   },
   "source": [
    "1. Close Approaches over time"
   ]
  },
  {
   "cell_type": "code",
   "execution_count": 0,
   "metadata": {
    "application/vnd.databricks.v1+cell": {
     "cellMetadata": {
      "byteLimit": 2048000,
      "rowLimit": 10000
     },
     "inputWidgets": {},
     "nuid": "799b1f1b-c278-4b78-b29b-cd72d37f5b45",
     "showTitle": false,
     "tableResultSettingsMap": {},
     "title": ""
    }
   },
   "outputs": [
    {
     "output_type": "display_data",
     "data": {
      "image/png": "[encoded data removed]",
      "text/plain": [
       "<Figure size 1200x600 with 1 Axes>"
      ]
     },
     "metadata": {},
     "output_type": "display_data"
    }
   ],
   "source": [
    "# Time Series of close approaches\n",
    "from pyspark.sql import SparkSession\n",
    "import matplotlib.pyplot as plt\n",
    "import seaborn as sns\n",
    "import pandas as pd\n",
    "\n",
    "spark = SparkSession.builder.getOrCreate()\n",
    "\n",
    "df = spark.sql(\"select close_approach_date, hazard_category FROM neo_analysis\")\n",
    "pdf = df.toPandas()\n",
    "\n",
    "# group by date and hazard status\n",
    "time_series = pdf.groupby([\"close_approach_date\", \"hazard_category\"]).size().unstack(fill_value=0)\n",
    "\n",
    "# plot\n",
    "time_series.plot(kind=\"line\", figsize=(12,6), title=\"Neo close approach over time\")\n",
    "plt.ylabel(\"Number of Approaches\")\n",
    "plt.xlabel(\"Date\")\n",
    "plt.legend([\"Non Hazardous\", \"Hazardous\"])\n",
    "plt.grid(True)\n",
    "plt.show()"
   ]
  },
  {
   "cell_type": "markdown",
   "metadata": {
    "application/vnd.databricks.v1+cell": {
     "cellMetadata": {
      "byteLimit": 2048000,
      "rowLimit": 10000
     },
     "inputWidgets": {},
     "nuid": "7fa20176-18a5-4588-a7a9-ff5957d7cef4",
     "showTitle": false,
     "tableResultSettingsMap": {},
     "title": ""
    }
   },
   "source": [
    "2. Size Distribution Histogram"
   ]
  },
  {
   "cell_type": "code",
   "execution_count": 0,
   "metadata": {
    "application/vnd.databricks.v1+cell": {
     "cellMetadata": {
      "byteLimit": 2048000,
      "rowLimit": 10000
     },
     "inputWidgets": {},
     "nuid": "1c6fa98e-4ddf-43d6-8acc-b13b21f1c7d9",
     "showTitle": false,
     "tableResultSettingsMap": {},
     "title": ""
    }
   },
   "outputs": [
    {
     "output_type": "display_data",
     "data": {
      "image/png": "[encoded data removed]",
      "text/plain": [
       "<Figure size 640x480 with 1 Axes>"
      ]
     },
     "metadata": {},
     "output_type": "display_data"
    }
   ],
   "source": [
    "import matplotlib.pyplot as plt\n",
    "import seaborn as sns\n",
    "import pandas as pd\n",
    "\n",
    "df = spark.sql(\"\"\"\n",
    "SELECT size_avg FROM neo_analysis\n",
    "\"\"\")\n",
    "pdf = df.toPandas()\n",
    "\n",
    "sns.histplot(pdf[\"size_avg\"], bins=30, kde=True)\n",
    "plt.title(\"Distribution of NEO Sizes\")\n",
    "plt.xlabel(\"Average Size (Diameter in meters)\")\n",
    "plt.ylabel(\"Frequency\")\n",
    "plt.grid(True)\n",
    "plt.show()\n"
   ]
  },
  {
   "cell_type": "markdown",
   "metadata": {
    "application/vnd.databricks.v1+cell": {
     "cellMetadata": {
      "byteLimit": 2048000,
      "rowLimit": 10000
     },
     "inputWidgets": {},
     "nuid": "fbe83233-d9cb-4086-8c16-07fa0f4d17cb",
     "showTitle": false,
     "tableResultSettingsMap": {},
     "title": ""
    }
   },
   "source": [
    "**AC-2: When filtering by object size ranges, the system should show frequency distribution accordingly**"
   ]
  },
  {
   "cell_type": "markdown",
   "metadata": {
    "application/vnd.databricks.v1+cell": {
     "cellMetadata": {
      "byteLimit": 2048000,
      "rowLimit": 10000
     },
     "inputWidgets": {},
     "nuid": "91fc25a3-9950-4110-82c7-2533ad340384",
     "showTitle": false,
     "tableResultSettingsMap": {},
     "title": ""
    }
   },
   "source": [
    "1. Frequency Distribution Query (size_category, Hazard_category)\n"
   ]
  },
  {
   "cell_type": "code",
   "execution_count": 0,
   "metadata": {
    "application/vnd.databricks.v1+cell": {
     "cellMetadata": {
      "byteLimit": 2048000,
      "implicitDf": true,
      "rowLimit": 10000
     },
     "inputWidgets": {},
     "nuid": "bb86c85d-7c34-4fe1-b6a5-5c81a9f5d2fd",
     "showTitle": false,
     "tableResultSettingsMap": {},
     "title": ""
    }
   },
   "outputs": [
    {
     "output_type": "display_data",
     "data": {
      "text/html": [
       "<style scoped>\n",
       "  .table-result-container {\n",
       "    max-height: 300px;\n",
       "    overflow: auto;\n",
       "  }\n",
       "  table, th, td {\n",
       "    border: 1px solid black;\n",
       "    border-collapse: collapse;\n",
       "  }\n",
       "  th, td {\n",
       "    padding: 5px;\n",
       "  }\n",
       "  th {\n",
       "    text-align: left;\n",
       "  }\n",
       "</style><div class='table-result-container'><table class='table-result'><thead style='background-color: white'><tr><th>Size Category</th><th>Hazard Category</th><th>frequency</th></tr></thead><tbody><tr><td>100m-500m</td><td>Moderate Risk</td><td>1</td></tr><tr><td><10m</td><td>Low Risk</td><td>2</td></tr><tr><td>50-100m</td><td>Low Risk</td><td>7</td></tr><tr><td>10-50m</td><td>Low Risk</td><td>6</td></tr><tr><td>100m-500m</td><td>Low Risk</td><td>10</td></tr><tr><td>>500m</td><td>Low Risk</td><td>1</td></tr></tbody></table></div>"
      ]
     },
     "metadata": {
      "application/vnd.databricks.v1+output": {
       "addedWidgets": {},
       "aggData": [],
       "aggError": "",
       "aggOverflow": false,
       "aggSchema": [],
       "aggSeriesLimitReached": false,
       "aggType": "",
       "arguments": {},
       "columnCustomDisplayInfos": {},
       "data": [
        [
         "100m-500m",
         "Moderate Risk",
         1
        ],
        [
         "<10m",
         "Low Risk",
         2
        ],
        [
         "50-100m",
         "Low Risk",
         7
        ],
        [
         "10-50m",
         "Low Risk",
         6
        ],
        [
         "100m-500m",
         "Low Risk",
         10
        ],
        [
         ">500m",
         "Low Risk",
         1
        ]
       ],
       "datasetInfos": [
        {
         "name": "_sqldf",
         "schema": {
          "fields": [
           {
            "metadata": {},
            "name": "Size Category",
            "nullable": true,
            "type": "string"
           },
           {
            "metadata": {},
            "name": "Hazard Category",
            "nullable": true,
            "type": "string"
           },
           {
            "metadata": {},
            "name": "frequency",
            "nullable": false,
            "type": "long"
           }
          ],
          "type": "struct"
         },
         "tableIdentifier": null,
         "typeStr": "pyspark.sql.connect.dataframe.DataFrame"
        }
       ],
       "dbfsResultPath": null,
       "isJsonSchema": true,
       "metadata": {
        "createTempViewForImplicitDf": true,
        "dataframeName": "_sqldf",
        "executionCount": 22
       },
       "overflow": false,
       "plotOptions": {
        "customPlotOptions": {},
        "displayType": "table",
        "pivotAggregation": null,
        "pivotColumns": null,
        "xColumns": null,
        "yColumns": null
       },
       "removedWidgets": [],
       "schema": [
        {
         "metadata": "{}",
         "name": "Size Category",
         "type": "\"string\""
        },
        {
         "metadata": "{}",
         "name": "Hazard Category",
         "type": "\"string\""
        },
        {
         "metadata": "{}",
         "name": "frequency",
         "type": "\"long\""
        }
       ],
       "type": "table"
      }
     },
     "output_type": "display_data"
    },
    {
     "output_type": "display_data",
     "data": {
      "text/plain": [
       "Databricks visualization. Run in Databricks to view."
      ]
     },
     "metadata": {
      "application/vnd.databricks.v1.subcommand+json": {
       "baseErrorDetails": null,
       "bindings": {},
       "collapsed": false,
       "command": "%sql WITH q AS (SELECT size_category AS `Size Category`\n     , hazard_category AS `Hazard Category`\n     , COUNT(*) AS frequency\nFROM neo_analysis     \nGROUP BY size_category, hazard_category\nORDER BY hazard_category DESC) SELECT `Size Category`,`Hazard Category`,SUM(`frequency`) `column_6df89cfb341` FROM q GROUP BY `Hazard Category`,`Size Category`",
       "commandTitle": "Visualization 1",
       "commandType": "auto",
       "commandVersion": 0,
       "commentThread": [],
       "commentsVisible": false,
       "contentSha256Hex": null,
       "customPlotOptions": {
        "redashChart": [
         {
          "key": "type",
          "value": "CHART"
         },
         {
          "key": "options",
          "value": {
           "alignYAxesAtZero": true,
           "coefficient": 1,
           "columnConfigurationMap": {
            "series": {
             "column": "Hazard Category",
             "id": "column_6df89cfb340"
            },
            "x": {
             "column": "Size Category",
             "id": "column_6df89cfb339"
            },
            "y": [
             {
              "column": "frequency",
              "id": "column_6df89cfb341",
              "transform": "SUM"
             }
            ]
           },
           "dateTimeFormat": "DD/MM/YYYY HH:mm",
           "direction": {
            "type": "counterclockwise"
           },
           "error_y": {
            "type": "data",
            "visible": true
           },
           "globalSeriesType": "column",
           "isAggregationOn": true,
           "legend": {
            "traceorder": "normal"
           },
           "missingValuesAsZero": true,
           "numberFormat": "0,0.[00000]",
           "percentFormat": "0[.]00%",
           "series": {
            "error_y": {
             "type": "data",
             "visible": true
            },
            "stacking": "stack"
           },
           "seriesOptions": {
            "column_6df89cfb341": {
             "name": "frequency",
             "yAxis": 0
            }
           },
           "showDataLabels": true,
           "sizemode": "diameter",
           "sortX": true,
           "sortY": true,
           "swappedAxes": true,
           "textFormat": "",
           "useAggregationsUi": true,
           "valuesOptions": {},
           "version": 2,
           "xAxis": {
            "labels": {
             "enabled": true
            },
            "type": "-"
           },
           "yAxis": [
            {
             "title": {
              "text": "Frequency "
             },
             "type": "-"
            },
            {
             "opposite": true,
             "type": "-"
            }
           ]
          }
         }
        ]
       },
       "datasetPreviewNameToCmdIdMap": {},
       "diffDeletes": [],
       "diffInserts": [],
       "displayType": "redashChart",
       "error": null,
       "errorDetails": null,
       "errorSummary": null,
       "errorTraceType": null,
       "finishTime": 0,
       "globalVars": {},
       "guid": "",
       "height": "auto",
       "hideCommandCode": false,
       "hideCommandResult": false,
       "iPythonMetadata": null,
       "inputWidgets": {},
       "isLockedInExamMode": false,
       "latestAssumeRoleInfo": null,
       "latestUser": "a user",
       "latestUserId": null,
       "listResultMetadata": null,
       "metadata": {
        "byteLimit": 2048000,
        "implicitDf": true,
        "rowLimit": 10000
       },
       "nuid": "897b00a4-0e23-4d74-939c-aa0a99509ff6",
       "origId": 0,
       "parentHierarchy": [],
       "pivotAggregation": null,
       "pivotColumns": null,
       "position": 24.0,
       "resultDbfsErrorMessage": null,
       "resultDbfsStatus": "INLINED_IN_TREE",
       "results": null,
       "showCommandTitle": false,
       "startTime": 0,
       "state": "input",
       "streamStates": {},
       "subcommandOptions": {
        "queryPlan": {
         "groups": [
          {
           "column": "Size Category",
           "type": "column"
          },
          {
           "column": "Hazard Category",
           "type": "column"
          }
         ],
         "selects": [
          {
           "column": "Size Category",
           "type": "column"
          },
          {
           "column": "Hazard Category",
           "type": "column"
          },
          {
           "alias": "column_6df89cfb341",
           "args": [
            {
             "column": "frequency",
             "type": "column"
            }
           ],
           "function": "SUM",
           "type": "function"
          }
         ]
        }
       },
       "submitTime": 0,
       "subtype": "tableResultSubCmd.visualization",
       "tableResultIndex": 0,
       "tableResultSettingsMap": {},
       "useConsistentColors": false,
       "version": "CommandV1",
       "width": "auto",
       "workflows": [],
       "xColumns": null,
       "yColumns": null
      }
     },
     "output_type": "display_data"
    }
   ],
   "source": [
    "%sql\n",
    "SELECT size_category AS `Size Category`\n",
    "     , hazard_category AS `Hazard Category`\n",
    "     , COUNT(*) AS frequency\n",
    "FROM neo_analysis     \n",
    "GROUP BY size_category, hazard_category\n",
    "ORDER BY hazard_category DESC"
   ]
  },
  {
   "cell_type": "markdown",
   "metadata": {
    "application/vnd.databricks.v1+cell": {
     "cellMetadata": {
      "byteLimit": 2048000,
      "rowLimit": 10000
     },
     "inputWidgets": {},
     "nuid": "d54767f4-79f7-4a29-9fdf-4bf4d916a31e",
     "showTitle": false,
     "tableResultSettingsMap": {},
     "title": ""
    }
   },
   "source": [
    "**AC-3: The system should categorize objects by their minimum distance from Earth during close approaches.**"
   ]
  },
  {
   "cell_type": "markdown",
   "metadata": {
    "application/vnd.databricks.v1+cell": {
     "cellMetadata": {
      "byteLimit": 2048000,
      "rowLimit": 10000
     },
     "inputWidgets": {},
     "nuid": "e19172ab-c6dc-48df-99c4-41579a43136a",
     "showTitle": false,
     "tableResultSettingsMap": {},
     "title": ""
    }
   },
   "source": [
    "1. Frequency by distance"
   ]
  },
  {
   "cell_type": "code",
   "execution_count": 0,
   "metadata": {
    "application/vnd.databricks.v1+cell": {
     "cellMetadata": {
      "byteLimit": 2048000,
      "implicitDf": true,
      "rowLimit": 10000
     },
     "inputWidgets": {},
     "nuid": "36d288cd-721e-4299-b446-295b597f5249",
     "showTitle": false,
     "tableResultSettingsMap": {
      "0": {
       "dataGridStateBlob": "{\"version\":1,\"tableState\":{\"columnPinning\":{\"left\":[\"#row_number#\"],\"right\":[]},\"columnSizing\":{},\"columnVisibility\":{}},\"settings\":{\"columns\":{}},\"syncTimestamp\":1759161775203}",
       "filterBlob": null,
       "queryPlanFiltersBlob": null,
       "tableResultIndex": 0
      }
     },
     "title": ""
    }
   },
   "outputs": [
    {
     "output_type": "display_data",
     "data": {
      "text/html": [
       "<style scoped>\n",
       "  .table-result-container {\n",
       "    max-height: 300px;\n",
       "    overflow: auto;\n",
       "  }\n",
       "  table, th, td {\n",
       "    border: 1px solid black;\n",
       "    border-collapse: collapse;\n",
       "  }\n",
       "  th, td {\n",
       "    padding: 5px;\n",
       "  }\n",
       "  th {\n",
       "    text-align: left;\n",
       "  }\n",
       "</style><div class='table-result-container'><table class='table-result'><thead style='background-color: white'><tr><th>Distance Range (km)</th><th>frequency</th></tr></thead><tbody><tr><td>>5M km</td><td>25</td></tr><tr><td>1M-5M km</td><td>2</td></tr></tbody></table></div>"
      ]
     },
     "metadata": {
      "application/vnd.databricks.v1+output": {
       "addedWidgets": {},
       "aggData": [],
       "aggError": "",
       "aggOverflow": false,
       "aggSchema": [],
       "aggSeriesLimitReached": false,
       "aggType": "",
       "arguments": {},
       "columnCustomDisplayInfos": {},
       "data": [
        [
         ">5M km",
         25
        ],
        [
         "1M-5M km",
         2
        ]
       ],
       "datasetInfos": [
        {
         "name": "_sqldf",
         "schema": {
          "fields": [
           {
            "metadata": {},
            "name": "Distance Range (km)",
            "nullable": true,
            "type": "string"
           },
           {
            "metadata": {},
            "name": "frequency",
            "nullable": false,
            "type": "long"
           }
          ],
          "type": "struct"
         },
         "tableIdentifier": null,
         "typeStr": "pyspark.sql.connect.dataframe.DataFrame"
        }
       ],
       "dbfsResultPath": null,
       "isJsonSchema": true,
       "metadata": {
        "createTempViewForImplicitDf": true,
        "dataframeName": "_sqldf",
        "executionCount": 23
       },
       "overflow": false,
       "plotOptions": {
        "customPlotOptions": {},
        "displayType": "table",
        "pivotAggregation": null,
        "pivotColumns": null,
        "xColumns": null,
        "yColumns": null
       },
       "removedWidgets": [],
       "schema": [
        {
         "metadata": "{}",
         "name": "Distance Range (km)",
         "type": "\"string\""
        },
        {
         "metadata": "{}",
         "name": "frequency",
         "type": "\"long\""
        }
       ],
       "type": "table"
      }
     },
     "output_type": "display_data"
    },
    {
     "output_type": "display_data",
     "data": {
      "text/plain": [
       "Databricks visualization. Run in Databricks to view."
      ]
     },
     "metadata": {
      "application/vnd.databricks.v1.subcommand+json": {
       "baseErrorDetails": null,
       "bindings": {},
       "collapsed": false,
       "command": "%sql WITH q AS (SELECT distance_category AS `Distance Range (km)`\n     , COUNT(*) AS `frequency`\nFROM neo_analysis\nGROUP BY distance_category\nORDER BY frequency DESC) SELECT `Distance Range (km)`,SUM(`frequency`) `column_6df89cfb357` FROM q GROUP BY `Distance Range (km)`",
       "commandTitle": "Visualization 1",
       "commandType": "auto",
       "commandVersion": 0,
       "commentThread": [],
       "commentsVisible": false,
       "contentSha256Hex": null,
       "customPlotOptions": {
        "redashChart": [
         {
          "key": "type",
          "value": "CHART"
         },
         {
          "key": "options",
          "value": {
           "alignYAxesAtZero": true,
           "coefficient": 1,
           "columnConfigurationMap": {
            "x": {
             "column": "Distance Range (km)",
             "id": "column_6df89cfb356"
            },
            "y": [
             {
              "column": "frequency",
              "id": "column_6df89cfb357",
              "transform": "SUM"
             }
            ]
           },
           "dateTimeFormat": "DD/MM/YYYY HH:mm",
           "direction": {
            "type": "counterclockwise"
           },
           "error_y": {
            "type": "data",
            "visible": true
           },
           "globalSeriesType": "column",
           "isAggregationOn": true,
           "legend": {
            "traceorder": "normal"
           },
           "missingValuesAsZero": true,
           "numberFormat": "0,0.[00000]",
           "percentFormat": "0[.]00%",
           "series": {
            "error_y": {
             "type": "data",
             "visible": true
            },
            "stacking": null
           },
           "seriesOptions": {
            "column_6df89cfb357": {
             "name": "frequency",
             "yAxis": 0
            }
           },
           "showDataLabels": true,
           "sizemode": "diameter",
           "sortX": true,
           "sortY": true,
           "swappedAxes": true,
           "textFormat": "",
           "useAggregationsUi": true,
           "valuesOptions": {},
           "version": 2,
           "xAxis": {
            "labels": {
             "enabled": true
            },
            "type": "-"
           },
           "yAxis": [
            {
             "type": "-"
            },
            {
             "opposite": true,
             "type": "-"
            }
           ]
          }
         }
        ]
       },
       "datasetPreviewNameToCmdIdMap": {},
       "diffDeletes": [],
       "diffInserts": [],
       "displayType": "redashChart",
       "error": null,
       "errorDetails": null,
       "errorSummary": null,
       "errorTraceType": null,
       "finishTime": 0,
       "globalVars": {},
       "guid": "",
       "height": "auto",
       "hideCommandCode": false,
       "hideCommandResult": false,
       "iPythonMetadata": null,
       "inputWidgets": {},
       "isLockedInExamMode": false,
       "latestAssumeRoleInfo": null,
       "latestUser": "a user",
       "latestUserId": null,
       "listResultMetadata": null,
       "metadata": {
        "byteLimit": 2048000,
        "implicitDf": true,
        "rowLimit": 10000
       },
       "nuid": "301e6e3e-e04b-43a4-89dd-a843b99ac880",
       "origId": 0,
       "parentHierarchy": [],
       "pivotAggregation": null,
       "pivotColumns": null,
       "position": 26.0,
       "resultDbfsErrorMessage": null,
       "resultDbfsStatus": "INLINED_IN_TREE",
       "results": null,
       "showCommandTitle": false,
       "startTime": 0,
       "state": "input",
       "streamStates": {},
       "subcommandOptions": {
        "queryPlan": {
         "groups": [
          {
           "column": "Distance Range (km)",
           "type": "column"
          }
         ],
         "selects": [
          {
           "column": "Distance Range (km)",
           "type": "column"
          },
          {
           "alias": "column_6df89cfb357",
           "args": [
            {
             "column": "frequency",
             "type": "column"
            }
           ],
           "function": "SUM",
           "type": "function"
          }
         ]
        }
       },
       "submitTime": 0,
       "subtype": "tableResultSubCmd.visualization",
       "tableResultIndex": 0,
       "tableResultSettingsMap": {},
       "useConsistentColors": false,
       "version": "CommandV1",
       "width": "auto",
       "workflows": [],
       "xColumns": null,
       "yColumns": null
      }
     },
     "output_type": "display_data"
    }
   ],
   "source": [
    "%sql\n",
    "SELECT distance_category AS `Distance Range (km)`\n",
    "     , COUNT(*) AS `frequency`\n",
    "FROM neo_analysis\n",
    "GROUP BY distance_category\n",
    "ORDER BY frequency DESC\n"
   ]
  },
  {
   "cell_type": "markdown",
   "metadata": {
    "application/vnd.databricks.v1+cell": {
     "cellMetadata": {
      "byteLimit": 2048000,
      "rowLimit": 10000
     },
     "inputWidgets": {},
     "nuid": "29b1becc-ec65-453a-a425-5c00183ced16",
     "showTitle": false,
     "tableResultSettingsMap": {},
     "title": ""
    }
   },
   "source": [
    "**AC: 4 The system should clearly identify which objects are classified as \"potentially hazardous\" and analyse their frequency separately**"
   ]
  },
  {
   "cell_type": "code",
   "execution_count": 0,
   "metadata": {
    "application/vnd.databricks.v1+cell": {
     "cellMetadata": {
      "byteLimit": 2048000,
      "implicitDf": true,
      "rowLimit": 10000
     },
     "inputWidgets": {},
     "nuid": "90519611-56c4-430e-a70e-8babac328d84",
     "showTitle": false,
     "tableResultSettingsMap": {},
     "title": ""
    }
   },
   "outputs": [
    {
     "output_type": "display_data",
     "data": {
      "text/html": [
       "<style scoped>\n",
       "  .table-result-container {\n",
       "    max-height: 300px;\n",
       "    overflow: auto;\n",
       "  }\n",
       "  table, th, td {\n",
       "    border: 1px solid black;\n",
       "    border-collapse: collapse;\n",
       "  }\n",
       "  th, td {\n",
       "    padding: 5px;\n",
       "  }\n",
       "  th {\n",
       "    text-align: left;\n",
       "  }\n",
       "</style><div class='table-result-container'><table class='table-result'><thead style='background-color: white'><tr><th>is_potentially_hazardous</th><th>frequency</th></tr></thead><tbody><tr><td>true</td><td>1</td></tr><tr><td>false</td><td>26</td></tr></tbody></table></div>"
      ]
     },
     "metadata": {
      "application/vnd.databricks.v1+output": {
       "addedWidgets": {},
       "aggData": [],
       "aggError": "",
       "aggOverflow": false,
       "aggSchema": [],
       "aggSeriesLimitReached": false,
       "aggType": "",
       "arguments": {},
       "columnCustomDisplayInfos": {},
       "data": [
        [
         true,
         1
        ],
        [
         false,
         26
        ]
       ],
       "datasetInfos": [
        {
         "name": "_sqldf",
         "schema": {
          "fields": [
           {
            "metadata": {},
            "name": "is_potentially_hazardous",
            "nullable": true,
            "type": "boolean"
           },
           {
            "metadata": {},
            "name": "frequency",
            "nullable": false,
            "type": "long"
           }
          ],
          "type": "struct"
         },
         "tableIdentifier": null,
         "typeStr": "pyspark.sql.connect.dataframe.DataFrame"
        }
       ],
       "dbfsResultPath": null,
       "isJsonSchema": true,
       "metadata": {
        "createTempViewForImplicitDf": true,
        "dataframeName": "_sqldf",
        "executionCount": 24
       },
       "overflow": false,
       "plotOptions": {
        "customPlotOptions": {},
        "displayType": "table",
        "pivotAggregation": null,
        "pivotColumns": null,
        "xColumns": null,
        "yColumns": null
       },
       "removedWidgets": [],
       "schema": [
        {
         "metadata": "{}",
         "name": "is_potentially_hazardous",
         "type": "\"boolean\""
        },
        {
         "metadata": "{}",
         "name": "frequency",
         "type": "\"long\""
        }
       ],
       "type": "table"
      }
     },
     "output_type": "display_data"
    }
   ],
   "source": [
    "%sql\n",
    "SELECT is_potentially_hazardous\n",
    "     , COUNT(*) AS frequency\n",
    "FROM neo_analysis\n",
    "GROUP BY is_potentially_hazardous"
   ]
  },
  {
   "cell_type": "markdown",
   "metadata": {
    "application/vnd.databricks.v1+cell": {
     "cellMetadata": {
      "byteLimit": 2048000,
      "rowLimit": 10000
     },
     "inputWidgets": {},
     "nuid": "24112294-c665-4e04-986f-3fbea0c1c148",
     "showTitle": false,
     "tableResultSettingsMap": {},
     "title": ""
    }
   },
   "source": [
    "Frequency with Hazard label"
   ]
  },
  {
   "cell_type": "code",
   "execution_count": 0,
   "metadata": {
    "application/vnd.databricks.v1+cell": {
     "cellMetadata": {
      "byteLimit": 2048000,
      "implicitDf": true,
      "rowLimit": 10000
     },
     "inputWidgets": {},
     "nuid": "fb9c3bdf-f97d-4d63-9adb-d225358a89cb",
     "showTitle": false,
     "tableResultSettingsMap": {},
     "title": ""
    }
   },
   "outputs": [
    {
     "output_type": "display_data",
     "data": {
      "text/html": [
       "<style scoped>\n",
       "  .table-result-container {\n",
       "    max-height: 300px;\n",
       "    overflow: auto;\n",
       "  }\n",
       "  table, th, td {\n",
       "    border: 1px solid black;\n",
       "    border-collapse: collapse;\n",
       "  }\n",
       "  th, td {\n",
       "    padding: 5px;\n",
       "  }\n",
       "  th {\n",
       "    text-align: left;\n",
       "  }\n",
       "</style><div class='table-result-container'><table class='table-result'><thead style='background-color: white'><tr><th>hazard_level</th><th>frequency</th></tr></thead><tbody><tr><td>Non-Hazardous</td><td>26</td></tr><tr><td>Hazardous</td><td>1</td></tr></tbody></table></div>"
      ]
     },
     "metadata": {
      "application/vnd.databricks.v1+output": {
       "addedWidgets": {},
       "aggData": [],
       "aggError": "",
       "aggOverflow": false,
       "aggSchema": [],
       "aggSeriesLimitReached": false,
       "aggType": "",
       "arguments": {},
       "columnCustomDisplayInfos": {},
       "data": [
        [
         "Non-Hazardous",
         26
        ],
        [
         "Hazardous",
         1
        ]
       ],
       "datasetInfos": [
        {
         "name": "_sqldf",
         "schema": {
          "fields": [
           {
            "metadata": {},
            "name": "hazard_level",
            "nullable": true,
            "type": "string"
           },
           {
            "metadata": {},
            "name": "frequency",
            "nullable": false,
            "type": "long"
           }
          ],
          "type": "struct"
         },
         "tableIdentifier": null,
         "typeStr": "pyspark.sql.connect.dataframe.DataFrame"
        }
       ],
       "dbfsResultPath": null,
       "isJsonSchema": true,
       "metadata": {
        "createTempViewForImplicitDf": true,
        "dataframeName": "_sqldf",
        "executionCount": 25
       },
       "overflow": false,
       "plotOptions": {
        "customPlotOptions": {},
        "displayType": "table",
        "pivotAggregation": null,
        "pivotColumns": null,
        "xColumns": null,
        "yColumns": null
       },
       "removedWidgets": [],
       "schema": [
        {
         "metadata": "{}",
         "name": "hazard_level",
         "type": "\"string\""
        },
        {
         "metadata": "{}",
         "name": "frequency",
         "type": "\"long\""
        }
       ],
       "type": "table"
      }
     },
     "output_type": "display_data"
    }
   ],
   "source": [
    "%sql\n",
    "SELECT hazard_level\n",
    "     , COUNT(*) AS frequency\n",
    "FROM neo_analysis\n",
    "GROUP BY hazard_level\n",
    "ORDER BY frequency DESC"
   ]
  },
  {
   "cell_type": "markdown",
   "metadata": {
    "application/vnd.databricks.v1+cell": {
     "cellMetadata": {
      "byteLimit": 2048000,
      "rowLimit": 10000
     },
     "inputWidgets": {},
     "nuid": "325837eb-9f7c-4b63-a571-87ddbff529d3",
     "showTitle": false,
     "tableResultSettingsMap": {},
     "title": ""
    }
   },
   "source": [
    "Closest Hazardous Objects Table (Top 10)"
   ]
  },
  {
   "cell_type": "code",
   "execution_count": 0,
   "metadata": {
    "application/vnd.databricks.v1+cell": {
     "cellMetadata": {
      "byteLimit": 2048000,
      "implicitDf": true,
      "rowLimit": 10000
     },
     "inputWidgets": {},
     "nuid": "9abf1d80-33eb-4bad-9907-6e0b1b10c344",
     "showTitle": false,
     "tableResultSettingsMap": {},
     "title": ""
    }
   },
   "outputs": [
    {
     "output_type": "display_data",
     "data": {
      "text/html": [
       "<style scoped>\n",
       "  .table-result-container {\n",
       "    max-height: 300px;\n",
       "    overflow: auto;\n",
       "  }\n",
       "  table, th, td {\n",
       "    border: 1px solid black;\n",
       "    border-collapse: collapse;\n",
       "  }\n",
       "  th, td {\n",
       "    padding: 5px;\n",
       "  }\n",
       "  th {\n",
       "    text-align: left;\n",
       "  }\n",
       "</style><div class='table-result-container'><table class='table-result'><thead style='background-color: white'><tr><th>name</th><th>close_approach_date</th><th>size_avg</th><th>miss_distance_km</th><th>hazard_level</th></tr></thead><tbody><tr><td>465633 (2009 JR5)</td><td>2015-09-08</td><td>351.19</td><td>4.529029823E7</td><td>Hazardous</td></tr></tbody></table></div>"
      ]
     },
     "metadata": {
      "application/vnd.databricks.v1+output": {
       "addedWidgets": {},
       "aggData": [],
       "aggError": "",
       "aggOverflow": false,
       "aggSchema": [],
       "aggSeriesLimitReached": false,
       "aggType": "",
       "arguments": {},
       "columnCustomDisplayInfos": {},
       "data": [
        [
         "465633 (2009 JR5)",
         "2015-09-08",
         351.19,
         4.529029823E7,
         "Hazardous"
        ]
       ],
       "datasetInfos": [
        {
         "name": "_sqldf",
         "schema": {
          "fields": [
           {
            "metadata": {},
            "name": "name",
            "nullable": true,
            "type": "string"
           },
           {
            "metadata": {},
            "name": "close_approach_date",
            "nullable": true,
            "type": "date"
           },
           {
            "metadata": {},
            "name": "size_avg",
            "nullable": true,
            "type": "double"
           },
           {
            "metadata": {},
            "name": "miss_distance_km",
            "nullable": true,
            "type": "double"
           },
           {
            "metadata": {},
            "name": "hazard_level",
            "nullable": true,
            "type": "string"
           }
          ],
          "type": "struct"
         },
         "tableIdentifier": null,
         "typeStr": "pyspark.sql.connect.dataframe.DataFrame"
        }
       ],
       "dbfsResultPath": null,
       "isJsonSchema": true,
       "metadata": {
        "createTempViewForImplicitDf": true,
        "dataframeName": "_sqldf",
        "executionCount": 26
       },
       "overflow": false,
       "plotOptions": {
        "customPlotOptions": {},
        "displayType": "table",
        "pivotAggregation": null,
        "pivotColumns": null,
        "xColumns": null,
        "yColumns": null
       },
       "removedWidgets": [],
       "schema": [
        {
         "metadata": "{}",
         "name": "name",
         "type": "\"string\""
        },
        {
         "metadata": "{}",
         "name": "close_approach_date",
         "type": "\"date\""
        },
        {
         "metadata": "{}",
         "name": "size_avg",
         "type": "\"double\""
        },
        {
         "metadata": "{}",
         "name": "miss_distance_km",
         "type": "\"double\""
        },
        {
         "metadata": "{}",
         "name": "hazard_level",
         "type": "\"string\""
        }
       ],
       "type": "table"
      }
     },
     "output_type": "display_data"
    }
   ],
   "source": [
    "%sql\n",
    "SELECT name\n",
    "     , close_approach_date\n",
    "     , size_avg\n",
    "     , miss_distance_km\n",
    "     , hazard_level\n",
    "FROM neo_analysis\n",
    "WHERE is_potentially_hazardous = TRUE \n",
    "ORDER BY miss_distance_km ASC\n",
    "LIMIT 10"
   ]
  },
  {
   "cell_type": "markdown",
   "metadata": {
    "application/vnd.databricks.v1+cell": {
     "cellMetadata": {
      "byteLimit": 2048000,
      "rowLimit": 10000
     },
     "inputWidgets": {},
     "nuid": "8e65fff6-c460-464d-ab7f-1ae50b951a43",
     "showTitle": false,
     "tableResultSettingsMap": {},
     "title": ""
    }
   },
   "source": [
    "**AC: 5 The analysis should include visualizations (charts/graphs) showing trends and patterns in NEO approaches. (Done above using databricks SQL, visualization)**"
   ]
  },
  {
   "cell_type": "markdown",
   "metadata": {
    "application/vnd.databricks.v1+cell": {
     "cellMetadata": {
      "byteLimit": 2048000,
      "rowLimit": 10000
     },
     "inputWidgets": {},
     "nuid": "010236b0-7461-4b76-8ab8-99b5b727f084",
     "showTitle": false,
     "tableResultSettingsMap": {},
     "title": ""
    }
   },
   "source": [
    "1. Miss Distance Distribution"
   ]
  },
  {
   "cell_type": "code",
   "execution_count": 0,
   "metadata": {
    "application/vnd.databricks.v1+cell": {
     "cellMetadata": {
      "byteLimit": 2048000,
      "rowLimit": 10000
     },
     "inputWidgets": {},
     "nuid": "a4412f4a-8582-4b3e-9be8-839a07436b3c",
     "showTitle": false,
     "tableResultSettingsMap": {},
     "title": ""
    }
   },
   "outputs": [
    {
     "output_type": "display_data",
     "data": {
      "image/png": "[encoded data removed]",
      "text/plain": [
       "<Figure size 640x480 with 1 Axes>"
      ]
     },
     "metadata": {},
     "output_type": "display_data"
    }
   ],
   "source": [
    "import pandas as pd\n",
    "import matplotlib.pyplot as plt\n",
    "import seaborn as sns\n",
    "\n",
    "# Load Gold layer into Pandas\n",
    "df = spark.table(\"neo_analysis\").toPandas()\n",
    "\n",
    "sns.histplot(df[\"miss_distance_km\"], bins=30, kde=True)\n",
    "plt.title(\"Distribution of Miss Distances\")\n",
    "plt.xlabel(\"Miss Distance (km)\")\n",
    "plt.ylabel(\"Frequency\")\n",
    "plt.grid(True)\n",
    "plt.show()"
   ]
  },
  {
   "cell_type": "markdown",
   "metadata": {
    "application/vnd.databricks.v1+cell": {
     "cellMetadata": {
      "byteLimit": 2048000,
      "rowLimit": 10000
     },
     "inputWidgets": {},
     "nuid": "01ad4efd-0951-4ca8-8886-5b564a963eb5",
     "showTitle": false,
     "tableResultSettingsMap": {},
     "title": ""
    }
   },
   "source": [
    "**AC: 6 The system should provide comparative analysis between potentially hazardous and non-hazardous objects. **"
   ]
  },
  {
   "cell_type": "markdown",
   "metadata": {
    "application/vnd.databricks.v1+cell": {
     "cellMetadata": {
      "byteLimit": 2048000,
      "rowLimit": 10000
     },
     "inputWidgets": {},
     "nuid": "02548ee9-a987-4f6a-9d99-b246d09a69e6",
     "showTitle": false,
     "tableResultSettingsMap": {},
     "title": ""
    }
   },
   "source": [
    "1. Hazard_level vs Average size comparison"
   ]
  },
  {
   "cell_type": "code",
   "execution_count": 0,
   "metadata": {
    "application/vnd.databricks.v1+cell": {
     "cellMetadata": {
      "byteLimit": 2048000,
      "implicitDf": true,
      "rowLimit": 10000
     },
     "inputWidgets": {},
     "nuid": "0ad73486-3748-4539-8fc8-a4d1b204929f",
     "showTitle": false,
     "tableResultSettingsMap": {},
     "title": ""
    }
   },
   "outputs": [
    {
     "output_type": "display_data",
     "data": {
      "text/html": [
       "<style scoped>\n",
       "  .table-result-container {\n",
       "    max-height: 300px;\n",
       "    overflow: auto;\n",
       "  }\n",
       "  table, th, td {\n",
       "    border: 1px solid black;\n",
       "    border-collapse: collapse;\n",
       "  }\n",
       "  th, td {\n",
       "    padding: 5px;\n",
       "  }\n",
       "  th {\n",
       "    text-align: left;\n",
       "  }\n",
       "</style><div class='table-result-container'><table class='table-result'><thead style='background-color: white'><tr><th>Hazard Level</th><th>Average Size (in meters)</th></tr></thead><tbody><tr><td>Hazardous</td><td>351.19</td></tr><tr><td>Non-Hazardous</td><td>115.21730769230768</td></tr></tbody></table></div>"
      ]
     },
     "metadata": {
      "application/vnd.databricks.v1+output": {
       "addedWidgets": {},
       "aggData": [],
       "aggError": "",
       "aggOverflow": false,
       "aggSchema": [],
       "aggSeriesLimitReached": false,
       "aggType": "",
       "arguments": {},
       "columnCustomDisplayInfos": {},
       "data": [
        [
         "Hazardous",
         351.19
        ],
        [
         "Non-Hazardous",
         115.21730769230768
        ]
       ],
       "datasetInfos": [
        {
         "name": "_sqldf",
         "schema": {
          "fields": [
           {
            "metadata": {},
            "name": "Hazard Level",
            "nullable": true,
            "type": "string"
           },
           {
            "metadata": {},
            "name": "Average Size (in meters)",
            "nullable": true,
            "type": "double"
           }
          ],
          "type": "struct"
         },
         "tableIdentifier": null,
         "typeStr": "pyspark.sql.connect.dataframe.DataFrame"
        }
       ],
       "dbfsResultPath": null,
       "isJsonSchema": true,
       "metadata": {
        "createTempViewForImplicitDf": true,
        "dataframeName": "_sqldf",
        "executionCount": 28
       },
       "overflow": false,
       "plotOptions": {
        "customPlotOptions": {},
        "displayType": "table",
        "pivotAggregation": null,
        "pivotColumns": null,
        "xColumns": null,
        "yColumns": null
       },
       "removedWidgets": [],
       "schema": [
        {
         "metadata": "{}",
         "name": "Hazard Level",
         "type": "\"string\""
        },
        {
         "metadata": "{}",
         "name": "Average Size (in meters)",
         "type": "\"double\""
        }
       ],
       "type": "table"
      }
     },
     "output_type": "display_data"
    },
    {
     "output_type": "display_data",
     "data": {
      "text/plain": [
       "Databricks visualization. Run in Databricks to view."
      ]
     },
     "metadata": {
      "application/vnd.databricks.v1.subcommand+json": {
       "baseErrorDetails": null,
       "bindings": {},
       "collapsed": false,
       "command": "%sql WITH q AS (SELECT hazard_level AS `Hazard Level`\n     , AVG(size_avg) AS `Average Size (in meters)`\nFROM neo_analysis\nGROUP BY hazard_level) SELECT `Hazard Level`,SUM(`Average Size (in meters)`) `column_6df89cfb408` FROM q GROUP BY `Hazard Level`",
       "commandTitle": "Visualization 1",
       "commandType": "auto",
       "commandVersion": 0,
       "commentThread": [],
       "commentsVisible": false,
       "contentSha256Hex": null,
       "customPlotOptions": {
        "redashChart": [
         {
          "key": "type",
          "value": "CHART"
         },
         {
          "key": "options",
          "value": {
           "alignYAxesAtZero": true,
           "coefficient": 1,
           "columnConfigurationMap": {
            "x": {
             "column": "Hazard Level",
             "id": "column_6df89cfb407"
            },
            "y": [
             {
              "column": "Average Size (in meters)",
              "id": "column_6df89cfb408",
              "transform": "SUM"
             }
            ]
           },
           "dateTimeFormat": "DD/MM/YYYY HH:mm",
           "direction": {
            "type": "counterclockwise"
           },
           "error_y": {
            "type": "data",
            "visible": true
           },
           "globalSeriesType": "column",
           "isAggregationOn": true,
           "legend": {
            "traceorder": "normal"
           },
           "missingValuesAsZero": true,
           "numberFormat": "0,0.[00000]",
           "percentFormat": "0[.]00%",
           "series": {
            "error_y": {
             "type": "data",
             "visible": true
            },
            "stacking": null
           },
           "seriesOptions": {
            "column_6df89cfb408": {
             "name": "Average Size (in meters)",
             "yAxis": 0
            }
           },
           "showDataLabels": true,
           "sizemode": "diameter",
           "sortX": true,
           "sortY": true,
           "swappedAxes": true,
           "textFormat": "",
           "useAggregationsUi": true,
           "valuesOptions": {},
           "version": 2,
           "xAxis": {
            "labels": {
             "enabled": true
            },
            "type": "-"
           },
           "yAxis": [
            {
             "type": "-"
            },
            {
             "opposite": true,
             "type": "-"
            }
           ]
          }
         }
        ]
       },
       "datasetPreviewNameToCmdIdMap": {},
       "diffDeletes": [],
       "diffInserts": [],
       "displayType": "redashChart",
       "error": null,
       "errorDetails": null,
       "errorSummary": null,
       "errorTraceType": null,
       "finishTime": 0,
       "globalVars": {},
       "guid": "",
       "height": "auto",
       "hideCommandCode": false,
       "hideCommandResult": false,
       "iPythonMetadata": null,
       "inputWidgets": {},
       "isLockedInExamMode": false,
       "latestAssumeRoleInfo": null,
       "latestUser": "a user",
       "latestUserId": null,
       "listResultMetadata": null,
       "metadata": {
        "byteLimit": 2048000,
        "implicitDf": true,
        "rowLimit": 10000
       },
       "nuid": "0ac36f88-e046-4b3a-90a7-5e7fc164d69f",
       "origId": 0,
       "parentHierarchy": [],
       "pivotAggregation": null,
       "pivotColumns": null,
       "position": 101.0,
       "resultDbfsErrorMessage": null,
       "resultDbfsStatus": "INLINED_IN_TREE",
       "results": null,
       "showCommandTitle": false,
       "startTime": 0,
       "state": "input",
       "streamStates": {},
       "subcommandOptions": {
        "queryPlan": {
         "groups": [
          {
           "column": "Hazard Level",
           "type": "column"
          }
         ],
         "selects": [
          {
           "column": "Hazard Level",
           "type": "column"
          },
          {
           "alias": "column_6df89cfb408",
           "args": [
            {
             "column": "Average Size (in meters)",
             "type": "column"
            }
           ],
           "function": "SUM",
           "type": "function"
          }
         ]
        }
       },
       "submitTime": 0,
       "subtype": "tableResultSubCmd.visualization",
       "tableResultIndex": 0,
       "tableResultSettingsMap": {},
       "useConsistentColors": false,
       "version": "CommandV1",
       "width": "auto",
       "workflows": [],
       "xColumns": null,
       "yColumns": null
      }
     },
     "output_type": "display_data"
    }
   ],
   "source": [
    "%sql\n",
    "SELECT hazard_level AS `Hazard Level`\n",
    "     , AVG(size_avg) AS `Average Size (in meters)`\n",
    "FROM neo_analysis\n",
    "GROUP BY hazard_level"
   ]
  },
  {
   "cell_type": "code",
   "execution_count": 0,
   "metadata": {
    "application/vnd.databricks.v1+cell": {
     "cellMetadata": {
      "byteLimit": 2048000,
      "implicitDf": true,
      "rowLimit": 10000
     },
     "inputWidgets": {},
     "nuid": "994822b1-b64a-4139-ac06-dc720268ec85",
     "showTitle": false,
     "tableResultSettingsMap": {},
     "title": ""
    }
   },
   "outputs": [
    {
     "output_type": "display_data",
     "data": {
      "text/html": [
       "<style scoped>\n",
       "  .table-result-container {\n",
       "    max-height: 300px;\n",
       "    overflow: auto;\n",
       "  }\n",
       "  table, th, td {\n",
       "    border: 1px solid black;\n",
       "    border-collapse: collapse;\n",
       "  }\n",
       "  th, td {\n",
       "    padding: 5px;\n",
       "  }\n",
       "  th {\n",
       "    text-align: left;\n",
       "  }\n",
       "</style><div class='table-result-container'><table class='table-result'><thead style='background-color: white'><tr><th>Hazard Level</th><th>Average Size (in meters)</th></tr></thead><tbody><tr><td>Non-Hazardous</td><td>115.21730769230768</td></tr><tr><td>Hazardous</td><td>351.19</td></tr></tbody></table></div>"
      ]
     },
     "metadata": {
      "application/vnd.databricks.v1+output": {
       "addedWidgets": {},
       "aggData": [],
       "aggError": "",
       "aggOverflow": false,
       "aggSchema": [],
       "aggSeriesLimitReached": false,
       "aggType": "",
       "arguments": {},
       "columnCustomDisplayInfos": {},
       "data": [
        [
         "Non-Hazardous",
         115.21730769230768
        ],
        [
         "Hazardous",
         351.19
        ]
       ],
       "datasetInfos": [
        {
         "name": "_sqldf",
         "schema": {
          "fields": [
           {
            "metadata": {},
            "name": "Hazard Level",
            "nullable": true,
            "type": "string"
           },
           {
            "metadata": {},
            "name": "Average Size (in meters)",
            "nullable": true,
            "type": "double"
           }
          ],
          "type": "struct"
         },
         "tableIdentifier": null,
         "typeStr": "pyspark.sql.connect.dataframe.DataFrame"
        }
       ],
       "dbfsResultPath": null,
       "isJsonSchema": true,
       "metadata": {
        "createTempViewForImplicitDf": true,
        "dataframeName": "_sqldf",
        "executionCount": 29
       },
       "overflow": false,
       "plotOptions": {
        "customPlotOptions": {},
        "displayType": "table",
        "pivotAggregation": null,
        "pivotColumns": null,
        "xColumns": null,
        "yColumns": null
       },
       "removedWidgets": [],
       "schema": [
        {
         "metadata": "{}",
         "name": "Hazard Level",
         "type": "\"string\""
        },
        {
         "metadata": "{}",
         "name": "Average Size (in meters)",
         "type": "\"double\""
        }
       ],
       "type": "table"
      }
     },
     "output_type": "display_data"
    }
   ],
   "source": [
    "%sql\n",
    "SELECT hazard_level AS `Hazard Level`\n",
    "     , average_size AS `Average Size (in meters)`\n",
    "FROM neo_analysis_v1"
   ]
  },
  {
   "cell_type": "markdown",
   "metadata": {
    "application/vnd.databricks.v1+cell": {
     "cellMetadata": {
      "byteLimit": 2048000,
      "rowLimit": 10000
     },
     "inputWidgets": {},
     "nuid": "1f14576a-558e-4ff0-8de8-529cafd6777f",
     "showTitle": false,
     "tableResultSettingsMap": {},
     "title": ""
    }
   },
   "source": [
    "2. Hazard_level vs Average Miss Distance comparison"
   ]
  },
  {
   "cell_type": "code",
   "execution_count": 0,
   "metadata": {
    "application/vnd.databricks.v1+cell": {
     "cellMetadata": {
      "byteLimit": 2048000,
      "implicitDf": true,
      "rowLimit": 10000
     },
     "inputWidgets": {},
     "nuid": "aeb6d217-01f7-4b04-91b9-dab35799fdd5",
     "showTitle": false,
     "tableResultSettingsMap": {},
     "title": ""
    }
   },
   "outputs": [
    {
     "output_type": "display_data",
     "data": {
      "text/html": [
       "<style scoped>\n",
       "  .table-result-container {\n",
       "    max-height: 300px;\n",
       "    overflow: auto;\n",
       "  }\n",
       "  table, th, td {\n",
       "    border: 1px solid black;\n",
       "    border-collapse: collapse;\n",
       "  }\n",
       "  th, td {\n",
       "    padding: 5px;\n",
       "  }\n",
       "  th {\n",
       "    text-align: left;\n",
       "  }\n",
       "</style><div class='table-result-container'><table class='table-result'><thead style='background-color: white'><tr><th>Hazard Level</th><th>Average Miss Distance (km)</th></tr></thead><tbody><tr><td>Non-Hazardous</td><td>3.717143511E7</td></tr><tr><td>Hazardous</td><td>4.529029823E7</td></tr></tbody></table></div>"
      ]
     },
     "metadata": {
      "application/vnd.databricks.v1+output": {
       "addedWidgets": {},
       "aggData": [],
       "aggError": "",
       "aggOverflow": false,
       "aggSchema": [],
       "aggSeriesLimitReached": false,
       "aggType": "",
       "arguments": {},
       "columnCustomDisplayInfos": {},
       "data": [
        [
         "Non-Hazardous",
         3.717143511E7
        ],
        [
         "Hazardous",
         4.529029823E7
        ]
       ],
       "datasetInfos": [
        {
         "name": "_sqldf",
         "schema": {
          "fields": [
           {
            "metadata": {},
            "name": "Hazard Level",
            "nullable": true,
            "type": "string"
           },
           {
            "metadata": {},
            "name": "Average Miss Distance (km)",
            "nullable": true,
            "type": "double"
           }
          ],
          "type": "struct"
         },
         "tableIdentifier": null,
         "typeStr": "pyspark.sql.connect.dataframe.DataFrame"
        }
       ],
       "dbfsResultPath": null,
       "isJsonSchema": true,
       "metadata": {
        "createTempViewForImplicitDf": true,
        "dataframeName": "_sqldf",
        "executionCount": 30
       },
       "overflow": false,
       "plotOptions": {
        "customPlotOptions": {},
        "displayType": "table",
        "pivotAggregation": null,
        "pivotColumns": null,
        "xColumns": null,
        "yColumns": null
       },
       "removedWidgets": [],
       "schema": [
        {
         "metadata": "{}",
         "name": "Hazard Level",
         "type": "\"string\""
        },
        {
         "metadata": "{}",
         "name": "Average Miss Distance (km)",
         "type": "\"double\""
        }
       ],
       "type": "table"
      }
     },
     "output_type": "display_data"
    },
    {
     "output_type": "display_data",
     "data": {
      "text/plain": [
       "Databricks visualization. Run in Databricks to view."
      ]
     },
     "metadata": {
      "application/vnd.databricks.v1.subcommand+json": {
       "baseErrorDetails": null,
       "bindings": {},
       "collapsed": false,
       "command": "%sql WITH q AS (SELECT hazard_level AS `Hazard Level`\n     , AVG(miss_distance_abs_km) AS `Average Miss Distance (km)`\nFROM neo_analysis\nGROUP BY hazard_level) SELECT `Hazard Level`,SUM(`Average Miss Distance (km)`) `column_6df89cfb417` FROM q GROUP BY `Hazard Level`",
       "commandTitle": "Visualization 1",
       "commandType": "auto",
       "commandVersion": 0,
       "commentThread": [],
       "commentsVisible": false,
       "contentSha256Hex": null,
       "customPlotOptions": {
        "redashChart": [
         {
          "key": "type",
          "value": "CHART"
         },
         {
          "key": "options",
          "value": {
           "alignYAxesAtZero": true,
           "coefficient": 1,
           "columnConfigurationMap": {
            "x": {
             "column": "Hazard Level",
             "id": "column_6df89cfb416"
            },
            "y": [
             {
              "column": "Average Miss Distance (km)",
              "id": "column_6df89cfb417",
              "transform": "SUM"
             }
            ]
           },
           "dateTimeFormat": "DD/MM/YYYY HH:mm",
           "direction": {
            "type": "counterclockwise"
           },
           "error_y": {
            "type": "data",
            "visible": true
           },
           "globalSeriesType": "column",
           "isAggregationOn": true,
           "legend": {
            "traceorder": "normal"
           },
           "missingValuesAsZero": true,
           "numberFormat": "0,0.[00000]",
           "percentFormat": "0[.]00%",
           "series": {
            "error_y": {
             "type": "data",
             "visible": true
            },
            "stacking": null
           },
           "seriesOptions": {
            "column_6df89cfb417": {
             "name": "Average Miss Distance (km)",
             "yAxis": 0
            }
           },
           "showDataLabels": true,
           "sizemode": "diameter",
           "sortX": true,
           "sortY": true,
           "swappedAxes": true,
           "textFormat": "",
           "useAggregationsUi": true,
           "valuesOptions": {},
           "version": 2,
           "xAxis": {
            "labels": {
             "enabled": true
            },
            "type": "-"
           },
           "yAxis": [
            {
             "type": "-"
            },
            {
             "opposite": true,
             "type": "-"
            }
           ]
          }
         }
        ]
       },
       "datasetPreviewNameToCmdIdMap": {},
       "diffDeletes": [],
       "diffInserts": [],
       "displayType": "redashChart",
       "error": null,
       "errorDetails": null,
       "errorSummary": null,
       "errorTraceType": null,
       "finishTime": 0,
       "globalVars": {},
       "guid": "",
       "height": "auto",
       "hideCommandCode": false,
       "hideCommandResult": false,
       "iPythonMetadata": null,
       "inputWidgets": {},
       "isLockedInExamMode": false,
       "latestAssumeRoleInfo": null,
       "latestUser": "a user",
       "latestUserId": null,
       "listResultMetadata": null,
       "metadata": {
        "byteLimit": 2048000,
        "implicitDf": true,
        "rowLimit": 10000
       },
       "nuid": "7279d142-2d36-46b2-9063-443fb85cc4bc",
       "origId": 0,
       "parentHierarchy": [],
       "pivotAggregation": null,
       "pivotColumns": null,
       "position": 103.0,
       "resultDbfsErrorMessage": null,
       "resultDbfsStatus": "INLINED_IN_TREE",
       "results": null,
       "showCommandTitle": false,
       "startTime": 0,
       "state": "input",
       "streamStates": {},
       "subcommandOptions": {
        "queryPlan": {
         "groups": [
          {
           "column": "Hazard Level",
           "type": "column"
          }
         ],
         "selects": [
          {
           "column": "Hazard Level",
           "type": "column"
          },
          {
           "alias": "column_6df89cfb417",
           "args": [
            {
             "column": "Average Miss Distance (km)",
             "type": "column"
            }
           ],
           "function": "SUM",
           "type": "function"
          }
         ]
        }
       },
       "submitTime": 0,
       "subtype": "tableResultSubCmd.visualization",
       "tableResultIndex": 0,
       "tableResultSettingsMap": {},
       "useConsistentColors": false,
       "version": "CommandV1",
       "width": "auto",
       "workflows": [],
       "xColumns": null,
       "yColumns": null
      }
     },
     "output_type": "display_data"
    }
   ],
   "source": [
    "%sql\n",
    "SELECT hazard_level AS `Hazard Level`\n",
    "     , average_miss_distance AS `Average Miss Distance (km)`\n",
    "FROM neo_analysis_v1\n"
   ]
  }
 ],
 "metadata": {
  "application/vnd.databricks.v1+notebook": {
   "computePreferences": null,
   "dashboards": [],
   "environmentMetadata": {
    "base_environment": "",
    "environment_version": "3"
   },
   "inputWidgetPreferences": null,
   "language": "python",
   "notebookMetadata": {
    "mostRecentlyExecutedCommandWithImplicitDF": {
     "commandId": 4591216073509240,
     "dataframes": [
      "_sqldf"
     ]
    },
    "pythonIndentUnit": 4
   },
   "notebookName": "neo_visualization",
   "widgets": {}
  },
  "language_info": {
   "name": "python"
  }
 },
 "nbformat": 4,
 "nbformat_minor": 0
}