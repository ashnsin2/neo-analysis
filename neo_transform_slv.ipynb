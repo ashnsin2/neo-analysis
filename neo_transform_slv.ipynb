{
 "cells": [
  {
   "cell_type": "markdown",
   "metadata": {
    "application/vnd.databricks.v1+cell": {
     "cellMetadata": {
      "byteLimit": 2048000,
      "rowLimit": 10000
     },
     "inputWidgets": {},
     "nuid": "a5e3b195-7f96-4359-a6ee-96fdcb09a667",
     "showTitle": false,
     "tableResultSettingsMap": {},
     "title": ""
    }
   },
   "source": [
    "**Import Libraries**"
   ]
  },
  {
   "cell_type": "code",
   "execution_count": 0,
   "metadata": {
    "application/vnd.databricks.v1+cell": {
     "cellMetadata": {
      "byteLimit": 2048000,
      "rowLimit": 10000
     },
     "inputWidgets": {},
     "nuid": "ae75680b-c93a-4ad0-9a0f-de9c277bc380",
     "showTitle": false,
     "tableResultSettingsMap": {},
     "title": ""
    }
   },
   "outputs": [],
   "source": [
    "import pandas as pd\n",
    "import requests\n",
    "from pyspark.sql import SparkSession\n",
    "from pyspark.sql.functions import when, col, lit, to_date, log10, round\n",
    "from datetime import datetime, timedelta\n"
   ]
  },
  {
   "cell_type": "markdown",
   "metadata": {
    "application/vnd.databricks.v1+cell": {
     "cellMetadata": {
      "byteLimit": 2048000,
      "rowLimit": 10000
     },
     "inputWidgets": {},
     "nuid": "2f656789-6b37-437f-b6dd-85a91c22282d",
     "showTitle": false,
     "tableResultSettingsMap": {},
     "title": ""
    }
   },
   "source": [
    "**Logging**"
   ]
  },
  {
   "cell_type": "code",
   "execution_count": 0,
   "metadata": {
    "application/vnd.databricks.v1+cell": {
     "cellMetadata": {
      "byteLimit": 2048000,
      "rowLimit": 10000
     },
     "inputWidgets": {},
     "nuid": "4052195a-378f-497a-a909-c5a171304f10",
     "showTitle": false,
     "tableResultSettingsMap": {},
     "title": ""
    }
   },
   "outputs": [],
   "source": [
    "spark = SparkSession.builder.appName(\"Neo Approaches\").getOrCreate()\n",
    "\n",
    "def log_event(level, message):\n",
    "    log_df = spark.createDataFrame([(datetime.now(), level, message)], [\"timestamp\", \"level\", \"message\"])\n",
    "    log_df.write.format(\"delta\").mode(\"append\").saveAsTable(\"neo_logs\")"
   ]
  },
  {
   "cell_type": "markdown",
   "metadata": {
    "application/vnd.databricks.v1+cell": {
     "cellMetadata": {
      "byteLimit": 2048000,
      "rowLimit": 10000
     },
     "inputWidgets": {},
     "nuid": "d5c8b0c0-1c36-408b-be4a-646b7597c976",
     "showTitle": false,
     "tableResultSettingsMap": {},
     "title": ""
    }
   },
   "source": [
    "**Silver layer - clean, joined (transform)**"
   ]
  },
  {
   "cell_type": "code",
   "execution_count": 0,
   "metadata": {
    "application/vnd.databricks.v1+cell": {
     "cellMetadata": {
      "byteLimit": 2048000,
      "rowLimit": 10000
     },
     "inputWidgets": {},
     "nuid": "91ca8dc9-4555-4ad1-a273-4d8766e7ae0b",
     "showTitle": false,
     "tableResultSettingsMap": {},
     "title": ""
    }
   },
   "outputs": [],
   "source": [
    "def transform_silver():\n",
    "\n",
    "    df_neos = spark.table(\"neos\")\n",
    "    df_approaches = spark.table(\"approaches\")\n",
    "    df_orbit = spark.table(\"neo_orbits\")\n",
    "\n",
    "    df_silver = df_approaches.join(df_neos, df_approaches.neo_id == df_neos.id, \"inner\").withColumn(\"close_approach_date\", to_date(\"close_approach_date\")).join(df_orbit, df_neos.id == df_orbit.orbit_id, \"inner\")\n",
    "\n",
    "    df_silver = df_silver.withColumn(\"size_avg\", (df_silver[\"estimated_diameter_min\"] + df_silver[\"estimated_diameter_max\"]) / 2 )\n",
    "\n",
    "    # AC 1: Add size_category column\n",
    "    try:\n",
    "        if 'size_category' not in df_silver.columns:\n",
    "            # add \"size_category\"\n",
    "            df_silver = df_silver.withColumn(\"size_category\", when(col(\"size_avg\") < 10, \"<10m\")\n",
    "                                .when(col(\"size_avg\") < 50, \"10-50m\")\n",
    "                                .when(col(\"size_avg\") < 100, \"50-100m\")\n",
    "                                .when(col(\"size_avg\") < 500, \"100m-500m\")\n",
    "                                .otherwise(\">500m\"))\n",
    "            \n",
    "            # save enhanced gold table\n",
    "            df_silver.write.format(\"delta\").mode(\"overwrite\").option(\"mergeSchema\", \"true\").saveAsTable(\"neo_approaches\")\n",
    "            log_event(\"SUCCESS\", \"Added size_category column.\")\n",
    "        else:\n",
    "            log_event(\"INFO\", \"size_category column already exists!\")\n",
    "\n",
    "    except Exception as e:\n",
    "        log_event(\"ERROR\", f\"Error: adding size_category column: {str(e)}\")\n",
    "        raise e\n",
    "\n",
    "    # AC 1: Add size_category_label (Small, Medium , Large) column\n",
    "    try:\n",
    "        if 'size_category_label' not in df_silver.columns:\n",
    "            # add \"size_category\"\n",
    "            df_silver = df_silver.withColumn(\"size_category_label\", when(col(\"estimated_diameter_max\") < 150, \"Small\")\n",
    "                                .when(col(\"estimated_diameter_max\") < 500, \"Medium\")\n",
    "                                .otherwise(\"Large\"))\n",
    "            \n",
    "            # save enhanced gold table\n",
    "            df_silver.write.format(\"delta\").mode(\"overwrite\").option(\"mergeSchema\", \"true\").saveAsTable(\"neo_approaches\")\n",
    "            log_event(\"SUCCESS\", \"Added size_category_label column.\")\n",
    "        else:\n",
    "            log_event(\"INFO\", \"size_category_label column already exists!\")\n",
    "\n",
    "    except Exception as e:\n",
    "        log_event(\"ERROR\", f\"Error: adding size_category_label column: {str(e)}\")\n",
    "        raise e\n",
    "\n",
    "    # AC 2: Add \"in_50yr_window\" column\n",
    "\n",
    "    # define \"50year windows\"\n",
    "    today = datetime.today().date()\n",
    "    past_25 = today - timedelta(days=25*365)\n",
    "    future_25 = today + timedelta(days=25*365)\n",
    "    try:\n",
    "        if 'in_50yr_window' not in df_silver.columns:\n",
    "            # add \"in_50yr_window\"\n",
    "            df_silver = df_silver.withColumn(\"in_50yr_window\", when((col(\"close_approach_date\") >= lit(past_25)) & ((col(\"close_approach_date\") <= lit(future_25))), True)\n",
    "                                             .otherwise(False))\n",
    "        \n",
    "            # save enhanced gold table\n",
    "            df_silver.write.format(\"delta\").mode(\"overwrite\").option(\"mergeSchema\", \"true\").saveAsTable(\"neo_approaches\")\n",
    "            log_event(\"SUCCESS\", \"Added in_50yr_window column.\")\n",
    "        else:\n",
    "            log_event(\"INFO\", \"in_50yr_window column already exists!\")\n",
    "\n",
    "    except Exception as e:\n",
    "        log_event(\"ERROR\", f\"Error: adding in_50yr_window column: {str(e)}\")\n",
    "        raise e\n",
    "\n",
    "    # AC 3: New object category based on scientific criteria (assumption)\n",
    "    #  NASA considers an object potentially hazardous if:\n",
    "    #  Its minimum orbit intersection distance (MOID) with Earth is less than 0.05 AU (~7.5 million km)\n",
    "    #  AND its absolute magnitude (H) is less than 22, implying a diameter ≥ ~140 meters\n",
    "    try:\n",
    "        if 'hazard_category' not in df_silver.columns:\n",
    "            #df_approach = spark.table(\"neo_approaches\")\n",
    "            df_silver = df_silver.withColumn(\"hazard_category\", when(\n",
    "                                                            ( col(\"is_potentially_hazardous\") == True) & \n",
    "                                                            ( col(\"miss_distance_km\") < 7500000) &\n",
    "                                                            ( col(\"absolute_magnitude_h\") < 22),\n",
    "                                                            \"High Risk\"\n",
    "                                                            ).when(\n",
    "                                                            (col(\"is_potentially_hazardous\") == True),\n",
    "                                                            \"Moderate Risk\"\n",
    "                                                            ).otherwise(\"Low Risk\")\n",
    "                                            ) \n",
    "\n",
    "            # save enriched silver table\n",
    "            df_silver.write.format(\"delta\").mode(\"overwrite\").option(\"mergeSchema\", \"true\").saveAsTable(\"neo_approaches\")\n",
    "            log_event(\"SUCCESS\", \"Added hazard_category column.\")\n",
    "        else:\n",
    "            log_event(\"INFO\", \"hazard_category column already exists!\")\n",
    "    except Exception as e:\n",
    "        log_event(\"INFO\", f\"ERROR: adding hazard_column: {str(e)}\")\n",
    "        raise e\n",
    "\n",
    "    # AC 4: Add columns to support comparative data visualizations showing relationships \n",
    "    # between NEO characteristics—specifically - size, - orbital period, - and approach distance\n",
    "     \n",
    "    try:\n",
    "        if 'log_diameter_max' not in df_silver.columns:\n",
    "            # add \"log_diameter_max\"\n",
    "            df_silver = df_silver.withColumn(\"log_diameter_max\", round(log10(col(\"estimated_diameter_max\") + 1), 2))\n",
    "            # save enriched gold table\n",
    "            df_silver.write.format(\"delta\").mode(\"overwrite\").option(\"mergeSchema\", \"true\").saveAsTable(\"neo_approaches\")\n",
    "            log_event(\"SUCCESS\", \"Added log_diameter_max column.\")\n",
    "        else:\n",
    "            log_event(\"INFO\", \"log_diameter_max column already exists!\")\n",
    "    except Exception as e:\n",
    "        log_event(\"ERROR\", f\"Error: adding log_diameter_max column: {str(e)}\")\n",
    "        raise e  \n",
    "\n",
    "    try:\n",
    "        if 'log_miss_distance' not in df_silver.columns:\n",
    "            # add \"log_miss_distance\"\n",
    "            df_silver = df_silver.withColumn(\"log_miss_distance\", round(log10(col(\"miss_distance_km\") + 1), 2))\n",
    "            # save enriched gold table\n",
    "            df_silver.write.format(\"delta\").mode(\"overwrite\").option(\"mergeSchema\", \"true\").saveAsTable(\"neo_approaches\")\n",
    "            log_event(\"SUCCESS\", \"Added log_miss_distance column.\")\n",
    "        else:\n",
    "            log_event(\"INFO\", \"log_miss_distance column already exists!\")\n",
    "    except Exception as e:\n",
    "        log_event(\"ERROR\", f\"Error: adding log_miss_distance column: {str(e)}\")\n",
    "        raise e\n",
    "\n",
    "    # AC 5:\n",
    "    # US-2-AC 3: create distance categories\n",
    "    try:\n",
    "        if 'distance_category' not in df_silver.columns:\n",
    "            # add 'distance_category'\n",
    "            df_silver = df_silver.withColumn(\"distance_category\", when(col(\"miss_distance_km\") < 100000, \"<100k km\")\n",
    "                                    .when(col(\"miss_distance_km\") < 500000, \"100k-500k km\")\n",
    "                                    .when(col(\"miss_distance_km\") < 1000000, \"500k-1M km\")\n",
    "                                    .when(col(\"miss_distance_km\") < 5000000, \"1M-5M km\")\n",
    "                                    .otherwise (\">5M km\"))\n",
    "            # save enhanced gold table\n",
    "            df_silver.write.format(\"delta\").mode(\"overwrite\").option(\"mergeSchema\", \"true\").saveAsTable(\"neo_approaches\")\n",
    "            log_event(\"SUCCESS\", \"Added distance category column.\")\n",
    "        else:\n",
    "            log_event(\"INFO\", \"distance_category column already exist!\")\n",
    "\n",
    "    except Exception as e:\n",
    "        log_event(\"ERROR\", f\"Error: adding distance_category column: {str(e)}\")\n",
    "        raise e\n",
    "\n",
    "    # US-2-AC 4: create \"hazard_level\" column\n",
    "    try:\n",
    "        if 'hazard_level' not in df_silver.columns:\n",
    "            #add hazard_level column\n",
    "            df_silver = df_silver.withColumn(\"hazard_level\", when(col(\"is_potentially_hazardous\"), \"Hazardous\")\n",
    "                                    .otherwise(\"Non-Hazardous\"))\n",
    "            # save enhanced gold table\n",
    "            df_silver.write.format(\"delta\").mode(\"overwrite\").option(\"mergeSchema\", \"true\").saveAsTable(\"neo_approaches\")\n",
    "            log_event(\"SUCCESS\", \"Added hazard_level column.\")\n",
    "        else:\n",
    "            log_event(\"INFO\", \"hazard_level column already exist!\")\n",
    "\n",
    "    except Exception as e:\n",
    "        log_event(\"ERROR\", f\"Error: adding hazard_level column: {str(e)}\")\n",
    "        raise e\n",
    "\n"
   ]
  },
  {
   "cell_type": "markdown",
   "metadata": {
    "application/vnd.databricks.v1+cell": {
     "cellMetadata": {
      "byteLimit": 2048000,
      "rowLimit": 10000
     },
     "inputWidgets": {},
     "nuid": "5bafad08-de31-44ce-9998-bf6e944548b3",
     "showTitle": false,
     "tableResultSettingsMap": {},
     "title": ""
    }
   },
   "source": [
    "**Call function to build and load 'neo_approach' table**"
   ]
  },
  {
   "cell_type": "code",
   "execution_count": 0,
   "metadata": {
    "application/vnd.databricks.v1+cell": {
     "cellMetadata": {
      "byteLimit": 2048000,
      "rowLimit": 10000
     },
     "inputWidgets": {},
     "nuid": "af34464e-f53b-4b12-b714-b24686224402",
     "showTitle": false,
     "tableResultSettingsMap": {},
     "title": ""
    }
   },
   "outputs": [],
   "source": [
    "try:\n",
    "    log_event(\"INFO\", \"Neo transform started\")\n",
    "\n",
    "    transform_silver()\n",
    "\n",
    "    log_event(\"SUCCESS\", \"Neo transform completed\")   \n",
    "except Exception as e:\n",
    "    log_event(\"ERROR\", f\"Neo transform failed: {str(e)}\")\n",
    "    raise e"
   ]
  }
 ],
 "metadata": {
  "application/vnd.databricks.v1+notebook": {
   "computePreferences": null,
   "dashboards": [],
   "environmentMetadata": {
    "base_environment": "",
    "environment_version": "3"
   },
   "inputWidgetPreferences": null,
   "language": "python",
   "notebookMetadata": {
    "pythonIndentUnit": 4
   },
   "notebookName": "neo_transform_slv",
   "widgets": {}
  },
  "language_info": {
   "name": "python"
  }
 },
 "nbformat": 4,
 "nbformat_minor": 0
}