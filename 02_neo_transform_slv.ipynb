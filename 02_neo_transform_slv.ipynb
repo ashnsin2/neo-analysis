{
 "cells": [
  {
   "cell_type": "markdown",
   "metadata": {
    "application/vnd.databricks.v1+cell": {
     "cellMetadata": {
      "byteLimit": 2048000,
      "rowLimit": 10000
     },
     "inputWidgets": {},
     "nuid": "a40a36c1-e5ca-418c-9edc-ea87a386b27f",
     "showTitle": false,
     "tableResultSettingsMap": {},
     "title": ""
    }
   },
   "source": [
    "**Import Libraries**"
   ]
  },
  {
   "cell_type": "code",
   "execution_count": 0,
   "metadata": {
    "application/vnd.databricks.v1+cell": {
     "cellMetadata": {
      "byteLimit": 2048000,
      "rowLimit": 10000
     },
     "inputWidgets": {},
     "nuid": "ec9cbd15-4f2a-43a5-aa34-b060ca3fcdaa",
     "showTitle": false,
     "tableResultSettingsMap": {},
     "title": ""
    }
   },
   "outputs": [],
   "source": [
    "from pyspark.sql import SparkSession\n",
    "from pyspark.sql.functions import when, col, lit, to_date, log10, round, from_json, explode\n",
    "from datetime import datetime, timedelta"
   ]
  },
  {
   "cell_type": "markdown",
   "metadata": {
    "application/vnd.databricks.v1+cell": {
     "cellMetadata": {
      "byteLimit": 2048000,
      "rowLimit": 10000
     },
     "inputWidgets": {},
     "nuid": "12e5f260-5c25-429c-8c2a-5129f23d7053",
     "showTitle": false,
     "tableResultSettingsMap": {},
     "title": ""
    }
   },
   "source": [
    "**Logging**"
   ]
  },
  {
   "cell_type": "code",
   "execution_count": 0,
   "metadata": {
    "application/vnd.databricks.v1+cell": {
     "cellMetadata": {
      "byteLimit": 2048000,
      "rowLimit": 10000
     },
     "inputWidgets": {},
     "nuid": "1b19da4d-9585-41a7-9613-178bd311b281",
     "showTitle": false,
     "tableResultSettingsMap": {},
     "title": ""
    }
   },
   "outputs": [],
   "source": [
    "spark = SparkSession.builder.appName(\"Neo Transform\").getOrCreate()\n",
    "\n",
    "def log_event(level, message):\n",
    "    log_df = spark.createDataFrame([(datetime.now(), level, message)],[\"timestamp\", \"level\", \"message\"])\n",
    "    log_df.write.format(\"delta\").mode(\"append\").saveAsTable(\"neo_logs\")\n",
    "    \n"
   ]
  },
  {
   "cell_type": "markdown",
   "metadata": {
    "application/vnd.databricks.v1+cell": {
     "cellMetadata": {
      "byteLimit": 2048000,
      "rowLimit": 10000
     },
     "inputWidgets": {},
     "nuid": "bf3b0260-d251-4f50-a0ba-50971238dd0a",
     "showTitle": false,
     "tableResultSettingsMap": {},
     "title": ""
    }
   },
   "source": [
    "**Silver Layer: feature engineering**"
   ]
  },
  {
   "cell_type": "code",
   "execution_count": 0,
   "metadata": {
    "application/vnd.databricks.v1+cell": {
     "cellMetadata": {
      "byteLimit": 2048000,
      "rowLimit": 10000
     },
     "inputWidgets": {},
     "nuid": "450689a2-9e8a-446a-83e1-6ddb62aa8572",
     "showTitle": false,
     "tableResultSettingsMap": {},
     "title": ""
    }
   },
   "outputs": [],
   "source": [
    "def transform_silver():\n",
    "\n",
    "    df_neos = spark.table(\"neos\")\n",
    "    df_approaches = spark.table(\"approaches\")\n",
    "    df_orbit = spark.table(\"orbits\")\n",
    "\n",
    "    df_silver_join = df_approaches.join(df_neos, df_approaches.neo_id == df_neos.id, \"inner\").withColumn(\"close_approach_date\", to_date(\"close_approach_date\")).join(df_orbit, df_neos.id == df_orbit.orbit_id, \"inner\")\n",
    "\n",
    "    silver_df = df_silver_join.select(\n",
    "        col(\"id\").alias(\"neo_id\"),\n",
    "        \"name\", \n",
    "        round(col(\"absolute_magnitude_h\"), 2).alias(\"absolute_magnitude_h\"),  \n",
    "        round(col(\"estimated_diameter_min\"), 2).alias(\"diameter_min_m\"),\n",
    "        round(col(\"estimated_diameter_max\"), 2).alias(\"diameter_max_m\"),\n",
    "        \"is_potentially_hazardous\",\n",
    "        \"close_approach_date\", \n",
    "        round(col(\"relative_velocity_km_h\"), 2).alias(\"velocity_km_h\"),\n",
    "        round(col(\"relative_velocity_km_s\"), 2).alias(\"velocity_km_s\"),\n",
    "        round(col(\"miss_distance_km\"), 2).alias(\"miss_distance_km\"),            \n",
    "        \"orbiting_body\",\n",
    "        round(col(\"orbital_period_days\"), 2).alias(\"orbital_period_days\"),         \n",
    "        round(col(\"orbital_period_years\"), 2).alias(\"orbital_period_years\"),          \n",
    "        \"semi_major_axis\",\n",
    "        \"eccentricity\",\n",
    "        \"inclination\"\n",
    "    )\n",
    "\n",
    "    # define \"50year windows\"\n",
    "    today = datetime.today().date()\n",
    "    past_25 = today - timedelta(days=25*365)\n",
    "    future_25 = today + timedelta(days=25*365)\n",
    "\n",
    "    # Filter data, add the derived columns\n",
    "    df_silver = (silver_df.filter\n",
    "    (\n",
    "        col(\"diameter_min_m\").isNotNull() & \n",
    "        col(\"diameter_max_m\").isNotNull() &\n",
    "        col(\"orbital_period_years\").isNotNull() &\n",
    "        col(\"miss_distance_km\").isNotNull()\n",
    "        ).withColumn(\n",
    "            \"size_avg\", (silver_df[\"diameter_min_m\"] + silver_df[\"diameter_max_m\"]) / 2\n",
    "        ).withColumn(\"size_category\", when(col(\"size_avg\") < 10, \"<10m\")\n",
    "                                .when(col(\"size_avg\") < 50, \"10-50m\")\n",
    "                                .when(col(\"size_avg\") < 100, \"50-100m\")\n",
    "                                .when(col(\"size_avg\") < 500, \"100m-500m\")\n",
    "                                .otherwise(\">500m\")\n",
    "        ).withColumn(\"size_category_label\", when(col(\"diameter_max_m\") < 150, \"Small\")\n",
    "                                .when(col(\"diameter_max_m\") < 500, \"Medium\")\n",
    "                                .otherwise(\"Large\")\n",
    "        ).withColumn(\"in_50yr_window\", \n",
    "                     when((col(\"close_approach_date\") >= lit(past_25)) & \n",
    "                          ((col(\"close_approach_date\") <= lit(future_25))), True)\n",
    "                          .otherwise(False)\n",
    "        ).withColumn(\"hazard_category\", when(( col(\"is_potentially_hazardous\") == True) & \n",
    "                                             ( col(\"miss_distance_km\") < 7500000) &\n",
    "                                             ( col(\"absolute_magnitude_h\") < 22),\n",
    "                                                            \"High Risk\"\n",
    "                                        ).when((col(\"is_potentially_hazardous\") == True),\n",
    "                                                    \"Moderate Risk\"\n",
    "                                              ).otherwise(\"Low Risk\")\n",
    "        ).withColumn(\"log_diameter_max\", round(log10(col(\"diameter_max_m\") + 1), 2)\n",
    "        ).withColumn(\"log_miss_distance\", round(log10(col(\"miss_distance_km\") + 1), 2)\n",
    "        ).withColumn(\"distance_category\", when(col(\"miss_distance_km\") < 100000, \"<100k km\")\n",
    "                                    .when(col(\"miss_distance_km\") < 500000, \"100k-500k km\")\n",
    "                                    .when(col(\"miss_distance_km\") < 1000000, \"500k-1M km\")\n",
    "                                    .when(col(\"miss_distance_km\") < 5000000, \"1M-5M km\")\n",
    "                                    .otherwise (\">5M km\")\n",
    "        ).withColumn(\"hazard_level\", when(col(\"is_potentially_hazardous\"), \"Hazardous\")\n",
    "                                    .otherwise(\"Non-Hazardous\"))\n",
    "    )       \n",
    "        \n",
    "        \n",
    "    return df_silver\n",
    "\n",
    "\n"
   ]
  },
  {
   "cell_type": "markdown",
   "metadata": {
    "application/vnd.databricks.v1+cell": {
     "cellMetadata": {
      "byteLimit": 2048000,
      "rowLimit": 10000
     },
     "inputWidgets": {},
     "nuid": "2339106e-d052-45ad-991c-3487dec97176",
     "showTitle": false,
     "tableResultSettingsMap": {},
     "title": ""
    }
   },
   "source": [
    "**Write Silver**"
   ]
  },
  {
   "cell_type": "code",
   "execution_count": 0,
   "metadata": {
    "application/vnd.databricks.v1+cell": {
     "cellMetadata": {
      "byteLimit": 2048000,
      "rowLimit": 10000
     },
     "inputWidgets": {},
     "nuid": "2b42cad0-8af8-4754-8878-e366e71d1e22",
     "showTitle": false,
     "tableResultSettingsMap": {},
     "title": ""
    }
   },
   "outputs": [],
   "source": [
    "def write_silver(df, table_name):\n",
    "    try:\n",
    "        if df.isEmpty():\n",
    "            log_event(\"INFO\", f\"No data to write to silver table: {table_name}\")\n",
    "            return\n",
    "        df.write.format(\"delta\").option(\"overwriteSchema\", \"true\").mode(\"overwrite\").saveAsTable(table_name)\n",
    "        log_event(\"INFO\", f\"Data written to silver table: {table_name}\")\n",
    "    except Exception as e:\n",
    "        log_event(\"ERROR\", f\"Error writing data to silver table: {table_name}. Error: {e}\")\n",
    "        raise e"
   ]
  },
  {
   "cell_type": "markdown",
   "metadata": {
    "application/vnd.databricks.v1+cell": {
     "cellMetadata": {
      "byteLimit": 2048000,
      "rowLimit": 10000
     },
     "inputWidgets": {},
     "nuid": "af9520d4-70b7-4a9a-9a41-2041460b6090",
     "showTitle": false,
     "tableResultSettingsMap": {},
     "title": ""
    }
   },
   "source": [
    "**Orchestrate the pipeline**"
   ]
  },
  {
   "cell_type": "code",
   "execution_count": 0,
   "metadata": {
    "application/vnd.databricks.v1+cell": {
     "cellMetadata": {
      "byteLimit": 2048000,
      "rowLimit": 10000
     },
     "inputWidgets": {},
     "nuid": "986968a8-a044-46c4-8d6d-3ee28e8e16c6",
     "showTitle": false,
     "tableResultSettingsMap": {},
     "title": ""
    }
   },
   "outputs": [],
   "source": [
    "def run_neo_transform():\n",
    "    neo_silver = transform_silver()\n",
    "    write_silver(neo_silver, \"neo_approaches\")"
   ]
  },
  {
   "cell_type": "markdown",
   "metadata": {
    "application/vnd.databricks.v1+cell": {
     "cellMetadata": {
      "byteLimit": 2048000,
      "rowLimit": 10000
     },
     "inputWidgets": {},
     "nuid": "c52eb549-3034-4ebf-b627-2a9e3ce6e4ef",
     "showTitle": false,
     "tableResultSettingsMap": {},
     "title": ""
    }
   },
   "source": [
    "**Run the pipeline**"
   ]
  },
  {
   "cell_type": "code",
   "execution_count": 0,
   "metadata": {
    "application/vnd.databricks.v1+cell": {
     "cellMetadata": {
      "byteLimit": 2048000,
      "rowLimit": 10000
     },
     "inputWidgets": {},
     "nuid": "383e3073-443e-417b-9c27-01026324d160",
     "showTitle": false,
     "tableResultSettingsMap": {},
     "title": ""
    }
   },
   "outputs": [],
   "source": [
    "run_neo_transform()"
   ]
  }
 ],
 "metadata": {
  "application/vnd.databricks.v1+notebook": {
   "computePreferences": null,
   "dashboards": [],
   "environmentMetadata": {
    "base_environment": "",
    "environment_version": "3"
   },
   "inputWidgetPreferences": null,
   "language": "python",
   "notebookMetadata": {
    "pythonIndentUnit": 4
   },
   "notebookName": "02_neo_transform_slv",
   "widgets": {}
  },
  "language_info": {
   "name": "python"
  }
 },
 "nbformat": 4,
 "nbformat_minor": 0
}